{
 "cells": [
  {
   "cell_type": "markdown",
   "id": "7b2ad7b4",
   "metadata": {},
   "source": [
    "## How many CPUs will the threading library use?\n",
    "\n",
    "The Python threading library generally does not increase the number of CPUs used by your program.\n",
    "\n",
    "The threading library provides a way to create and manage threads within a single process. However, due to the Global Interpreter Lock (GIL) in CPython (the standard Python implementation), only one thread can execute Python bytecode at a time. This means that even if you create multiple threads using the threading library, they will not run concurrently across multiple CPU cores.\n",
    "\n",
    "Instead, the threads will take turns executing, and the operating system's scheduler will handle the allocation of CPU time to each thread. The GIL is released during I/O-bound operations, allowing multiple threads to make progress when waiting for I/O operations like file I/O or network requests.\n",
    "\n",
    "To take advantage of multiple CPU cores and achieve true parallelism in Python, you can use the multiprocessing module, which creates separate processes that run independently and can utilize multiple CPU cores. Each process has its own Python interpreter and memory space, allowing true parallelism to be achieved.\n",
    "\n",
    "\n",
    "Ans: ONE"
   ]
  },
  {
   "cell_type": "markdown",
   "id": "23ec9ed3",
   "metadata": {},
   "source": [
    "## Which of the following codes raises an exception?\n",
    "\n",
    "1.  #test\n",
    "\n",
    "2. a={1, 2, \\ #comment 3, 4}\n",
    "\n",
    "3.  a={1, 2, #comment 3, 4}\n",
    "       \n",
    "ans: 2"
   ]
  },
  {
   "cell_type": "markdown",
   "id": "68b6cdb8",
   "metadata": {},
   "source": [
    "## Which of the following follow PEP8?\n",
    "## Please select 2 correct answers\n",
    "\n",
    "1. print([2::7])\n",
    "\n",
    "2.  print (“Hello”)\n",
    "\n",
    "3. groceries = (‘milk’, )\n",
    "\n",
    "4. print(“Hi”) ; print(“Hello”)\n",
    "\n",
    "5. scores = {'Ayushi': 97, 'Megha': 98}\n",
    "\n",
    "ans: 3 & 5\n",
    "    \n",
    "groceries = ('milk', ) - Variable names should be lowercase and words separated by underscores.\n",
    "\n",
    "The line groceries = ('milk',) assigns a tuple containing a single element, which is the string 'milk', to the variable groceries. Tuples in Python are defined using parentheses () and can contain one or more elements separated by commas. In this case, the tuple contains only one element, which is the string 'milk'.\n",
    "\n",
    "The comma after 'milk' is necessary to indicate that it's a tuple with one element. Without the comma, Python would interpret the expression as just a string enclosed in parentheses, rather than a tuple.\n",
    "\n",
    "\n",
    "scores = {'Ayushi': 97, 'Megha': 98} - Dictionary keys should be lowercase, and strings should be enclosed in single or double quotes consistently.\n",
    "\n",
    "The other options do not follow PEP8:\n",
    "\n",
    "print([2::7]): Incorrect syntax for slicing.\n",
    "    \n",
    "print ('Hello'): Inconsistent use of whitespace around the parentheses.\n",
    "    \n",
    "print('Hi') ; print('Hello'): Multiple statements should be separated on different lines or joined using a semicolon with whitespace around it."
   ]
  },
  {
   "cell_type": "markdown",
   "id": "5284ac0b",
   "metadata": {},
   "source": [
    "# What will this code print?\n",
    "a=7\n",
    "  \n",
    "    print(a+1)\n",
    "\n",
    "1. 8\n",
    "\n",
    "2. a + 1\n",
    "\n",
    "3. This code will raise an exception\n",
    "\n",
    "4. None of the above\n",
    "\n",
    "ans: 3 \n",
    "This code will raise an IndentationError because the print(a+1) statement is indented too much"
   ]
  },
  {
   "cell_type": "markdown",
   "id": "20d5424e",
   "metadata": {},
   "source": [
    "# What is the maximum value for an integer in Python 3?\n",
    "\n",
    "1. 2^63-1\n",
    "\n",
    "2. 32767\n",
    "\n",
    "3. 65536\n",
    "\n",
    "4. No limit\n",
    "\n",
    "Python 3 introduced a new integer type called long which is automatically used when an integer exceeds the maximum value of the int type. This means that Python 3 can handle arbitrarily large integers without the need for a separate long type\n",
    "    \n",
    "ans: 4"
   ]
  },
  {
   "cell_type": "markdown",
   "id": "20d8789c",
   "metadata": {},
   "source": [
    "## How do you denote the end of a block in Python 3?\n",
    "\n",
    "1. By indenting the next line less than the current\n",
    "\n",
    "2. With a semicolon }\n",
    "\n",
    "3. With the end keyword\n",
    "\n",
    "4. With a backslash \\\n",
    "\n",
    "ans: 1"
   ]
  },
  {
   "cell_type": "markdown",
   "id": "ffe87377",
   "metadata": {},
   "source": [
    "# Which of these if-statements work?\n",
    "Please select 2 correct answers\n",
    "\n",
    "1. if i > 7: print(‘Hello’)\n",
    "        \n",
    "2. if i > 7: if i 7: print(‘Hello’) else: print(‘Hi’)\n",
    "            \n",
    "3. print(‘Hello’) if i > 7 else print(‘Hi’)\n",
    "\n",
    "ans : 3"
   ]
  },
  {
   "cell_type": "markdown",
   "id": "922de6f6",
   "metadata": {},
   "source": [
    "# In this list, how will you access the letter ‘t’ in ‘bat’?\n",
    "list = [1, [‘a’, ‘b’, [‘kill’, ‘bat’, ‘cup’], ‘c’], 3]\n",
    "\n",
    "1. list[1, 2, 1, 2]\n",
    "    \n",
    "2. list[2][1][2]\n",
    "\n",
    "3. list[1][2][1][2]\n",
    "    \n",
    "4. list[1][2][1]\n",
    "\n",
    "ans: 3"
   ]
  },
  {
   "cell_type": "markdown",
   "id": "0c3e005f",
   "metadata": {},
   "source": [
    "# How will you turn the list a = [1, 2, 7, 8] into [1, 2, 3, 4, 5, 6, 7, 8]?\n",
    "Please select 2 correct answers\n",
    "\n",
    "1. a[2:2] = [3, 4, 5, 6]\n",
    "    \n",
    "2. a[2:3] = [3, 4, 5, 6, 7]\n",
    "\n",
    "3. a[2:2] = [3, 4, 5, 6, 7]\n",
    "    \n",
    "4. a[2:3] = [3, 4, 5, 6]\n",
    "\n",
    "ans: 1 & 2"
   ]
  },
  {
   "cell_type": "markdown",
   "id": "b799fb9d",
   "metadata": {},
   "source": [
    "## What is the value of y?\n",
    "x, y, z = (1, 2, 3, 4, 5, 6, 7, 8, 9, 10)[2::3]\n",
    "\n",
    "1. 2\n",
    "\n",
    "2. 5\n",
    "\n",
    "3. 6\n",
    "\n",
    "4. This code raises an exception\n",
    "\n",
    "ans: 3\n",
    "\n",
    "In Python, the syntax list[start:end:step] is used to create a sublist from the original list"
   ]
  },
  {
   "cell_type": "markdown",
   "id": "2209d600",
   "metadata": {},
   "source": [
    "## What is the result of {1, 2, 3} & {4, 5, 6}?\n",
    "\n",
    "1. {}\n",
    "\n",
    "2. set()\n",
    "\n",
    "3. {1, 2, 3, 4, 5, 6}\n",
    "\n",
    "4. None of the above\n",
    "\n",
    "ans: 2"
   ]
  },
  {
   "cell_type": "markdown",
   "id": "899badae",
   "metadata": {},
   "source": [
    "## Which statements delete the value ‘milk’ from the set s = {'milk', 'cheese', 'butter', 'buttermilk'}?\n",
    "Please select 4 correct answers\n",
    "\n",
    "1. s.discard('milk')\n",
    "\n",
    "2. del s['milk']\n",
    "\n",
    "3. s -= 'milk'\n",
    "\n",
    "4. s -= {'milk'}\n",
    "\n",
    "5. s &= {'cheese', 'butter', 'buttermilk'}\n",
    "\n",
    "6. s.difference_update({'milk'})\n",
    "\n",
    "7. s.pop()\n",
    "\n",
    "ans: 1, 4, 5 & 6"
   ]
  },
  {
   "cell_type": "markdown",
   "id": "8fcffb01",
   "metadata": {},
   "source": [
    "## In the following code, how many objects and references does Python create?\n",
    "name = ‘Ayushi’\n",
    "fname = name\n",
    "\n",
    "1. One object, one reference\n",
    "\n",
    "2. One object, two references\n",
    "\n",
    "3. Two objects, one reference\n",
    "\n",
    "4. Two objects, two references\n",
    "\n",
    "ans: 2"
   ]
  },
  {
   "cell_type": "markdown",
   "id": "ccdd4b7a",
   "metadata": {},
   "source": [
    "## According to PEP 8, what case should you use for variable names with more than one word?\n",
    "\n",
    "1. Camel case\n",
    "\n",
    "2. Pascal case\n",
    "\n",
    "3. Snake case\n",
    "\n",
    "4. Kebab case\n",
    "\n",
    "5. Upper case with snake case\n",
    "\n",
    "ans: 3\n",
    "    \n",
    "PEP 8 provides guidelines for variable naming conventions in Python. When it comes to variable names with more than one word, PEP 8 recommends using snake case. Snake case is a naming convention where words are separated by underscores and all letters are lowercase"
   ]
  },
  {
   "cell_type": "markdown",
   "id": "60d23974",
   "metadata": {},
   "source": [
    "## What is the output of the following code?\n",
    "nums = [[val for val in range(num)] for num in range(3)]\n",
    "for num in nums:\n",
    "    for val in num:\n",
    "        if val < 2:\n",
    "            print('*', end='')\n",
    "\n",
    "1. *\n",
    "\n",
    "2. **\n",
    "\n",
    "3. ***\n",
    "\n",
    "4. ****\n",
    "\n",
    "ans: 3"
   ]
  },
  {
   "cell_type": "markdown",
   "id": "2c74d66c",
   "metadata": {},
   "source": [
    "## What is the output of this code?\n",
    "a,b=1,0\n",
    "a=a^b\n",
    "b=a^b\n",
    "a=a^b\n",
    "print(a)\n",
    "\n",
    "1. 0\n",
    "\n",
    "2. 1\n",
    "\n",
    "3. 2\n",
    "\n",
    "4. This code will raise a runtime error\n",
    "\n",
    "ans: 1\n",
    "    \n",
    "The expression 1^1 represents the bitwise XOR operation between two numbers, where the result is 1 if the corresponding bits are different, and 0 if the bits are the same.\n",
    "\n",
    "In this case, 1^1 evaluates to 0 because both 1 and 1 have the same bit value."
   ]
  },
  {
   "cell_type": "markdown",
   "id": "076a1486",
   "metadata": {},
   "source": [
    "## What is the value of this expression?\n",
    "2**2**3**1\n",
    "\n",
    "1. 12\n",
    "\n",
    "2. 64\n",
    "\n",
    "3. 128\n",
    "\n",
    "4. 256\n",
    "\n",
    "5. This code will raise an exception\n",
    "\n",
    "ans: 4"
   ]
  },
  {
   "cell_type": "markdown",
   "id": "807cf724",
   "metadata": {},
   "source": [
    "## Select all the correct statements.\n",
    "Please select 3 correct answers\n",
    "\n",
    "1. You can pass positional arguments in any order.\n",
    "\n",
    "2. You can pass keyword arguments in any order.\n",
    "\n",
    "3. You can call a function with positional and keyword arguments.\n",
    "\n",
    "4. Positional arguments must be before keyword arguments in a function call.\n",
    "\n",
    "ans: 2, 3, 4"
   ]
  },
  {
   "cell_type": "code",
   "execution_count": 42,
   "id": "49cc9682",
   "metadata": {},
   "outputs": [
    {
     "name": "stdout",
     "output_type": "stream",
     "text": [
      "Hello John\n",
      "Your age is 25\n",
      "Hello Alice\n",
      "Your age is 30\n",
      "Hello Bob\n",
      "Your age is 35\n"
     ]
    }
   ],
   "source": [
    "def greet(name, age):\n",
    "    print(\"Hello\", name)\n",
    "    print(\"Your age is\", age)\n",
    "\n",
    "# Calling the function with positional arguments not any order with order\n",
    "greet(\"John\", 25)\n",
    "\n",
    "# Calling the function with keyword arguments\n",
    "greet(age=30, name=\"Alice\")\n",
    "\n",
    "# Calling the function with a mix of positional and keyword arguments but Positional arguments must be before keyword arguments in a function cal\n",
    "greet(\"Bob\", age=35)"
   ]
  },
  {
   "cell_type": "markdown",
   "id": "7b19072a",
   "metadata": {},
   "source": [
    "## How will you open a file for reading as a text file?\n",
    "Please select 2 correct answers\n",
    "\n",
    "1. open('file.txt')\n",
    "\n",
    "2. open('file.txt', 'r’)\n",
    "        \n",
    "3. open('file.txt', w’)\n",
    "        \n",
    "4. open('file.txt', 'b’)\n",
    "        \n",
    "ans:  2"
   ]
  },
  {
   "cell_type": "markdown",
   "id": "df19508c",
   "metadata": {},
   "source": [
    "## Suppose you have two sets s1 = {1, 2, 3} and s2 = {3, 4, 5}. Which of the following statements give us their union?\n",
    "Please select 5 correct answers\n",
    "\n",
    "1. s1.union({3, 4, 5})\n",
    "\n",
    "2. s1 | {3, 4, 5}\n",
    "\n",
    "3. s1.union([3, 4, 5])\n",
    "\n",
    "4. s1 | [3, 4, 5]\n",
    "\n",
    "5. s1.union(set([3, 4, 5]))\n",
    "\n",
    "6. s1 | set([3, 4, 5])\n",
    "\n",
    "ans: 1, 2, 3, 5, 6"
   ]
  },
  {
   "cell_type": "markdown",
   "id": "1d5f0a26",
   "metadata": {},
   "source": [
    "## Polymorphism is when a subclass can modify the behavior of its superclass.\n",
    "\n",
    "ans: True"
   ]
  },
  {
   "cell_type": "markdown",
   "id": "320ee810",
   "metadata": {},
   "source": [
    "##  Please tell us what the lag-plot method does in Python.\n",
    "\n",
    "If your job opening requires you to find a candidate with strong technical Python expertise, this interview question will help you evaluate their knowledge. \n",
    "\n",
    "Candidates should explain that lag-plot methods are scatter plot graphs with X- and Y-axes. On the graphs, the X-axis shows the time series data, and the Y-axis shows the lag of the time series.\n",
    "\n",
    "Data scientists can use the lag-plot method to check whether datasets are random. They help with autocorrelation checks in time-series data; additionally, using this method allows candidates to assess whether the dataset has a specific structure. "
   ]
  },
  {
   "cell_type": "code",
   "execution_count": 44,
   "id": "e5a68252",
   "metadata": {},
   "outputs": [
    {
     "data": {
      "image/png": "[encoded data removed]",
      "text/plain": [
       "<Figure size 640x480 with 1 Axes>"
      ]
     },
     "metadata": {},
     "output_type": "display_data"
    }
   ],
   "source": [
    "import pandas as pd\n",
    "import numpy as np\n",
    "import matplotlib.pyplot as plt\n",
    "\n",
    "# Generate some sample time series data\n",
    "np.random.seed(0)\n",
    "time_series = pd.Series(np.random.randn(100))\n",
    "\n",
    "# Create a lag plot with lag=1\n",
    "lag = 1\n",
    "lagged_time_series = time_series.shift(lag)\n",
    "plt.scatter(time_series, lagged_time_series)\n",
    "plt.xlabel('Value at time t')\n",
    "plt.ylabel(f'Value at time t-{lag}')\n",
    "plt.title(f'Lag Plot (lag={lag})')\n",
    "plt.grid(True)\n",
    "plt.show()"
   ]
  },
  {
   "cell_type": "markdown",
   "id": "10fef3e3",
   "metadata": {},
   "source": [
    "# How are problem-solving skills essential for Python data scientists?\n",
    "\n",
    "As stated by the US Bureau of Labor Statistics, problem-solving skills are essential for data scientists, enabling them to develop different statistical methods and algorithms to analyze the data. \n",
    "\n",
    "Look for candidates who understand how specific problem-solving skills, such as closely analyzing data, can help them predict trends or notice anomalies.\n",
    "\n",
    "When you do a competency-based interview with data scientists, make sure they can offer specific examples of their problem-solving experience. This will enable you to learn how they work and whether they can adapt to what your organization needs.\n",
    "\n",
    "Consider whether candidates can name other scenarios in which they have solved technical data issues to help companies make data-driven decisions. Enquire about the approaches they used, such as to:\n",
    "\n",
    "Analyze complex data sets\n",
    "\n",
    "Use data to validate their findings\n",
    "\n",
    "Clean data"
   ]
  },
  {
   "cell_type": "markdown",
   "id": "b8ccaa4d",
   "metadata": {},
   "source": [
    "# Why are attention to detail and soft skills important for Python data scientists?\n",
    "\n",
    "To be successful, candidates need specific soft skills such as attention to detail, communication, and interpersonal skills – and be able to explain why they are important. \n",
    "\n",
    "Attention to detail, for example, is crucial because it can enhance your candidates’ output and ensure they don’t overlook details in their data.\n",
    "\n",
    "Candidates should also mention that attention to detail helps data scientists in many scenarios, including when they have to:\n",
    "\n",
    "Identify trends in data that might not be immediately obvious\n",
    "\n",
    "Work with large datasets that might contain inconsistencies\n",
    "\n",
    "Ensure that datasets don’t have missing data"
   ]
  },
  {
   "cell_type": "markdown",
   "id": "9af61bc3",
   "metadata": {},
   "source": [
    "#  Please name two evaluation metrics you can use for regression problems.\n",
    "\n",
    "Data scientists need different evaluation metrics for regression problems to objectively measure their models’ performance, adjust data models, and make accurate predictions about new data. \n",
    "\n",
    "These predictions help data scientists enhance decision-making, optimize resource allocation, and reduce risks.\n",
    "\n",
    "Candidates can prove their knowledge by responding to this interview question with two examples of evaluation metrics that they use:\n",
    "\n",
    "Mean squared error (MSE): This evaluation metric measures the squared difference between existing and predicted values of regression models\n",
    "\n",
    "R-squared: This evaluation metric measures the proportion of variance in the dependent variable that the independent variable explains in a regression model\n",
    "\n",
    "Don’t forget to ask your candidates how these metrics have helped them adjust their models in the past and to check whether they could accurately predict the relationship between two or more variables in past projects. "
   ]
  },
  {
   "cell_type": "markdown",
   "id": "aa7b7397",
   "metadata": {},
   "source": [
    "## Please explain what PEP 8 is.\n",
    "PEP 8 is a document that offers specific coding practices for Python, helping candidates improve their code’s consistency by promoting a readable coding style. This is useful because it helps other Python developers debug, modify, and understand the codebase. \n",
    "\n",
    "Skilled data scientists in your applicant pool who produce quality code should know that this extensive guide offers information about the following:\n",
    "\n",
    "Naming conventions: Data scientists should never use the lowercase version of “L,” the uppercase “O,” or the uppercase “I,” because in some fonts, they’re indistinguishable from one and zero\n",
    "\n",
    "Whitespace usage: Data scientists should avoid whitespace in a few situations, including inside parentheses, between trailing commas and closing parentheses, and before a comma or semicolon \n",
    "\n",
    "Code layout: Data scientists should limit their code lines to a maximum of 79 characters\n",
    "\n",
    "Data scientists should know basic specifications in PEP 8, such as instructions related to indentation, comments, and when to use trailing commas. These recommendations also help developers add new features to their applications when maintaining their code.\n",
    "\n",
    "According to the Python community documentation, some data scientists use auto formatters for automated code formatting. However, PEP 8 is still essential. Many data scientists use it, and it’s still popular, with engineers updating the documentation in 2023."
   ]
  },
  {
   "cell_type": "markdown",
   "id": "dcaa4b3b",
   "metadata": {},
   "source": [
    "## Please explain what _init_.py does.\n",
    "Candidates should understand that _init_.py is a file in Python that data scientists use to mark directories as Python packages. It signals to the Python interpreter that a directory contains code for modules and ensures that Python treats directories as modules.\n",
    "\n",
    "It’s important that candidates can name some of the advantages of _init_.py files, because they help with module importation from various parts of the code. This helps in the finance industry, when data scientists need to organize financial models, and in healthcare, when organizing medical records. \n",
    "\n",
    "Candidates who have good technical knowledge of Python will know that _init_.py files also help keep code organized  into reusable modules for different projects. They may be ideal for data science roles, in which strong programming skills are necessary. "
   ]
  },
  {
   "cell_type": "markdown",
   "id": "26e56c40",
   "metadata": {},
   "source": [
    "## How would your manager rate your Matplotlib skills?\n",
    "\n",
    "Based on my experience, I would rate my Matplotlib skills as proficient. I have used Matplotlib extensively to create various types of plots and visualizations for data analysis and presentations. I am comfortable with customizing plot styles, adding annotations, and creating publication-quality graphics."
   ]
  },
  {
   "cell_type": "markdown",
   "id": "2bf72d08",
   "metadata": {},
   "source": [
    "## Please define what overfitting a dataset means.\n",
    "\n",
    "Overfitting occurs when a machine learning model learns the training data too well, capturing noise or random fluctuations in the data rather than the underlying patterns. This leads to poor generalization performance on unseen data"
   ]
  },
  {
   "cell_type": "markdown",
   "id": "d2c4e384",
   "metadata": {},
   "source": [
    "## How would your manager rate your arrays skills?\n",
    "\n",
    "I would rate my arrays skills as advanced. I have a strong understanding of NumPy and its array manipulation capabilities. I am proficient in creating, indexing, and slicing arrays, as well as performing vectorized operations and broadcasting. I am also familiar with advanced array techniques such as masking, stacking, and concatenation."
   ]
  },
  {
   "cell_type": "markdown",
   "id": "96330ba5",
   "metadata": {},
   "source": [
    "## How would your team rate your scikit-learn skills?\n",
    "\n",
    "I believe my team would rate my scikit-learn skills as proficient. I have successfully applied scikit-learn to various machine learning projects, including classification, regression, clustering, and dimensionality reduction tasks. I am experienced in preprocessing data, selecting and tuning models, and evaluating model performance using cross-validation and metrics."
   ]
  },
  {
   "cell_type": "markdown",
   "id": "96f1256d",
   "metadata": {},
   "source": [
    "## How would your team rate your Pandas skills?\n",
    "\n",
    "My team would rate my Pandas skills as advanced. I have extensive experience working with Pandas for data manipulation, cleaning, and analysis tasks. I am proficient in loading data from various sources, performing data wrangling operations such as filtering, grouping, and merging, and handling missing or duplicate values. I am also skilled in reshaping and pivoting data, as well as working with datetime and categorical data types."
   ]
  },
  {
   "cell_type": "markdown",
   "id": "23126991",
   "metadata": {},
   "source": [
    "## Please explain what confounding factors are.\n",
    "\n",
    "Confounding factors are variables that can affect the outcome of an experiment or study but are not the main variable of interest. They can distort the relationship between the independent and dependent variables, leading to incorrect conclusions.\n",
    "\n",
    "For example, consider a study investigating the relationship between exercise and weight loss. The independent variable is the amount of exercise, and the dependent variable is weight loss. However, factors like age, diet, metabolism, and genetic predisposition can also influence weight loss. If these factors are not properly accounted for or controlled in the study, they can confound the results, making it difficult to determine the true effect of exercise on weight loss."
   ]
  },
  {
   "cell_type": "markdown",
   "id": "c9dfca0d",
   "metadata": {},
   "source": [
    "## Can you explain what broadcasting means for NumPy arrays?\n",
    "\n",
    "Broadcasting in NumPy refers to the ability to perform arithmetic operations between arrays of different shapes. When performing operations on arrays with different shapes, NumPy automatically adjusts the shapes of the arrays to make the operation possible, without the need for explicit looping.\n",
    "\n",
    "Broadcasting works by extending the dimensions of one or both arrays to make their shapes compatible for element-wise operations. The smaller array is \"broadcast\" across the larger array so that they have compatible shapes for the operation"
   ]
  },
  {
   "cell_type": "code",
   "execution_count": 46,
   "id": "cbf8ed08",
   "metadata": {},
   "outputs": [
    {
     "name": "stdout",
     "output_type": "stream",
     "text": [
      "[11 12 13 14 15]\n"
     ]
    }
   ],
   "source": [
    "import numpy as np\n",
    "\n",
    "# Define a 1-dimensional array\n",
    "x = np.array([1, 2, 3, 4, 5])\n",
    "\n",
    "# Add a scalar value to the array\n",
    "result = x + 10\n",
    "\n",
    "print(result)"
   ]
  },
  {
   "cell_type": "markdown",
   "id": "b0b14859",
   "metadata": {},
   "source": [
    "## Please name two conditions required for data scientists to broadcast two arrays'\n",
    "\n",
    "Two conditions required for data scientists to broadcast two arrays in NumPy are:\n",
    "\n",
    "1. Compatible dimensions: The arrays must have compatible dimensions, meaning that the length of each dimension must be equal or one of them must be 1. If the dimensions are not compatible, NumPy will raise a ValueError.\n",
    "\n",
    "2. Trailing dimensions match or are missing: If the arrays have different numbers of dimensions, the shape of the array with fewer dimensions is padded with ones on the left until the shapes have the same length. This ensures that the arrays have compatible shapes for broadcasting."
   ]
  },
  {
   "cell_type": "code",
   "execution_count": null,
   "id": "a9cbaeae",
   "metadata": {},
   "outputs": [],
   "source": []
  }
 ],
 "metadata": {
  "kernelspec": {
   "display_name": "Python 3 (ipykernel)",
   "language": "python",
   "name": "python3"
  },
  "language_info": {
   "codemirror_mode": {
    "name": "ipython",
    "version": 3
   },
   "file_extension": ".py",
   "mimetype": "text/x-python",
   "name": "python",
   "nbconvert_exporter": "python",
   "pygments_lexer": "ipython3",
   "version": "3.11.5"
  }
 },
 "nbformat": 4,
 "nbformat_minor": 5
}
