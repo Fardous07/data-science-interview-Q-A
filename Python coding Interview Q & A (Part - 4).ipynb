{
 "cells": [
  {
   "cell_type": "markdown",
   "id": "6e67bfdd",
   "metadata": {},
   "source": [
    "# What is Python?\n",
    "\n",
    "Python is a high-level, interpreted programming language known for its simplicity and\n",
    "readability. It emphasizes code readability and encourages a clean and concise coding style."
   ]
  },
  {
   "cell_type": "markdown",
   "id": "eb2b483a",
   "metadata": {},
   "source": [
    "# What are the key features of Python?\n",
    "\n",
    "Key features of Python include its easy-to-read syntax, dynamic typing, automatic memory\n",
    "management, extensive standard library, and support for multiple programming paradigms."
   ]
  },
  {
   "cell_type": "markdown",
   "id": "a66a42b8",
   "metadata": {},
   "source": [
    "# How is Python different from other programming languages?\n",
    "\n",
    "Python stands out with its simplicity, readability, and easy-to-understand syntax. It has a\n",
    "large and active community, extensive libraries, and is widely used in various domains such as web development, data analysis, and scientific computing."
   ]
  },
  {
   "cell_type": "markdown",
   "id": "553732cb",
   "metadata": {},
   "source": [
    "# What is PEP 8?\n",
    "\n",
    "PEP 8 is the official style guide for Python code. It provides guidelines on how to format\n",
    "Python code to enhance readability and maintain consistency across projects."
   ]
  },
  {
   "cell_type": "markdown",
   "id": "f79460f3",
   "metadata": {},
   "source": [
    "# What are Python modules?\n",
    "\n",
    "Python modules are files containing Python code that define functions, classes, and\n",
    "variables. They allow code reuse and organization, making it easier to manage and maintain\n",
    "larger projects."
   ]
  },
  {
   "cell_type": "markdown",
   "id": "f106bace",
   "metadata": {},
   "source": [
    "# What is string interpolation in Python?\n",
    "\n",
    "String interpolation in Python allows you to embed expressions or variables within a string,\n",
    "making it easier to construct dynamic strings. It can be done using f-strings or the format()\n",
    "method."
   ]
  },
  {
   "cell_type": "code",
   "execution_count": 2,
   "id": "26d69144",
   "metadata": {},
   "outputs": [
    {
     "name": "stdout",
     "output_type": "stream",
     "text": [
      "My name is Alice and I am 30 years old.\n",
      "My name is Bob and I am 25 years old.\n"
     ]
    }
   ],
   "source": [
    "# Example using f-strings (formatted string literals)\n",
    "name = \"Alice\"\n",
    "age = 30\n",
    "print(f\"My name is {name} and I am {age} years old.\")\n",
    "\n",
    "# Example using format() method\n",
    "name = \"Bob\"\n",
    "age = 25\n",
    "print(\"My name is {} and I am {} years old.\".format(name, age))"
   ]
  },
  {
   "cell_type": "markdown",
   "id": "cd6e7b01",
   "metadata": {},
   "source": [
    "# What are Python conditional statements?\n",
    "Python conditional statements, such as if, elif, and else, allow you to perform different actions based on certain conditions. They control the flow of the program based on the truthfulness of the conditions."
   ]
  },
  {
   "cell_type": "markdown",
   "id": "8a611104",
   "metadata": {},
   "source": [
    "# What are Python loops?\n",
    "Python loops, like for and while, enable you to execute a block of code repeatedly. They iterate over a sequence or execute until a specific condition is met."
   ]
  },
  {
   "cell_type": "markdown",
   "id": "85fe037d",
   "metadata": {},
   "source": [
    "# What are Python functions?\n",
    "Python functions are reusable blocks of code that perform a specific task. They help in code organization, reusability, and modularity. Functions can accept arguments and return values."
   ]
  },
  {
   "cell_type": "markdown",
   "id": "f7864acf",
   "metadata": {},
   "source": [
    "# What is the difference between a function and a method in Python?\n",
    "In Python, a function is a standalone block of code that can be called independently. A method, on the other hand, is a function that is associated with an object or a class and can access the object's data."
   ]
  },
  {
   "cell_type": "markdown",
   "id": "abd22f9b",
   "metadata": {},
   "source": [
    "# What is object-oriented programming (OOP)?\n",
    "Object-oriented programming (OOP) is a programming paradigm that organizes code into objects, which are instances of classes. It emphasizes encapsulation, inheritance, and polymorphism."
   ]
  },
  {
   "cell_type": "markdown",
   "id": "e116f6ea",
   "metadata": {},
   "source": [
    "# What are Python classes and objects?\n",
    "In Python, a class is a blueprint that defines the properties and behaviors of objects. An object is an instance of a class. It represents a specific entity and can interact with other objects."
   ]
  },
  {
   "cell_type": "markdown",
   "id": "4cd7cef3",
   "metadata": {},
   "source": [
    "# What is the __init__ method used for?\n",
    "The __init__ method is a special method in Python classes that is automatically called when an object is created from the class. It is used to initialize the object's attributes and perform setup tasks."
   ]
  },
  {
   "cell_type": "markdown",
   "id": "54bf4c09",
   "metadata": {},
   "source": [
    "# How do you create an object in Python?\n",
    "An object is created by calling the class as if it were a function. The class acts as a constructor, initializing the object and returning it."
   ]
  },
  {
   "cell_type": "markdown",
   "id": "28c64272",
   "metadata": {},
   "source": [
    "# What is inheritance in Python?\n",
    "Inheritance is a mechanism in Python that allows a class to inherit properties and methods from another class. It enables code reuse and supports the creation of hierarchical class structures."
   ]
  },
  {
   "cell_type": "code",
   "execution_count": 3,
   "id": "084ca388",
   "metadata": {},
   "outputs": [
    {
     "name": "stdout",
     "output_type": "stream",
     "text": [
      "Buddy says Woof!\n",
      "Whiskers says Meow!\n"
     ]
    }
   ],
   "source": [
    "# Parent class\n",
    "class Animal:\n",
    "    def __init__(self, name):\n",
    "        self.name = name\n",
    "\n",
    "    def speak(self):\n",
    "        raise NotImplementedError(\"Subclasses must implement this method\")\n",
    "\n",
    "# Child class inheriting from Animal\n",
    "class Dog(Animal):\n",
    "    def speak(self):\n",
    "        return f\"{self.name} says Woof!\"\n",
    "\n",
    "# Child class inheriting from Animal\n",
    "class Cat(Animal):\n",
    "    def speak(self):\n",
    "        return f\"{self.name} says Meow!\"\n",
    "\n",
    "# Creating objects of child classes\n",
    "dog = Dog(\"Buddy\")\n",
    "cat = Cat(\"Whiskers\")\n",
    "\n",
    "# Calling methods of child classes\n",
    "print(dog.speak())  # Output: Buddy says Woof!\n",
    "print(cat.speak())  # Output: Whiskers says Meow!"
   ]
  },
  {
   "cell_type": "markdown",
   "id": "2b7eef1c",
   "metadata": {},
   "source": [
    "# How Would You Replace All Occurrences of a Substring with a New String?"
   ]
  },
  {
   "cell_type": "code",
   "execution_count": 7,
   "id": "bed32551",
   "metadata": {},
   "outputs": [
    {
     "data": {
      "text/plain": [
       "'Hey John. How are you, John?'"
      ]
     },
     "execution_count": 7,
     "metadata": {},
     "output_type": "execute_result"
    }
   ],
   "source": [
    "# The replace() function can be used with strings for replacing a substring with a given string. Syntax: \n",
    "\n",
    "# str.replace(old, new, count)\n",
    "\n",
    "# replace() returns a new string without modifying the original string.\n",
    "\n",
    "# Example - \n",
    "sentence = \"Hey John. How are you, John?\"\n",
    "\n",
    "sentence.replace(\"john\",\"John\",1)"
   ]
  },
  {
   "cell_type": "markdown",
   "id": "26a4425b",
   "metadata": {},
   "source": [
    "# How Would You Remove All Leading Whitespace in a String?\n",
    "Python provides the inbuilt function lstrip() to remove all leading spaces from a string."
   ]
  },
  {
   "cell_type": "code",
   "execution_count": 11,
   "id": "d73e78dd",
   "metadata": {},
   "outputs": [
    {
     "data": {
      "text/plain": [
       "'Python'"
      ]
     },
     "execution_count": 11,
     "metadata": {},
     "output_type": "execute_result"
    }
   ],
   "source": [
    "\"      Python\".lstrip()"
   ]
  },
  {
   "cell_type": "markdown",
   "id": "443391b6",
   "metadata": {},
   "source": [
    "# What Is the Difference Between Del and Remove() on Lists?\n",
    "\n",
    "del: The del statement is a general-purpose statement in Python used to delete objects. When applied to a list, del removes an element from the list based on its index.\n",
    "    \n",
    "remove(): The remove() method is specific to lists and is used to remove the first occurrence of a specified value from the list. It does not require the index of the element to be removed."
   ]
  },
  {
   "cell_type": "code",
   "execution_count": 12,
   "id": "bab2bdd8",
   "metadata": {},
   "outputs": [
    {
     "name": "stdout",
     "output_type": "stream",
     "text": [
      "[1, 2, 4, 5]\n"
     ]
    }
   ],
   "source": [
    "my_list = [1, 2, 3, 4, 5]\n",
    "del my_list[2]  # Removes the element at index 2 (value: 3)\n",
    "print(my_list)  # Output: [1, 2, 4, 5]"
   ]
  },
  {
   "cell_type": "code",
   "execution_count": 13,
   "id": "20411c5d",
   "metadata": {},
   "outputs": [
    {
     "name": "stdout",
     "output_type": "stream",
     "text": [
      "[1, 2, 4, 3, 5]\n"
     ]
    }
   ],
   "source": [
    "my_list = [1, 2, 3, 4, 3, 5]\n",
    "my_list.remove(3)  # Removes the first occurrence of the value 3\n",
    "print(my_list)  # Output: [1, 2, 4, 3, 5]"
   ]
  },
  {
   "cell_type": "markdown",
   "id": "51f9f74f",
   "metadata": {},
   "source": [
    "# How Do You Use Print() Without the Newline?"
   ]
  },
  {
   "cell_type": "code",
   "execution_count": 16,
   "id": "e1f57cbe",
   "metadata": {},
   "outputs": [
    {
     "name": "stdout",
     "output_type": "stream",
     "text": [
      "Hi, How are you?\n"
     ]
    }
   ],
   "source": [
    "print('Hi,',end=' ')\n",
    "\n",
    "print('How are you?')"
   ]
  },
  {
   "cell_type": "markdown",
   "id": "a7801b22",
   "metadata": {},
   "source": [
    "# What Is the Output Of: Print(__name__)? Justify Your Answer.\n",
    "__name__ is a special variable that holds the name of the current module. Program execution starts from main or code with 0 indentations. Thus, __name__ has a value __main__ in the above case. If the file is imported from another module, __name__ holds the name of this module."
   ]
  },
  {
   "cell_type": "markdown",
   "id": "1c168d81",
   "metadata": {},
   "source": [
    "#You Get the Error “temp.Csv” While Trying to Read a File Using Pandas. Which of the Following Could Correct It?\n",
    "\n",
    "Error:\n",
    "\n",
    "Traceback (most recent call last): File \"<input>\", line 1, in<module> UnicodeEncodeError:\n",
    "\n",
    "'ascii' codec can't encode character.\n",
    "\n",
    "Choose the correct option:\n",
    "\n",
    "1.pd.read_csv(“temp.csv”, compression=’gzip’)\n",
    "    \n",
    "2.pd.read_csv(“temp.csv”, dialect=’str’)\n",
    "    \n",
    "3.pd.read_csv(“temp.csv”, encoding=’utf-8′)\n",
    "    \n",
    "4.None of these\n",
    "    \n",
    "The error relates to the difference between utf-8 coding and a Unicode. \n",
    "\n",
    "So option 3. pd.read_csv(“temp.csv”, encoding=’utf-8′) can correct it."
   ]
  },
  {
   "cell_type": "markdown",
   "id": "6684ae02",
   "metadata": {},
   "source": [
    "# How Do You Set a Line Width in the Plot given Below?"
   ]
  },
  {
   "cell_type": "code",
   "execution_count": 20,
   "id": "32852621",
   "metadata": {},
   "outputs": [
    {
     "data": {
      "text/plain": [
       "[<matplotlib.lines.Line2D at 0x180b82b1810>]"
      ]
     },
     "execution_count": 20,
     "metadata": {},
     "output_type": "execute_result"
    },
    {
     "data": {
      "image/png": "[encoded data removed]",
      "text/plain": [
       "<Figure size 640x480 with 1 Axes>"
      ]
     },
     "metadata": {},
     "output_type": "display_data"
    }
   ],
   "source": [
    "import matplotlib.pyplot as plt\n",
    "plt.plot([1,2,3,4], lw=3)"
   ]
  },
  {
   "cell_type": "markdown",
   "id": "8e47c203",
   "metadata": {},
   "source": [
    "# How Can You Check Whether a Pandas Dataframe Is Empty or Not?"
   ]
  },
  {
   "cell_type": "code",
   "execution_count": 22,
   "id": "38eb3a64",
   "metadata": {},
   "outputs": [
    {
     "name": "stdout",
     "output_type": "stream",
     "text": [
      "DataFrame is empty\n",
      "DataFrame is not empty\n"
     ]
    }
   ],
   "source": [
    "import pandas as pd\n",
    "\n",
    "# Create an empty DataFrame\n",
    "df_empty = pd.DataFrame()\n",
    "\n",
    "# Check if the DataFrame is empty using the empty attribute\n",
    "if df_empty.empty:\n",
    "    print(\"DataFrame is empty\")\n",
    "\n",
    "# Create a non-empty DataFrame\n",
    "df_non_empty = pd.DataFrame({'A': [1, 2, 3], 'B': [4, 5, 6]})\n",
    "\n",
    "# Check if the DataFrame is empty using the len() function\n",
    "if df_non_empty.empty:\n",
    "    print(\"DataFrame is empty\")\n",
    "else:\n",
    "    print(\"DataFrame is not empty\")"
   ]
  },
  {
   "cell_type": "markdown",
   "id": "a579155e",
   "metadata": {},
   "source": [
    "# How Do You Create a Series from a List, Numpy Array, and Dictionary?"
   ]
  },
  {
   "cell_type": "code",
   "execution_count": 29,
   "id": "a1946795",
   "metadata": {},
   "outputs": [
    {
     "name": "stdout",
     "output_type": "stream",
     "text": [
      "Series from list:\n",
      "0    10\n",
      "1    20\n",
      "2    30\n",
      "3    40\n",
      "4    50\n",
      "dtype: int64\n"
     ]
    }
   ],
   "source": [
    "import pandas as pd\n",
    "\n",
    "my_list = [10, 20, 30, 40, 50]\n",
    "series_from_list = pd.Series(my_list)\n",
    "print(\"Series from list:\")\n",
    "print(series_from_list)"
   ]
  },
  {
   "cell_type": "code",
   "execution_count": 30,
   "id": "e81f3f78",
   "metadata": {},
   "outputs": [
    {
     "name": "stdout",
     "output_type": "stream",
     "text": [
      "Series from NumPy array:\n",
      "0    1\n",
      "1    2\n",
      "2    3\n",
      "3    4\n",
      "4    5\n",
      "dtype: int32\n"
     ]
    }
   ],
   "source": [
    "import numpy as np\n",
    "import pandas as pd\n",
    "\n",
    "my_array = np.array([1, 2, 3, 4, 5])\n",
    "series_from_array = pd.Series(my_array)\n",
    "print(\"Series from NumPy array:\")\n",
    "print(series_from_array)"
   ]
  },
  {
   "cell_type": "code",
   "execution_count": 31,
   "id": "8fc69d8f",
   "metadata": {},
   "outputs": [
    {
     "name": "stdout",
     "output_type": "stream",
     "text": [
      "Series from dictionary:\n",
      "a    10\n",
      "b    20\n",
      "c    30\n",
      "d    40\n",
      "e    50\n",
      "dtype: int64\n"
     ]
    }
   ],
   "source": [
    "import pandas as pd\n",
    "\n",
    "my_dict = {'a': 10, 'b': 20, 'c': 30, 'd': 40, 'e': 50}\n",
    "series_from_dict = pd.Series(my_dict)\n",
    "print(\"Series from dictionary:\")\n",
    "print(series_from_dict)"
   ]
  },
  {
   "cell_type": "markdown",
   "id": "aae8e9b5",
   "metadata": {},
   "source": [
    "# How Do You Find the Positions of Numbers That Are Multiples of Three from a Series?"
   ]
  },
  {
   "cell_type": "code",
   "execution_count": 32,
   "id": "4fc5f817",
   "metadata": {},
   "outputs": [
    {
     "name": "stdout",
     "output_type": "stream",
     "text": [
      "Positions of numbers that are multiples of three:\n",
      "Index([2, 5, 8], dtype='int64')\n"
     ]
    }
   ],
   "source": [
    "import pandas as pd\n",
    "\n",
    "# Create a sample Series\n",
    "data = [1, 2, 3, 4, 5, 6, 7, 8, 9, 10]\n",
    "series = pd.Series(data)\n",
    "\n",
    "# Find positions of numbers that are multiples of three\n",
    "positions = series.index[series % 3 == 0]\n",
    "\n",
    "print(\"Positions of numbers that are multiples of three:\")\n",
    "print(positions)"
   ]
  },
  {
   "cell_type": "markdown",
   "id": "4fe60117",
   "metadata": {},
   "source": [
    "# How Do You Keep Only the Top Two Most Frequent Values as It Is and Replace Everything Else as ‘other’ in a Series?"
   ]
  },
  {
   "cell_type": "code",
   "execution_count": 33,
   "id": "6c123285",
   "metadata": {},
   "outputs": [
    {
     "name": "stdout",
     "output_type": "stream",
     "text": [
      "Series after replacing other values:\n",
      "0    other\n",
      "1    other\n",
      "2    other\n",
      "3        3\n",
      "4        3\n",
      "5        3\n",
      "6        4\n",
      "7        4\n",
      "8        4\n",
      "9        4\n",
      "dtype: object\n"
     ]
    }
   ],
   "source": [
    "import pandas as pd\n",
    "\n",
    "# Create a sample Series\n",
    "data = [1, 2, 2, 3, 3, 3, 4, 4, 4, 4]\n",
    "series = pd.Series(data)\n",
    "\n",
    "# Find the top two most frequent values\n",
    "top_values = series.value_counts().nlargest(2).index.tolist() # tolist() method is used to convert a pandas Series to a Python list\n",
    "\n",
    "# Replace everything else with 'other'\n",
    "series.loc[~series.isin(top_values)] = 'other'\n",
    "\n",
    "print(\"Series after replacing other values:\")\n",
    "print(series)"
   ]
  },
  {
   "cell_type": "markdown",
   "id": "d2465471",
   "metadata": {},
   "source": [
    "# How Do You Compute the Euclidean Distance Between Two Series?"
   ]
  },
  {
   "cell_type": "code",
   "execution_count": 34,
   "id": "e8e34af0",
   "metadata": {},
   "outputs": [
    {
     "name": "stdout",
     "output_type": "stream",
     "text": [
      "Euclidean distance: 5.196152422706632\n"
     ]
    }
   ],
   "source": [
    "import numpy as np\n",
    "\n",
    "def euclidean_distance(series1, series2):\n",
    "    # Convert the Series to NumPy arrays\n",
    "    array1 = series1.to_numpy()\n",
    "    array2 = series2.to_numpy()\n",
    "\n",
    "    # Compute the Euclidean distance\n",
    "    distance = np.linalg.norm(array1 - array2)\n",
    "\n",
    "    return distance\n",
    "\n",
    "# Example usage\n",
    "series1 = pd.Series([1, 2, 3])\n",
    "series2 = pd.Series([4, 5, 6])\n",
    "distance = euclidean_distance(series1, series2)\n",
    "print(\"Euclidean distance:\", distance)"
   ]
  },
  {
   "cell_type": "markdown",
   "id": "e38dc4dc",
   "metadata": {},
   "source": [
    "# How Do You Reverse the Rows of a Data Frame?"
   ]
  },
  {
   "cell_type": "code",
   "execution_count": 35,
   "id": "7bbea24d",
   "metadata": {},
   "outputs": [
    {
     "name": "stdout",
     "output_type": "stream",
     "text": [
      "Original DataFrame:\n",
      "   A  B  C\n",
      "0  1  4  7\n",
      "1  2  5  8\n",
      "2  3  6  9\n",
      "\n",
      "Reversed DataFrame:\n",
      "   A  B  C\n",
      "2  3  6  9\n",
      "1  2  5  8\n",
      "0  1  4  7\n"
     ]
    }
   ],
   "source": [
    "import pandas as pd\n",
    "\n",
    "# Create a sample DataFrame\n",
    "data = {'A': [1, 2, 3], 'B': [4, 5, 6], 'C': [7, 8, 9]}\n",
    "df = pd.DataFrame(data)\n",
    "\n",
    "# Reverse the rows of the DataFrame\n",
    "reversed_df = df.iloc[::-1]\n",
    "\n",
    "print(\"Original DataFrame:\")\n",
    "print(df)\n",
    "print(\"\\nReversed DataFrame:\")\n",
    "print(reversed_df)"
   ]
  },
  {
   "cell_type": "markdown",
   "id": "48c1e202",
   "metadata": {},
   "source": [
    "#  If You Split Your Data into Train/Test Splits, Is It Possible to over Fit Your Model?\n",
    "\n",
    "Yes, it is possible to overfit your model even if you split your data into train/test splits. Overfitting occurs when the model learns to capture noise or random fluctuations in the training data, rather than generalizing well to unseen data. Here's how it can happen even with train/test splits:\n",
    "\n",
    "Complex Models: If you use a highly flexible and complex model (e.g., deep neural networks, decision trees with unlimited depth), it can learn to fit the training data very closely, including noise, outliers, and random fluctuations.\n",
    "\n",
    "Hyperparameter Tuning: During model training, you might tune hyperparameters based on performance on the test set. This can lead to a model that performs very well on the test set but does not generalize well to new, unseen data.\n",
    "\n",
    "Data Leakage: Data leakage occurs when information from the test set \"leaks\" into the training process. For example, if you standardize features using statistics computed from the entire dataset (including the test set), the model may indirectly learn information about the test set."
   ]
  },
  {
   "cell_type": "markdown",
   "id": "2886dc42",
   "metadata": {},
   "source": [
    "# Which Python Library Is Built on Top of Matplotlib and Pandas to Ease Data Plotting?\n",
    "\n",
    "Seaborn is a Python library built on top of matplotlib and pandas to ease data plotting. It is a data visualization library in Python that provides a high-level interface for drawing statistical informative graphs."
   ]
  },
  {
   "cell_type": "markdown",
   "id": "246275ea",
   "metadata": {},
   "source": [
    "# What is a virtual environment in Python?\n",
    "A virtual environment in Python is a self-contained directory that contains a specific version of Python interpreter and installed packages. It allows you to isolate Python environments for different projects and manage their dependencies."
   ]
  },
  {
   "cell_type": "markdown",
   "id": "81909000",
   "metadata": {},
   "source": [
    "# What are exceptions in Python?\n",
    "Exceptions in Python are events that occur during the execution of a program that disrupt the normal flow of the code. They can be handled using try-except blocks to gracefully handle errors and exceptions."
   ]
  },
  {
   "cell_type": "markdown",
   "id": "7dca19e5",
   "metadata": {},
   "source": [
    "# What is error handling in Python?\n",
    "Error handling in Python involves using try-except blocks to catch and handle exceptions that may occur during the execution of the code. It allows for graceful recovery from errors and prevents the program from crashing."
   ]
  },
  {
   "cell_type": "markdown",
   "id": "a518633b",
   "metadata": {},
   "source": [
    "# What is the purpose of the try-except-else-finally block in Python?\n",
    "The try-except-else-finally block in Python is used for exception handling. The try block contains the code that may raise an exception. The except block is used to handle specific exceptions. The else block is executed if no exceptions occur. The finally block is always executed, regardless of whether an exception occurred or not."
   ]
  },
  {
   "cell_type": "code",
   "execution_count": 38,
   "id": "4250a8e4",
   "metadata": {},
   "outputs": [
    {
     "name": "stdout",
     "output_type": "stream",
     "text": [
      "Enter a number: 0\n",
      "Cannot divide by zero.\n",
      "End of program.\n"
     ]
    }
   ],
   "source": [
    "try:\n",
    "    # Code that may raise an exception\n",
    "    x = int(input(\"Enter a number: \"))\n",
    "    result = 10 / x\n",
    "except ValueError:\n",
    "    # Handle the case where the user input cannot be converted to an integer\n",
    "    print(\"Please enter a valid integer.\")\n",
    "except ZeroDivisionError:\n",
    "    # Handle the case where the user enters 0 as the input\n",
    "    print(\"Cannot divide by zero.\")\n",
    "else:\n",
    "    # Code that should only run if no exceptions occur\n",
    "    print(\"Division result:\", result)\n",
    "finally:\n",
    "    # Cleanup code that should always run, regardless of exceptions\n",
    "    print(\"End of program.\")"
   ]
  },
  {
   "cell_type": "markdown",
   "id": "94b8fde9",
   "metadata": {},
   "source": [
    "# How do you concatenate strings in Python?\n",
    "Strings can be concatenated in Python using the + operator or by using the .join() method. The + operator concatenates two strings, while the .join() method concatenates multiple strings using a specified delimiter."
   ]
  },
  {
   "cell_type": "code",
   "execution_count": 39,
   "id": "c1837147",
   "metadata": {},
   "outputs": [
    {
     "name": "stdout",
     "output_type": "stream",
     "text": [
      "Hello, World\n"
     ]
    }
   ],
   "source": [
    "str1 = \"Hello\"\n",
    "str2 = \"World\"\n",
    "result = str1 + \", \" + str2\n",
    "print(result)  # Output: Hello, World"
   ]
  },
  {
   "cell_type": "code",
   "execution_count": 40,
   "id": "3da0c9b9",
   "metadata": {},
   "outputs": [
    {
     "name": "stdout",
     "output_type": "stream",
     "text": [
      "Hello, World\n"
     ]
    }
   ],
   "source": [
    "str_list = [\"Hello\", \"World\"]\n",
    "delimiter = \", \"\n",
    "result = delimiter.join(str_list)\n",
    "print(result)  # Output: Hello, World"
   ]
  },
  {
   "cell_type": "markdown",
   "id": "f43e8daa",
   "metadata": {},
   "source": [
    "# How do you format strings in Python?\n",
    "Strings can be formatted in Python using the % operator, the str.format() method, or fstrings (formatted string literals). These methods allow you to insert values into placeholders within a string."
   ]
  },
  {
   "cell_type": "code",
   "execution_count": 41,
   "id": "9ad542a7",
   "metadata": {},
   "outputs": [
    {
     "name": "stdout",
     "output_type": "stream",
     "text": [
      "My name is Alice and I am 30 years old.\n"
     ]
    }
   ],
   "source": [
    "name = \"Alice\"\n",
    "age = 30\n",
    "formatted_string = \"My name is %s and I am %d years old.\" % (name, age)\n",
    "print(formatted_string)  # Output: My name is Alice and I am 30 years old."
   ]
  },
  {
   "cell_type": "code",
   "execution_count": 42,
   "id": "464278ee",
   "metadata": {},
   "outputs": [
    {
     "name": "stdout",
     "output_type": "stream",
     "text": [
      "My name is Bob and I am 25 years old.\n"
     ]
    }
   ],
   "source": [
    "name = \"Bob\"\n",
    "age = 25\n",
    "formatted_string = \"My name is {} and I am {} years old.\".format(name, age)\n",
    "print(formatted_string)  # Output: My name is Bob and I am 25 years old."
   ]
  },
  {
   "cell_type": "code",
   "execution_count": 43,
   "id": "225c697e",
   "metadata": {},
   "outputs": [
    {
     "name": "stdout",
     "output_type": "stream",
     "text": [
      "My name is Charlie and I am 35 years old.\n"
     ]
    }
   ],
   "source": [
    "name = \"Charlie\"\n",
    "age = 35\n",
    "formatted_string = f\"My name is {name} and I am {age} years old.\"\n",
    "print(formatted_string)  # Output: My name is Charlie and I am 35 years old."
   ]
  },
  {
   "cell_type": "markdown",
   "id": "0519c997",
   "metadata": {},
   "source": [
    "# What are file handling operations in Python?\n",
    "File handling operations in Python involve reading from and writing to files. Python provides built-in functions and methods to open, read, write, and close files."
   ]
  },
  {
   "cell_type": "markdown",
   "id": "4a31cdda",
   "metadata": {},
   "source": [
    "# How do you open and close a file in Python?\n",
    "Files can be opened in Python using the open() function, which takes the file name and the\n",
    "mode of operation as arguments. The close() method is used to close an opened file and free\n",
    "up system resources.\n",
    "\n",
    "- Opening a file\n",
    "\n",
    "file = open(\"filename.txt\", \"r\")  # \"r\" for reading, \"w\" for writing, \"a\" for appending\n",
    "\n",
    "- Reading from the file\n",
    "\n",
    "content = file.read()\n",
    "print(content)\n",
    "\n",
    "- Closing the file\n",
    "\n",
    "file.close()\n"
   ]
  },
  {
   "cell_type": "markdown",
   "id": "374db3ff",
   "metadata": {},
   "source": [
    "# What are the different file modes in Python?\n",
    "The different file modes in Python include \"r\" for reading, \"w\" for writing (overwriting existing content), \"a\" for appending, \"x\" for exclusive creation (fails if the file already exists), and \"b\" for binary mode."
   ]
  },
  {
   "cell_type": "markdown",
   "id": "e5a3156a",
   "metadata": {},
   "source": [
    "# What is the purpose of the self parameter in Python?\n",
    "The self parameter is used as a reference to the current instance of a class in Python. It\n",
    "allows accessing the attributes and methods of that instance within the class definition."
   ]
  },
  {
   "cell_type": "markdown",
   "id": "8c568ac6",
   "metadata": {},
   "source": [
    "# What is a metaclass in Python?\n",
    "A metaclass in Python is a class that defines the behavior and structure of other classes. It\n",
    "allows you to customize class creation, modify attributes, and add additional functionality to\n",
    "classes."
   ]
  },
  {
   "cell_type": "markdown",
   "id": "94e52f23",
   "metadata": {},
   "source": [
    "# What is the difference between a shallow comparison and a deep comparison in Python?\n",
    "In Python, a shallow comparison checks if two objects have the same memory address,\n",
    "while a deep comparison checks if the objects have the same values. Shallow comparisons\n",
    "can be done using the is operator, while deep comparisons are typically done using the ==\n",
    "operator."
   ]
  },
  {
   "cell_type": "code",
   "execution_count": 48,
   "id": "c7041156",
   "metadata": {},
   "outputs": [
    {
     "name": "stdout",
     "output_type": "stream",
     "text": [
      "False\n",
      "True\n"
     ]
    }
   ],
   "source": [
    "list1 = [1, 2, 3]\n",
    "list2 = [1, 2, 3]\n",
    "list3 = list1\n",
    "\n",
    "# Shallow comparison\n",
    "print(list1 is list2)  # Output: False\n",
    "print(list3 is list1)  # Output: True\n",
    "\n"
   ]
  },
  {
   "cell_type": "code",
   "execution_count": 49,
   "id": "cac6090e",
   "metadata": {},
   "outputs": [
    {
     "name": "stdout",
     "output_type": "stream",
     "text": [
      "True\n"
     ]
    }
   ],
   "source": [
    "list1 = [1, 2, 3]\n",
    "list2 = [1, 2, 3]\n",
    "\n",
    "# Deep comparison\n",
    "print(list1 == list2)  # Output: True"
   ]
  },
  {
   "cell_type": "markdown",
   "id": "3f94796c",
   "metadata": {},
   "source": [
    "# What are the advantages of using virtual environments in Python?\n",
    "Virtual environments in Python provide a dedicated environment for each project, allowing\n",
    "you to isolate project dependencies, avoid conflicts between packages, and maintain\n",
    "project-specific versions of Python and packages."
   ]
  },
  {
   "cell_type": "markdown",
   "id": "0d9fc404",
   "metadata": {},
   "source": [
    "# What is the purpose of the __str__ method in Python?\n",
    "The __str__ method in Python is a special method that returns a string representation of an\n",
    "object. It is used to provide a human-readable representation of the object when the str()\n",
    "function is called or when the object is printed"
   ]
  },
  {
   "cell_type": "markdown",
   "id": "c2c3b43b",
   "metadata": {},
   "source": [
    "# What is the purpose of the zip() function in Python?\n",
    "The zip() function in Python is used to combine multiple iterables (such as lists or tuples) into\n",
    "a single iterable of tuples. It pairs up corresponding elements from each iterable, stopping"
   ]
  },
  {
   "cell_type": "markdown",
   "id": "2a8577dd",
   "metadata": {},
   "source": [
    "# What is the purpose of the yield keyword in Python?\n",
    "The yield keyword in Python is used in the context of generators. It allows a generator\n",
    "function to temporarily pause and yield a value to the caller, without losing its internal state.\n",
    "The generator can then be resumed to continue execution from where it left off."
   ]
  },
  {
   "cell_type": "markdown",
   "id": "11a7b666",
   "metadata": {},
   "source": [
    "# What are generators in Python?\n",
    "Generators in Python are functions that can be paused and resumed, allowing them to\n",
    "produce a sequence of values over time. They are memory-efficient and provide a\n",
    "convenient way to iterate over large or infinite sequences."
   ]
  },
  {
   "cell_type": "markdown",
   "id": "3de5c346",
   "metadata": {},
   "source": [
    "# What is the purpose of the pickle module in Python?\n",
    "The pickle module in Python provides functions for serializing and deserializing Python\n",
    "objects. It allows you to convert Python objects into a binary format that can be stored or\n",
    "transmitted, and then restore them back into objects."
   ]
  },
  {
   "cell_type": "markdown",
   "id": "0a37aaa4",
   "metadata": {},
   "source": [
    "# What is the purpose of the json module in Python?\n",
    "The json module in Python provides functions for working with JSON (JavaScript Object\n",
    "Notation) data. It allows encoding Python objects into JSON strings and decoding JSON\n",
    "strings into Python objects."
   ]
  },
  {
   "cell_type": "markdown",
   "id": "97490135",
   "metadata": {},
   "source": [
    "# What is the purpose of the datetime module in Python?\n",
    "The datetime module in Python provides classes for manipulating dates and times. It allows\n",
    "creating, formatting, and performing operations on dates and times."
   ]
  },
  {
   "cell_type": "markdown",
   "id": "56396542",
   "metadata": {},
   "source": [
    "# What is the purpose of the os module in Python?\n",
    "The os module in Python provides a way to interact with the operating system. It allows\n",
    "performing various operations related to file and directory manipulation, process\n",
    "management, and environment variables."
   ]
  },
  {
   "cell_type": "markdown",
   "id": "f03496a7",
   "metadata": {},
   "source": [
    "# What is the purpose of the sys module in Python?\n",
    "The sys module in Python provides access to system-specific parameters and functions. It\n",
    "allows interaction with the Python interpreter and provides information about the runtime\n",
    "environment."
   ]
  },
  {
   "cell_type": "markdown",
   "id": "0b35ace3",
   "metadata": {},
   "source": [
    "# What is the purpose of the @classmethod decorator in Python?\n",
    "\n",
    "he @classmethod decorator in Python is used to define a method that operates on the class itself, rather than on instances of the class. It allows you to define methods that can access or modify class-level variables or perform operations related to the class itself, rather than specific instances.\n",
    "\n",
    "When you decorate a method with @classmethod, the method receives the class itself as its first argument, conventionally named cls, instead of the instance of the class. This allows you to access class attributes and call other class methods within the method."
   ]
  },
  {
   "cell_type": "code",
   "execution_count": 50,
   "id": "998fe065",
   "metadata": {},
   "outputs": [
    {
     "name": "stdout",
     "output_type": "stream",
     "text": [
      "Hello\n",
      "This is a class method\n"
     ]
    }
   ],
   "source": [
    "class MyClass:\n",
    "    class_variable = \"Hello\"\n",
    "\n",
    "    @classmethod\n",
    "    def class_method(cls):\n",
    "        print(cls.class_variable)  # Access class variable\n",
    "        print(\"This is a class method\")\n",
    "\n",
    "# Calling the class method without creating an instance of MyClass\n",
    "MyClass.class_method()"
   ]
  },
  {
   "cell_type": "markdown",
   "id": "4f5785a6",
   "metadata": {},
   "source": [
    "# What is the purpose of the @property decorator in Python?\n",
    "\n",
    "The @property decorator in Python is used to define properties within a class. It allows you to define methods that can be accessed like attributes, providing a way to control the behavior of attribute access.\n",
    "\n",
    "When you decorate a method with @property, it allows you to access the method as if it were an attribute, without needing to call it like a regular method. This can be useful for implementing getter methods to retrieve values from an object, as well as for implementing computed attributes or read-only properties."
   ]
  },
  {
   "cell_type": "code",
   "execution_count": 51,
   "id": "d3399833",
   "metadata": {},
   "outputs": [
    {
     "name": "stdout",
     "output_type": "stream",
     "text": [
      "5\n",
      "78.5\n",
      "7\n",
      "153.86\n"
     ]
    }
   ],
   "source": [
    "class Circle:\n",
    "    def __init__(self, radius):\n",
    "        self._radius = radius\n",
    "\n",
    "    @property\n",
    "    def radius(self):\n",
    "        return self._radius\n",
    "\n",
    "    @radius.setter\n",
    "    def radius(self, value):\n",
    "        if value < 0:\n",
    "            raise ValueError(\"Radius cannot be negative\")\n",
    "        self._radius = value\n",
    "\n",
    "    @property\n",
    "    def area(self):\n",
    "        return 3.14 * self.radius ** 2\n",
    "\n",
    "# Create a Circle object\n",
    "circle = Circle(5)\n",
    "\n",
    "# Access radius property\n",
    "print(circle.radius)  # Output: 5\n",
    "\n",
    "# Access area property (computed)\n",
    "print(circle.area)    # Output: 78.5\n",
    "\n",
    "# Modify radius property using setter\n",
    "circle.radius = 7\n",
    "print(circle.radius)  # Output: 7\n",
    "print(circle.area)    # Output: 153.86"
   ]
  },
  {
   "cell_type": "markdown",
   "id": "56488e53",
   "metadata": {},
   "source": [
    "# What is the purpose of the @staticmethod decorator in Python?\n",
    "\n",
    "The @staticmethod decorator in Python is used to define static methods within a class. Static methods are methods that are bound to the class rather than the instance of the class. They do not have access to the instance or class variables and do not require the self or cls parameter in their definition.\n",
    "\n",
    "Static methods are commonly used when a method does not access or modify any instance or class attributes, and it does not require access to the instance or class itself. They can be called directly on the class without needing to create an instance of the class."
   ]
  },
  {
   "cell_type": "code",
   "execution_count": 52,
   "id": "da22ed07",
   "metadata": {},
   "outputs": [
    {
     "name": "stdout",
     "output_type": "stream",
     "text": [
      "Sum: 8\n",
      "Product: 24\n"
     ]
    }
   ],
   "source": [
    "class MathOperations:\n",
    "    @staticmethod\n",
    "    def add(x, y):\n",
    "        return x + y\n",
    "\n",
    "    @staticmethod\n",
    "    def multiply(x, y):\n",
    "        return x * y\n",
    "\n",
    "# Calling static methods directly on the class\n",
    "sum_result = MathOperations.add(3, 5)\n",
    "print(\"Sum:\", sum_result)  # Output: Sum: 8\n",
    "\n",
    "product_result = MathOperations.multiply(4, 6)\n",
    "print(\"Product:\", product_result)  # Output: Product: 24"
   ]
  },
  {
   "cell_type": "markdown",
   "id": "c22c8d5b",
   "metadata": {},
   "source": [
    "# Given a list of N numbers, use a single list comprehension to produce a new list that only contains those values that are:\n",
    "# (a) even numbers, and\n",
    "# (b) from elements in the original list that had even indices\n",
    "\n",
    "# For example, if list[2] contains a value that is even, that value should be included in the new list, since it is also at an even index (i.e., 2) in the original list. However, if list[3] contains an even number, that number should not be included in the new list since it is at an odd index (i.e., 3) in the original list."
   ]
  },
  {
   "cell_type": "code",
   "execution_count": 8,
   "id": "26dc063f",
   "metadata": {},
   "outputs": [
    {
     "name": "stdout",
     "output_type": "stream",
     "text": [
      "[10, 18, 78]\n"
     ]
    }
   ],
   "source": [
    "original_list = [ 1 , 3 , 5 , 8 , 10 , 13 , 18 , 36 , 78 ]\n",
    "\n",
    "# List comprehension to filter elements that are even and have even indices\n",
    "result = [original_list[i] for i in range(len(original_list)) if i % 2 == 0 and original_list[i] % 2 == 0]\n",
    "\n",
    "print(result)  # Output: [10, 18, 78]"
   ]
  },
  {
   "cell_type": "code",
   "execution_count": null,
   "id": "a7e39a22",
   "metadata": {},
   "outputs": [],
   "source": []
  }
 ],
 "metadata": {
  "kernelspec": {
   "display_name": "Python 3 (ipykernel)",
   "language": "python",
   "name": "python3"
  },
  "language_info": {
   "codemirror_mode": {
    "name": "ipython",
    "version": 3
   },
   "file_extension": ".py",
   "mimetype": "text/x-python",
   "name": "python",
   "nbconvert_exporter": "python",
   "pygments_lexer": "ipython3",
   "version": "3.11.5"
  }
 },
 "nbformat": 4,
 "nbformat_minor": 5
}
