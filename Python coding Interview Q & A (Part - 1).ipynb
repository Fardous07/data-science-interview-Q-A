{
 "cells": [
  {
   "cell_type": "markdown",
   "id": "65968029",
   "metadata": {},
   "source": [
    "#### Explain List, Dictionary, and Tuple comprehension with an example."
   ]
  },
  {
   "cell_type": "code",
   "execution_count": 1,
   "id": "6c7da774",
   "metadata": {},
   "outputs": [
    {
     "name": "stdout",
     "output_type": "stream",
     "text": [
      "[0, 1, 4, 9, 16, 25, 36, 49, 64, 81]\n"
     ]
    }
   ],
   "source": [
    "# Create a list of squares of numbers from 0 to 9 using list comprehension\n",
    "squares = [x**2 for x in range(10)]\n",
    "print(squares)"
   ]
  },
  {
   "cell_type": "code",
   "execution_count": 2,
   "id": "00009358",
   "metadata": {},
   "outputs": [
    {
     "name": "stdout",
     "output_type": "stream",
     "text": [
      "{'key-1': 1, 'key-2': 4, 'key-3': 9, 'key-4': 16, 'key-5': 25}\n"
     ]
    }
   ],
   "source": [
    "# Create a dictionary mapping each number to its square using dictionary comprehension\n",
    "squares_dict = {f'key-{x}': x**2 for x in range(1, 6)}\n",
    "print(squares_dict)"
   ]
  },
  {
   "cell_type": "code",
   "execution_count": 3,
   "id": "11cdfcd1",
   "metadata": {},
   "outputs": [
    {
     "name": "stdout",
     "output_type": "stream",
     "text": [
      "(0, 1, 4, 9, 16, 25, 36, 49, 64, 81)\n"
     ]
    }
   ],
   "source": [
    "# Create a generator object containing squares of numbers from 0 to 9 using tuple comprehension\n",
    "squares_gen = (x**2 for x in range(10))\n",
    "print(tuple(squares_gen))"
   ]
  },
  {
   "cell_type": "markdown",
   "id": "b63b7bb6",
   "metadata": {},
   "source": [
    "#### What is monkey patching in Python?\n",
    "######  Monkey patching in Python is a dynamic technique that can change the behavior of the code at run-time. \n",
    "###### In short, you can modify a class or module at run-time."
   ]
  },
  {
   "cell_type": "code",
   "execution_count": 4,
   "id": "2b46c40e",
   "metadata": {},
   "outputs": [
    {
     "name": "stdout",
     "output_type": "stream",
     "text": [
      "monkey_p() is being called\n"
     ]
    }
   ],
   "source": [
    "class monkey:\n",
    "    def patch(self):\n",
    "          print (\"patch() is being called\")\n",
    "\n",
    "def monkey_p(self):\n",
    "    print (\"monkey_p() is being called\")\n",
    "\n",
    "\n",
    "monkey.patch = monkey_p\n",
    "\n",
    "obj = monkey()\n",
    "\n",
    "obj.patch()"
   ]
  },
  {
   "cell_type": "markdown",
   "id": "a2821a7f",
   "metadata": {},
   "source": [
    "#### What is the difference between merge, join and concatenate?"
   ]
  },
  {
   "cell_type": "code",
   "execution_count": 5,
   "id": "c9512e75",
   "metadata": {},
   "outputs": [
    {
     "name": "stdout",
     "output_type": "stream",
     "text": [
      "  key  value_x  value_y\n",
      "0   B        2        5\n",
      "1   D        4        6\n"
     ]
    }
   ],
   "source": [
    "# merge\n",
    "import pandas as pd\n",
    "\n",
    "df1 = pd.DataFrame({'key': ['A', 'B', 'C', 'D'],\n",
    "                    'value': [1, 2, 3, 4]})\n",
    "\n",
    "df2 = pd.DataFrame({'key': ['B', 'D', 'E', 'F'],\n",
    "                    'value': [5, 6, 7, 8]})\n",
    "\n",
    "\n",
    "merged_df = pd.merge(df1, df2, on='key', how='inner')\n",
    "print(merged_df)"
   ]
  },
  {
   "cell_type": "code",
   "execution_count": 6,
   "id": "b32f0a48",
   "metadata": {},
   "outputs": [
    {
     "name": "stdout",
     "output_type": "stream",
     "text": [
      "   A  B  C   D\n",
      "a  1  4  7  10\n",
      "b  2  5  8  11\n",
      "c  3  6  9  12\n"
     ]
    }
   ],
   "source": [
    "# join\n",
    "import pandas as pd\n",
    "\n",
    "\n",
    "df1 = pd.DataFrame({'A': [1, 2, 3], 'B': [4, 5, 6]},\n",
    "                   index=['a', 'b', 'c'])\n",
    "df2 = pd.DataFrame({'C': [7, 8, 9], 'D': [10, 11, 12]},\n",
    "                   index=['a', 'b', 'c'])\n",
    "\n",
    "\n",
    "joined_df = df1.join(df2)\n",
    "print(joined_df)"
   ]
  },
  {
   "cell_type": "code",
   "execution_count": 7,
   "id": "ee8bee91",
   "metadata": {},
   "outputs": [
    {
     "name": "stdout",
     "output_type": "stream",
     "text": [
      "   A   B\n",
      "0  1   4\n",
      "1  2   5\n",
      "2  3   6\n",
      "0  7  10\n",
      "1  8  11\n",
      "2  9  12\n"
     ]
    }
   ],
   "source": [
    "# concatenate\n",
    "import pandas as pd\n",
    "\n",
    "\n",
    "df1 = pd.DataFrame({'A': [1, 2, 3], 'B': [4, 5, 6]})\n",
    "df2 = pd.DataFrame({'A': [7, 8, 9], 'B': [10, 11, 12]})\n",
    "\n",
    "\n",
    "concatenated_df = pd.concat([df1, df2])\n",
    "print(concatenated_df)"
   ]
  },
  {
   "cell_type": "markdown",
   "id": "2546a96d",
   "metadata": {},
   "source": [
    "#### How do you identify and deal with missing values?"
   ]
  },
  {
   "cell_type": "code",
   "execution_count": 8,
   "id": "d9ba0bf2",
   "metadata": {},
   "outputs": [
    {
     "data": {
      "text/html": [
       "<div>\n",
       "<style scoped>\n",
       "    .dataframe tbody tr th:only-of-type {\n",
       "        vertical-align: middle;\n",
       "    }\n",
       "\n",
       "    .dataframe tbody tr th {\n",
       "        vertical-align: top;\n",
       "    }\n",
       "\n",
       "    .dataframe thead th {\n",
       "        text-align: right;\n",
       "    }\n",
       "</style>\n",
       "<table border=\"1\" class=\"dataframe\">\n",
       "  <thead>\n",
       "    <tr style=\"text-align: right;\">\n",
       "      <th></th>\n",
       "      <th>id</th>\n",
       "      <th>Age</th>\n",
       "      <th>Score</th>\n",
       "    </tr>\n",
       "  </thead>\n",
       "  <tbody>\n",
       "    <tr>\n",
       "      <th>0</th>\n",
       "      <td>1.0</td>\n",
       "      <td>30.0</td>\n",
       "      <td>NaN</td>\n",
       "    </tr>\n",
       "    <tr>\n",
       "      <th>1</th>\n",
       "      <td>4.0</td>\n",
       "      <td>45.0</td>\n",
       "      <td>140.0</td>\n",
       "    </tr>\n",
       "    <tr>\n",
       "      <th>2</th>\n",
       "      <td>NaN</td>\n",
       "      <td>NaN</td>\n",
       "      <td>180.0</td>\n",
       "    </tr>\n",
       "    <tr>\n",
       "      <th>3</th>\n",
       "      <td>9.0</td>\n",
       "      <td>NaN</td>\n",
       "      <td>198.0</td>\n",
       "    </tr>\n",
       "  </tbody>\n",
       "</table>\n",
       "</div>"
      ],
      "text/plain": [
       "    id   Age  Score\n",
       "0  1.0  30.0    NaN\n",
       "1  4.0  45.0  140.0\n",
       "2  NaN   NaN  180.0\n",
       "3  9.0   NaN  198.0"
      ]
     },
     "execution_count": 8,
     "metadata": {},
     "output_type": "execute_result"
    }
   ],
   "source": [
    "import pandas as pd\n",
    "import numpy as np\n",
    "\n",
    "\n",
    "dict = {'id':[1, 4, np.nan, 9],\n",
    "        'Age': [30, 45, np.nan, np.nan],\n",
    "        'Score':[np.nan, 140, 180, 198]}\n",
    "\n",
    "\n",
    "df = pd.DataFrame(dict)\n",
    "df"
   ]
  },
  {
   "cell_type": "code",
   "execution_count": 9,
   "id": "d41b04d1",
   "metadata": {},
   "outputs": [
    {
     "name": "stdout",
     "output_type": "stream",
     "text": [
      "id       1\n",
      "Age      2\n",
      "Score    1\n",
      "dtype: int64\n"
     ]
    }
   ],
   "source": [
    "print(df.isnull().sum())"
   ]
  },
  {
   "cell_type": "code",
   "execution_count": 10,
   "id": "960175e3",
   "metadata": {},
   "outputs": [
    {
     "data": {
      "text/html": [
       "<div>\n",
       "<style scoped>\n",
       "    .dataframe tbody tr th:only-of-type {\n",
       "        vertical-align: middle;\n",
       "    }\n",
       "\n",
       "    .dataframe tbody tr th {\n",
       "        vertical-align: top;\n",
       "    }\n",
       "\n",
       "    .dataframe thead th {\n",
       "        text-align: right;\n",
       "    }\n",
       "</style>\n",
       "<table border=\"1\" class=\"dataframe\">\n",
       "  <thead>\n",
       "    <tr style=\"text-align: right;\">\n",
       "      <th></th>\n",
       "      <th>id</th>\n",
       "      <th>Age</th>\n",
       "      <th>Score</th>\n",
       "    </tr>\n",
       "  </thead>\n",
       "  <tbody>\n",
       "    <tr>\n",
       "      <th>1</th>\n",
       "      <td>4.0</td>\n",
       "      <td>45.0</td>\n",
       "      <td>140.0</td>\n",
       "    </tr>\n",
       "  </tbody>\n",
       "</table>\n",
       "</div>"
      ],
      "text/plain": [
       "    id   Age  Score\n",
       "1  4.0  45.0  140.0"
      ]
     },
     "execution_count": 10,
     "metadata": {},
     "output_type": "execute_result"
    }
   ],
   "source": [
    "df.dropna(axis = 0, how ='any')"
   ]
  },
  {
   "cell_type": "code",
   "execution_count": 11,
   "id": "8b75bd43",
   "metadata": {},
   "outputs": [
    {
     "data": {
      "text/html": [
       "<div>\n",
       "<style scoped>\n",
       "    .dataframe tbody tr th:only-of-type {\n",
       "        vertical-align: middle;\n",
       "    }\n",
       "\n",
       "    .dataframe tbody tr th {\n",
       "        vertical-align: top;\n",
       "    }\n",
       "\n",
       "    .dataframe thead th {\n",
       "        text-align: right;\n",
       "    }\n",
       "</style>\n",
       "<table border=\"1\" class=\"dataframe\">\n",
       "  <thead>\n",
       "    <tr style=\"text-align: right;\">\n",
       "      <th></th>\n",
       "      <th>id</th>\n",
       "      <th>Age</th>\n",
       "      <th>Score</th>\n",
       "    </tr>\n",
       "  </thead>\n",
       "  <tbody>\n",
       "    <tr>\n",
       "      <th>0</th>\n",
       "      <td>1.0</td>\n",
       "      <td>30.0</td>\n",
       "      <td>140.0</td>\n",
       "    </tr>\n",
       "    <tr>\n",
       "      <th>1</th>\n",
       "      <td>4.0</td>\n",
       "      <td>45.0</td>\n",
       "      <td>140.0</td>\n",
       "    </tr>\n",
       "    <tr>\n",
       "      <th>2</th>\n",
       "      <td>9.0</td>\n",
       "      <td>NaN</td>\n",
       "      <td>180.0</td>\n",
       "    </tr>\n",
       "    <tr>\n",
       "      <th>3</th>\n",
       "      <td>9.0</td>\n",
       "      <td>NaN</td>\n",
       "      <td>198.0</td>\n",
       "    </tr>\n",
       "  </tbody>\n",
       "</table>\n",
       "</div>"
      ],
      "text/plain": [
       "    id   Age  Score\n",
       "0  1.0  30.0  140.0\n",
       "1  4.0  45.0  140.0\n",
       "2  9.0   NaN  180.0\n",
       "3  9.0   NaN  198.0"
      ]
     },
     "execution_count": 11,
     "metadata": {},
     "output_type": "execute_result"
    }
   ],
   "source": [
    "df.fillna(method ='bfill')"
   ]
  },
  {
   "cell_type": "code",
   "execution_count": 12,
   "id": "7d3c2ee5",
   "metadata": {},
   "outputs": [
    {
     "data": {
      "text/html": [
       "<div>\n",
       "<style scoped>\n",
       "    .dataframe tbody tr th:only-of-type {\n",
       "        vertical-align: middle;\n",
       "    }\n",
       "\n",
       "    .dataframe tbody tr th {\n",
       "        vertical-align: top;\n",
       "    }\n",
       "\n",
       "    .dataframe thead th {\n",
       "        text-align: right;\n",
       "    }\n",
       "</style>\n",
       "<table border=\"1\" class=\"dataframe\">\n",
       "  <thead>\n",
       "    <tr style=\"text-align: right;\">\n",
       "      <th></th>\n",
       "      <th>id</th>\n",
       "      <th>Age</th>\n",
       "      <th>Score</th>\n",
       "    </tr>\n",
       "  </thead>\n",
       "  <tbody>\n",
       "    <tr>\n",
       "      <th>0</th>\n",
       "      <td>1.0</td>\n",
       "      <td>30.0</td>\n",
       "      <td>-999.0</td>\n",
       "    </tr>\n",
       "    <tr>\n",
       "      <th>1</th>\n",
       "      <td>4.0</td>\n",
       "      <td>45.0</td>\n",
       "      <td>140.0</td>\n",
       "    </tr>\n",
       "    <tr>\n",
       "      <th>2</th>\n",
       "      <td>-999.0</td>\n",
       "      <td>-999.0</td>\n",
       "      <td>180.0</td>\n",
       "    </tr>\n",
       "    <tr>\n",
       "      <th>3</th>\n",
       "      <td>9.0</td>\n",
       "      <td>-999.0</td>\n",
       "      <td>198.0</td>\n",
       "    </tr>\n",
       "  </tbody>\n",
       "</table>\n",
       "</div>"
      ],
      "text/plain": [
       "      id    Age  Score\n",
       "0    1.0   30.0 -999.0\n",
       "1    4.0   45.0  140.0\n",
       "2 -999.0 -999.0  180.0\n",
       "3    9.0 -999.0  198.0"
      ]
     },
     "execution_count": 12,
     "metadata": {},
     "output_type": "execute_result"
    }
   ],
   "source": [
    "df.replace(to_replace = np.nan, value = -999)"
   ]
  },
  {
   "cell_type": "code",
   "execution_count": 13,
   "id": "1363788a",
   "metadata": {},
   "outputs": [
    {
     "data": {
      "text/html": [
       "<div>\n",
       "<style scoped>\n",
       "    .dataframe tbody tr th:only-of-type {\n",
       "        vertical-align: middle;\n",
       "    }\n",
       "\n",
       "    .dataframe tbody tr th {\n",
       "        vertical-align: top;\n",
       "    }\n",
       "\n",
       "    .dataframe thead th {\n",
       "        text-align: right;\n",
       "    }\n",
       "</style>\n",
       "<table border=\"1\" class=\"dataframe\">\n",
       "  <thead>\n",
       "    <tr style=\"text-align: right;\">\n",
       "      <th></th>\n",
       "      <th>id</th>\n",
       "      <th>Age</th>\n",
       "      <th>Score</th>\n",
       "    </tr>\n",
       "  </thead>\n",
       "  <tbody>\n",
       "    <tr>\n",
       "      <th>0</th>\n",
       "      <td>1.0</td>\n",
       "      <td>30.0</td>\n",
       "      <td>NaN</td>\n",
       "    </tr>\n",
       "    <tr>\n",
       "      <th>1</th>\n",
       "      <td>4.0</td>\n",
       "      <td>45.0</td>\n",
       "      <td>140.0</td>\n",
       "    </tr>\n",
       "    <tr>\n",
       "      <th>2</th>\n",
       "      <td>6.5</td>\n",
       "      <td>45.0</td>\n",
       "      <td>180.0</td>\n",
       "    </tr>\n",
       "    <tr>\n",
       "      <th>3</th>\n",
       "      <td>9.0</td>\n",
       "      <td>45.0</td>\n",
       "      <td>198.0</td>\n",
       "    </tr>\n",
       "  </tbody>\n",
       "</table>\n",
       "</div>"
      ],
      "text/plain": [
       "    id   Age  Score\n",
       "0  1.0  30.0    NaN\n",
       "1  4.0  45.0  140.0\n",
       "2  6.5  45.0  180.0\n",
       "3  9.0  45.0  198.0"
      ]
     },
     "execution_count": 13,
     "metadata": {},
     "output_type": "execute_result"
    }
   ],
   "source": [
    "df.interpolate(method ='linear', limit_direction ='forward')"
   ]
  },
  {
   "cell_type": "markdown",
   "id": "864de132",
   "metadata": {},
   "source": [
    "#### How can you replace string space with a given character in Python?\n",
    "\n",
    "##### IL veMyM ther&MyC untry (given text)\n",
    "##### ILoveMyMother&MyCountry (fill in the space with given character o)"
   ]
  },
  {
   "cell_type": "code",
   "execution_count": 14,
   "id": "13e26bc0",
   "metadata": {},
   "outputs": [
    {
     "data": {
      "text/plain": [
       "'ILoveMyMother&MyCountry'"
      ]
     },
     "execution_count": 14,
     "metadata": {},
     "output_type": "execute_result"
    }
   ],
   "source": [
    "def str_replace(text,ch):\n",
    "    result = ''\n",
    "    for i in text: \n",
    "            if i == ' ': \n",
    "                i = ch  \n",
    "            result += i \n",
    "    return result\n",
    "\n",
    "text = \"IL veMyM ther&MyC untry\"\n",
    "ch = \"o\"\n",
    "\n",
    "str_replace(text,ch)"
   ]
  },
  {
   "cell_type": "markdown",
   "id": "047c5e4f",
   "metadata": {},
   "source": [
    "#### Given a positive integer num, write a function that returns True if num is a perfect square else False."
   ]
  },
  {
   "cell_type": "code",
   "execution_count": 15,
   "id": "2e49dc4e",
   "metadata": {},
   "outputs": [
    {
     "name": "stdout",
     "output_type": "stream",
     "text": [
      "True\n",
      "True\n",
      "False\n",
      "False\n",
      "False\n",
      "True\n",
      "True\n"
     ]
    }
   ],
   "source": [
    "from math import sqrt\n",
    "\n",
    "def square_test(number):\n",
    "    sq = sqrt(number)\n",
    "    if number % sq == 0:\n",
    "        print('True')\n",
    "    else:\n",
    "        print('False')\n",
    "\n",
    "num = [9, 16, 3, 17, 2, 4, 25]\n",
    "\n",
    "for n in num:\n",
    "    square_test(n)\n",
    "    "
   ]
  },
  {
   "cell_type": "code",
   "execution_count": 16,
   "id": "5a4eb483",
   "metadata": {},
   "outputs": [
    {
     "data": {
      "text/plain": [
       "True"
      ]
     },
     "execution_count": 16,
     "metadata": {},
     "output_type": "execute_result"
    }
   ],
   "source": [
    "def can_segment_str(s, dictionary):\n",
    "    for i in range(1, len(s) + 1):\n",
    "        first_str = s[0:i]\n",
    "        if first_str in dictionary:\n",
    "            second_str = s[i:]\n",
    "            if (not second_str or second_str in dictionary or can_segment_str(second_str, dictionary)):\n",
    "                return True\n",
    "    return False\n",
    "\n",
    "\n",
    "s = \"datacamp\"\n",
    "dictionary = [\"data\", \"camp\", \"cam\", \"lack\"]\n",
    "can_segment_str(s, dictionary)"
   ]
  },
  {
   "cell_type": "markdown",
   "id": "dcb7cf8a",
   "metadata": {},
   "source": [
    "#### Remove duplicates from sorted array"
   ]
  },
  {
   "cell_type": "code",
   "execution_count": 17,
   "id": "e20210fa",
   "metadata": {},
   "outputs": [
    {
     "name": "stdout",
     "output_type": "stream",
     "text": [
      "new length: 6\n",
      "new set: [1, 2, 3, 5, 6, 7]\n"
     ]
    }
   ],
   "source": [
    "def remove_dupli(nums):\n",
    "    if not nums:\n",
    "        return -1\n",
    "    init = 0\n",
    "    for num in range(1, len(nums)):\n",
    "        if nums[num] != nums[init]:\n",
    "                init += 1\n",
    "                nums[init] = nums[num]\n",
    "    return init +1\n",
    "\n",
    "nums =[1,2,2,3,5,5,6,6,7]\n",
    "new =remove_dupli(nums)\n",
    "print('new length:', new)\n",
    "print('new set:', nums[:new])"
   ]
  },
  {
   "cell_type": "markdown",
   "id": "8c60819e",
   "metadata": {},
   "source": [
    "#### Write a program to print the following pattern.\n",
    "# *\n",
    "# * *\n",
    "# * * *\n",
    "# * * * *\n",
    "# * * * * *\n"
   ]
  },
  {
   "cell_type": "code",
   "execution_count": 18,
   "id": "846ef46f",
   "metadata": {},
   "outputs": [
    {
     "name": "stdout",
     "output_type": "stream",
     "text": [
      "*     \n",
      "\n",
      "*     *     \n",
      "\n",
      "*     *     *     \n",
      "\n",
      "*     *     *     *     \n",
      "\n",
      "*     *     *     *     *     \n",
      "\n"
     ]
    }
   ],
   "source": [
    "def pattern(star):\n",
    "    for i in range(1, star):\n",
    "        for j in range(1,i + 1):\n",
    "            print('*',end='     ')\n",
    "        print('\\n')\n",
    "        \n",
    "pattern(6)"
   ]
  },
  {
   "cell_type": "markdown",
   "id": "1f62e9be",
   "metadata": {},
   "source": [
    "##### PIP is an acronym for Python Installer Package"
   ]
  },
  {
   "cell_type": "markdown",
   "id": "2bd31721",
   "metadata": {},
   "source": [
    "#### Reverse Using While Loop in Python"
   ]
  },
  {
   "cell_type": "code",
   "execution_count": 19,
   "id": "9e18bafe",
   "metadata": {},
   "outputs": [
    {
     "name": "stdout",
     "output_type": "stream",
     "text": [
      "enter number: 4637282\n",
      "before reverse the number is 4637282\n",
      "after reverse the number is 2827364\n"
     ]
    }
   ],
   "source": [
    "n = int(input('enter number: '))\n",
    "print(f'before reverse the number is {n}')\n",
    "\n",
    "reverse = 0\n",
    "\n",
    "while n != 0:\n",
    "    reverse = reverse*10 + n%10\n",
    "    n = n//10\n",
    "print(f'after reverse the number is {reverse}')"
   ]
  },
  {
   "cell_type": "markdown",
   "id": "0e26d9da",
   "metadata": {},
   "source": [
    "#### Check Armstrong Using a While Loop"
   ]
  },
  {
   "cell_type": "code",
   "execution_count": 46,
   "id": "078a1aa8",
   "metadata": {},
   "outputs": [
    {
     "name": "stdout",
     "output_type": "stream",
     "text": [
      "enter the number: 157\n",
      "The number 157 is not Armstrong\n"
     ]
    }
   ],
   "source": [
    "num = int(input('enter the number: '))\n",
    "\n",
    "sum = 0\n",
    "temp = num\n",
    "count = len(str(num))\n",
    "\n",
    "while temp != 0:\n",
    "    digit = temp%10\n",
    "    sum += digit**count\n",
    "    temp //= 10\n",
    "if num == sum:\n",
    "    print(f'The number {sum} is Armstrong')\n",
    "    \n",
    "else:\n",
    "    print(f'The number {num} is not Armstrong')\n",
    "        \n",
    "    "
   ]
  },
  {
   "cell_type": "markdown",
   "id": "1556f005",
   "metadata": {},
   "source": [
    "# Given a dictionary consisting of many roots and a sentence, stem all the words in the sentence with the root forming it."
   ]
  },
  {
   "cell_type": "code",
   "execution_count": 21,
   "id": "e0ff062f",
   "metadata": {},
   "outputs": [
    {
     "data": {
      "text/plain": [
       "'the cat was rat by the bat'"
      ]
     },
     "execution_count": 21,
     "metadata": {},
     "output_type": "execute_result"
    }
   ],
   "source": [
    "roots = [\"cat\", \"bat\", \"rat\"]\n",
    "sentence = \"the cattle was rattled by the battery\"\n",
    "\n",
    "\n",
    "def root_forming(roots, sentence):\n",
    "    words = sentence.split(' ')\n",
    "    for index, word in enumerate(words):\n",
    "        for root in roots:\n",
    "            if word.startswith(root):\n",
    "                 words[index] = root\n",
    "    return ' '.join(words)\n",
    "root_forming(roots, sentence)"
   ]
  },
  {
   "cell_type": "markdown",
   "id": "a293966b",
   "metadata": {},
   "source": [
    "# class"
   ]
  },
  {
   "cell_type": "code",
   "execution_count": 22,
   "id": "367fcb3a",
   "metadata": {},
   "outputs": [
    {
     "name": "stdout",
     "output_type": "stream",
     "text": [
      "Deposited 50 into Alice's account. New balance: 150\n",
      "Withdrew 30 from Alice's account. New balance: 120\n",
      "Insufficient funds for Alice to withdraw 150. Current balance: 120\n"
     ]
    }
   ],
   "source": [
    "class BankAccount:\n",
    "    def __init__(self, owner, balance=0):\n",
    "        self.owner = owner\n",
    "        self.balance = balance\n",
    "\n",
    "    def deposit(self, amount):\n",
    "        self.balance += amount\n",
    "        print(f\"Deposited {amount} into {self.owner}'s account. New balance: {self.balance}\")\n",
    "\n",
    "    def withdraw(self, amount):\n",
    "        if amount <= self.balance:\n",
    "            self.balance -= amount\n",
    "            print(f\"Withdrew {amount} from {self.owner}'s account. New balance: {self.balance}\")\n",
    "        else:\n",
    "            print(f\"Insufficient funds for {self.owner} to withdraw {amount}. Current balance: {self.balance}\")\n",
    "\n",
    "# Example usage\n",
    "account1 = BankAccount(\"Alice\", 100)\n",
    "account1.deposit(50)\n",
    "account1.withdraw(30)\n",
    "account1.withdraw(150)"
   ]
  },
  {
   "cell_type": "markdown",
   "id": "5af77b16",
   "metadata": {},
   "source": [
    "# use of yield"
   ]
  },
  {
   "cell_type": "code",
   "execution_count": 23,
   "id": "15ae2698",
   "metadata": {},
   "outputs": [
    {
     "name": "stdout",
     "output_type": "stream",
     "text": [
      "0\n",
      "1\n",
      "1\n",
      "2\n",
      "3\n",
      "5\n",
      "8\n",
      "13\n",
      "21\n",
      "34\n"
     ]
    }
   ],
   "source": [
    "def fibonacci_generator():\n",
    "    a, b = 0, 1\n",
    "    while True:\n",
    "        yield a\n",
    "        a, b = b, a + b\n",
    "\n",
    "# Create a generator object\n",
    "fib_gen = fibonacci_generator()\n",
    "\n",
    "# Iterate over the generator to generate Fibonacci numbers\n",
    "for i in range(10):\n",
    "    print(next(fib_gen))\n"
   ]
  },
  {
   "cell_type": "markdown",
   "id": "6d2e4479",
   "metadata": {},
   "source": [
    "# multiple inheritances supported in Python"
   ]
  },
  {
   "cell_type": "code",
   "execution_count": 24,
   "id": "089419d1",
   "metadata": {},
   "outputs": [
    {
     "name": "stdout",
     "output_type": "stream",
     "text": [
      "80\n",
      "12\n",
      "3\n"
     ]
    }
   ],
   "source": [
    "class addition:\n",
    "    def add(self,a,b):\n",
    "        return a + b\n",
    "class multiplication:\n",
    "    def multi(self,a,b):\n",
    "        return a*b;\n",
    "    \n",
    "class derivation(addition, multiplication):\n",
    "    def dirivate(self,a,b):\n",
    "        return a//b;\n",
    "    \n",
    "d = derivation()\n",
    "print(d.add(20,60))\n",
    "print(d.multi(2,6))\n",
    "print(d.dirivate(60,20))"
   ]
  },
  {
   "cell_type": "markdown",
   "id": "21ff4c06",
   "metadata": {},
   "source": [
    "# What does *args, **kwargs mean in Python?"
   ]
  },
  {
   "cell_type": "code",
   "execution_count": 25,
   "id": "6a5aa3f2",
   "metadata": {},
   "outputs": [
    {
     "name": "stdout",
     "output_type": "stream",
     "text": [
      "1\n",
      "2\n",
      "3\n"
     ]
    }
   ],
   "source": [
    "def my_function(*args):\n",
    "    for arg in args:\n",
    "        print(arg)\n",
    "\n",
    "my_function(1, 2, 3)  # Output: 1, 2, 3\n"
   ]
  },
  {
   "cell_type": "code",
   "execution_count": 26,
   "id": "983ef081",
   "metadata": {},
   "outputs": [
    {
     "name": "stdout",
     "output_type": "stream",
     "text": [
      "name: John\n",
      "age: 30\n",
      "city: New York\n"
     ]
    }
   ],
   "source": [
    "def my_function(**kwargs):\n",
    "    for key, value in kwargs.items():\n",
    "        print(f\"{key}: {value}\")\n",
    "\n",
    "my_function(name='John', age=30, city='New York')  \n",
    "# Output:\n",
    "# name: John\n",
    "# age: 30\n",
    "# city: New York\n"
   ]
  },
  {
   "cell_type": "code",
   "execution_count": 27,
   "id": "ad1710f8",
   "metadata": {},
   "outputs": [
    {
     "name": "stdout",
     "output_type": "stream",
     "text": [
      "1\n",
      "2\n",
      "3\n",
      "name: John\n",
      "age: 30\n"
     ]
    }
   ],
   "source": [
    "def my_function(*args, **kwargs):\n",
    "    for arg in args:\n",
    "        print(arg)\n",
    "    for key, value in kwargs.items():\n",
    "        print(f\"{key}: {value}\")\n",
    "\n",
    "my_function(1, 2, 3, name='John', age=30)\n",
    "# Output:\n",
    "# 1\n",
    "# 2\n",
    "# 3\n",
    "# name: John\n",
    "# age: 30\n"
   ]
  },
  {
   "cell_type": "code",
   "execution_count": 28,
   "id": "cda7df71",
   "metadata": {},
   "outputs": [
    {
     "data": {
      "text/plain": [
       "False"
      ]
     },
     "execution_count": 28,
     "metadata": {},
     "output_type": "execute_result"
    }
   ],
   "source": [
    "\"dkac1961\".isalnum() #Output: True (alphanumeric)\n",
    "\n",
    "\"qbaz#@12\".isalnum() #Output: False"
   ]
  },
  {
   "cell_type": "code",
   "execution_count": 29,
   "id": "b1b92bb0",
   "metadata": {},
   "outputs": [
    {
     "name": "stdout",
     "output_type": "stream",
     "text": [
      "2 10\n"
     ]
    }
   ],
   "source": [
    "p,q =10,2\n",
    "p,q = q,p\n",
    "print(p,q)"
   ]
  },
  {
   "cell_type": "code",
   "execution_count": 30,
   "id": "564cbdff",
   "metadata": {},
   "outputs": [
    {
     "name": "stdout",
     "output_type": "stream",
     "text": [
      "Original List: [[100, 2, 3], [4, 5, 6], [7, 8, 9]]\n",
      "Shallow Copied List: [[100, 2, 3], [4, 5, 6], [7, 8, 9]]\n",
      "Deep Copied List: [[1, 2, 3], [4, 5, 6], [7, 8, 9]]\n"
     ]
    }
   ],
   "source": [
    "import copy\n",
    "\n",
    "# Original list\n",
    "original_list = [[1, 2, 3], [4, 5, 6], [7, 8, 9]]\n",
    "\n",
    "# Shallow copy\n",
    "shallow_copied_list = copy.copy(original_list)\n",
    "\n",
    "# Deep copy\n",
    "deep_copied_list = copy.deepcopy(original_list)\n",
    "\n",
    "# Modify the original list\n",
    "original_list[0][0] = 100\n",
    "\n",
    "# Output the three lists\n",
    "print(\"Original List:\", original_list)\n",
    "print(\"Shallow Copied List:\", shallow_copied_list)\n",
    "print(\"Deep Copied List:\", deep_copied_list)"
   ]
  },
  {
   "cell_type": "code",
   "execution_count": 31,
   "id": "e82bd859",
   "metadata": {},
   "outputs": [
    {
     "name": "stdout",
     "output_type": "stream",
     "text": [
      "Error occur: someError\n"
     ]
    }
   ],
   "source": [
    "try:\n",
    "    if '1'!= 1:\n",
    "        raise Exception('someError')\n",
    "    else:\n",
    "        print('Error has not occured')\n",
    "except Exception as e:\n",
    "    print(f'Error occur:', e)"
   ]
  },
  {
   "cell_type": "code",
   "execution_count": 32,
   "id": "35026a33",
   "metadata": {},
   "outputs": [
    {
     "name": "stdout",
     "output_type": "stream",
     "text": [
      "Mode of the list: 6\n"
     ]
    }
   ],
   "source": [
    "import statistics\n",
    "\n",
    "# List of numbers\n",
    "numbers = [5, 7, 9, 4, 5, 5, 6, 6, 6, 7, 6]\n",
    "\n",
    "# Calculate the mode\n",
    "mode = statistics.median(numbers)\n",
    "\n",
    "# Print the mode\n",
    "print(\"Mode of the list:\", mode)\n"
   ]
  },
  {
   "cell_type": "markdown",
   "id": "247e75bb",
   "metadata": {},
   "source": [
    "# Write a code to add two integers without using the ‘+’ operator when the numbers are greater than zero."
   ]
  },
  {
   "cell_type": "code",
   "execution_count": 33,
   "id": "42fc6d2c",
   "metadata": {},
   "outputs": [
    {
     "name": "stdout",
     "output_type": "stream",
     "text": [
      "Sum of 10 and 5 is: 15\n"
     ]
    }
   ],
   "source": [
    "def add_without_plus(a, b):\n",
    "    while b != 0:\n",
    "        carry = a & b\n",
    "        a = a ^ b\n",
    "        b = carry << 1\n",
    "    return a\n",
    "\n",
    "# Test the function\n",
    "num1 = 10\n",
    "num2 = 5\n",
    "print(\"Sum of\", num1, \"and\", num2, \"is:\", add_without_plus(num1, num2))\n"
   ]
  },
  {
   "cell_type": "markdown",
   "id": "6012dbda",
   "metadata": {},
   "source": [
    "# Write a code that is given a sequence of numbers and it checks if the numbers are unique."
   ]
  },
  {
   "cell_type": "code",
   "execution_count": 34,
   "id": "32e62591",
   "metadata": {},
   "outputs": [
    {
     "data": {
      "text/plain": [
       "4"
      ]
     },
     "execution_count": 34,
     "metadata": {},
     "output_type": "execute_result"
    }
   ],
   "source": [
    "lst = [1,2,2,4,4,5]\n",
    "len(set(lst))"
   ]
  },
  {
   "cell_type": "markdown",
   "id": "dffed2cb",
   "metadata": {},
   "source": [
    "# Write a program to convert the date format from yyyy-mm-dd to dd-mm-yyyy."
   ]
  },
  {
   "cell_type": "code",
   "execution_count": 35,
   "id": "cbb8d5e8",
   "metadata": {},
   "outputs": [
    {
     "name": "stdout",
     "output_type": "stream",
     "text": [
      "15-03-2022\n"
     ]
    }
   ],
   "source": [
    "from datetime import datetime\n",
    "\n",
    "def convert_date_format(date_str):\n",
    "    # Parse the input date string\n",
    "    date_obj = datetime.strptime(date_str, '%Y-%m-%d')\n",
    "    \n",
    "    # Format the date object in dd-mm-yyyy format\n",
    "    formatted_date = date_obj.strftime('%d-%m-%Y')\n",
    "    \n",
    "    return formatted_date\n",
    "\n",
    "# Example usage\n",
    "date_str = '2022-03-15'\n",
    "converted_date = convert_date_format(date_str)\n",
    "print(converted_date)  "
   ]
  },
  {
   "cell_type": "code",
   "execution_count": 36,
   "id": "e9653013",
   "metadata": {},
   "outputs": [
    {
     "name": "stdout",
     "output_type": "stream",
     "text": [
      "Hello world from Python\n"
     ]
    }
   ],
   "source": [
    "# Define a list of strings\n",
    "my_list = ['Hello', 'world', 'from', 'Python']\n",
    "\n",
    "# Concatenate the elements of the list into a single string\n",
    "single_string = ' '.join(my_list)\n",
    "\n",
    "# Print the result\n",
    "print(single_string)"
   ]
  },
  {
   "cell_type": "markdown",
   "id": "557f70a3",
   "metadata": {},
   "source": [
    "# Write a program to calculate the median in Python using the NumPy arrays."
   ]
  },
  {
   "cell_type": "code",
   "execution_count": 37,
   "id": "9b359cac",
   "metadata": {},
   "outputs": [
    {
     "name": "stdout",
     "output_type": "stream",
     "text": [
      "Median: 5.0\n"
     ]
    }
   ],
   "source": [
    "import numpy as np\n",
    "\n",
    "# Create a NumPy array\n",
    "my_array = np.array([1, 2, 3, 4, 5, 6, 7, 8, 9])\n",
    "\n",
    "# Calculate the median\n",
    "median_value = np.median(my_array)\n",
    "\n",
    "# Print the result\n",
    "print(\"Median:\", median_value)"
   ]
  },
  {
   "cell_type": "code",
   "execution_count": 38,
   "id": "235b095d",
   "metadata": {},
   "outputs": [
    {
     "name": "stdout",
     "output_type": "stream",
     "text": [
      "Median: 5.0\n"
     ]
    }
   ],
   "source": [
    "import numpy as np\n",
    "\n",
    "# Create a NumPy array\n",
    "my_array = np.array([1, 2, 3, 4, 5, 6, 7, 8, 9])\n",
    "\n",
    "# Calculate the median using the 50th percentile\n",
    "median_value = np.percentile(my_array, 50)\n",
    "\n",
    "# Print the result\n",
    "print(\"Median:\", median_value)"
   ]
  },
  {
   "cell_type": "markdown",
   "id": "c31eae0b",
   "metadata": {},
   "source": [
    "# bubble sort problem"
   ]
  },
  {
   "cell_type": "code",
   "execution_count": 39,
   "id": "3bfb67b6",
   "metadata": {},
   "outputs": [
    {
     "name": "stdout",
     "output_type": "stream",
     "text": [
      "Original array: [64, 34, 25, 12, 22, 11]\n",
      "Sorted array: [11, 12, 22, 25, 34, 64]\n"
     ]
    }
   ],
   "source": [
    "def bubble_sort(arr):\n",
    "    n = len(arr)\n",
    "    \n",
    "    # Traverse through all elements in the array\n",
    "    for i in range(n):\n",
    "        # Last i elements are already in place, so we don't need to check them\n",
    "        for j in range(0, n-i-1):\n",
    "            # Swap if the element found is greater than the next element\n",
    "            if arr[j] > arr[j+1]:\n",
    "                arr[j], arr[j+1] = arr[j+1], arr[j]\n",
    "\n",
    "# Test the bubble sort algorithm\n",
    "arr = [64, 34, 25, 12, 22, 11]\n",
    "print(\"Original array:\", arr)\n",
    "\n",
    "bubble_sort(arr)\n",
    "\n",
    "print(\"Sorted array:\", arr)"
   ]
  },
  {
   "cell_type": "code",
   "execution_count": 40,
   "id": "25c7f5ce",
   "metadata": {},
   "outputs": [
    {
     "data": {
      "text/plain": [
       "[11, 12, 22, 25, 25, 34, 64, 90]"
      ]
     },
     "execution_count": 40,
     "metadata": {},
     "output_type": "execute_result"
    }
   ],
   "source": [
    "def arr11(arr):\n",
    "    n= len(arr)\n",
    "    for i in range(n):\n",
    "        for j in range(0,n-i-1):\n",
    "            if arr[j] > arr[j+1]:\n",
    "                arr[j], arr[j+1] = arr[j+1], arr[j]\n",
    "    return arr\n",
    "                \n",
    "arr = [25,64, 34, 25, 12, 22, 11, 90]\n",
    "s = arr11(arr)\n",
    "s"
   ]
  },
  {
   "cell_type": "code",
   "execution_count": 41,
   "id": "59f1f3a9",
   "metadata": {},
   "outputs": [
    {
     "name": "stdout",
     "output_type": "stream",
     "text": [
      "The Euclidean distance between points P(4, 5) and Q(3, 2) is: 3.1622776601683795\n"
     ]
    }
   ],
   "source": [
    "import math\n",
    "\n",
    "# Define the coordinates of points P and Q\n",
    "x1, y1 = 4, 5\n",
    "x2, y2 = 3, 2\n",
    "\n",
    "# Calculate the Euclidean distance\n",
    "distance = math.sqrt((x2 - x1)**2 + (y2 - y1)**2)\n",
    "\n",
    "# Print the result\n",
    "print(\"The Euclidean distance between points P(4, 5) and Q(3, 2) is:\", distance)"
   ]
  },
  {
   "cell_type": "code",
   "execution_count": 42,
   "id": "a7bdb539",
   "metadata": {},
   "outputs": [
    {
     "name": "stdout",
     "output_type": "stream",
     "text": [
      "Shape of x: (10,)\n",
      "Shape of y: (10, 20)\n",
      "Shape of result: (10, 20)\n"
     ]
    }
   ],
   "source": [
    "import numpy as np\n",
    "\n",
    "# Create arrays with shapes (10,) and (10,20)\n",
    "x = np.random.rand(10)\n",
    "y = np.random.rand(10, 20)\n",
    "\n",
    "# Broadcasting statement\n",
    "result = x[:, np.newaxis] + y\n",
    "\n",
    "# Print the shapes of x, y, and the result\n",
    "print(\"Shape of x:\", x.shape)\n",
    "print(\"Shape of y:\", y.shape)\n",
    "print(\"Shape of result:\", result.shape)"
   ]
  },
  {
   "cell_type": "markdown",
   "id": "e06ab951",
   "metadata": {},
   "source": [
    "# Alice has some cards with numbers written on them. She arranges the cards in decreasing order, and lays them out face down in a sequence on a table. She challenges Bob to pick out the card containing a given number by turning over as few cards as possible. Write a function to help Bob locate the card."
   ]
  },
  {
   "cell_type": "code",
   "execution_count": 43,
   "id": "4a1b88a7",
   "metadata": {},
   "outputs": [
    {
     "name": "stdout",
     "output_type": "stream",
     "text": [
      "[9, 7, 5, 2, 1]\n"
     ]
    }
   ],
   "source": [
    "# Sample array\n",
    "arr = [5, 2, 9, 1, 7]\n",
    "\n",
    "# Rearrange in descending order\n",
    "arr.sort(reverse=True)  # For lists\n",
    "# Or\n",
    "arr = sorted(arr, reverse=True)  # For arrays\n",
    "\n",
    "print(arr)"
   ]
  },
  {
   "cell_type": "code",
   "execution_count": 44,
   "id": "43ce196c",
   "metadata": {},
   "outputs": [
    {
     "data": {
      "text/plain": [
       "3"
      ]
     },
     "execution_count": 44,
     "metadata": {},
     "output_type": "execute_result"
    }
   ],
   "source": [
    "def test_location(cards, query, mid):\n",
    "    if cards[mid] == query:\n",
    "        if mid-1 >= 0 and cards[mid-1] == query:\n",
    "            return 'left'\n",
    "        else:\n",
    "            return 'found'\n",
    "    elif cards[mid] < query:\n",
    "        return 'left'\n",
    "    else:\n",
    "        return 'right'\n",
    "\n",
    "def locate_card(cards, query):\n",
    "    lo, hi = 0, len(cards) - 1\n",
    "    while lo <= hi:\n",
    "        mid = (lo + hi) // 2\n",
    "        result = test_location(cards, query, mid)\n",
    "        if result == 'found':\n",
    "            return mid\n",
    "        elif result == 'left':\n",
    "            hi = mid - 1\n",
    "        elif result == 'right':\n",
    "            lo = mid + 1\n",
    "    return -1\n",
    "\n",
    "\n",
    "locate_card(arr,2)\n"
   ]
  },
  {
   "cell_type": "markdown",
   "id": "42e4d244",
   "metadata": {},
   "source": [
    "# calculate factorial"
   ]
  },
  {
   "cell_type": "code",
   "execution_count": 45,
   "id": "a16dbc93",
   "metadata": {},
   "outputs": [
    {
     "name": "stdout",
     "output_type": "stream",
     "text": [
      "The factorial of 5 is 120\n"
     ]
    }
   ],
   "source": [
    "def factorial(n):\n",
    "    if n == 0:\n",
    "        return 1\n",
    "    else:\n",
    "        return n * factorial(n-1)\n",
    "\n",
    "number = 5\n",
    "result = factorial(number)\n",
    "print(\"The factorial of\", number, \"is\", result)\n"
   ]
  },
  {
   "cell_type": "code",
   "execution_count": null,
   "id": "29b3ab1a",
   "metadata": {},
   "outputs": [],
   "source": []
  }
 ],
 "metadata": {
  "kernelspec": {
   "display_name": "Python 3 (ipykernel)",
   "language": "python",
   "name": "python3"
  },
  "language_info": {
   "codemirror_mode": {
    "name": "ipython",
    "version": 3
   },
   "file_extension": ".py",
   "mimetype": "text/x-python",
   "name": "python",
   "nbconvert_exporter": "python",
   "pygments_lexer": "ipython3",
   "version": "3.11.5"
  }
 },
 "nbformat": 4,
 "nbformat_minor": 5
}
