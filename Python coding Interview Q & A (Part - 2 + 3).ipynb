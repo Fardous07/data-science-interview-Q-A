{
 "cells": [
  {
   "cell_type": "markdown",
   "id": "a956bea9",
   "metadata": {},
   "source": [
    "# Please explain how you would build a basic logistic regression model in Python."
   ]
  },
  {
   "cell_type": "markdown",
   "id": "737549b4",
   "metadata": {},
   "source": [
    "build a basic logistic regression model in Python using scikit-learn:\n",
    "\n",
    "Import Libraries: Import the necessary libraries.\n",
    "    \n",
    "      import numpy as np\n",
    "      import pandas as pd\n",
    "      from sklearn.model_selection import train_test_split\n",
    "     from sklearn.linear_model import LogisticRegression\n",
    "     from sklearn.metrics import accuracy_score, classification_report, confusion_matrix\n",
    "\n",
    "Load Data: Load your dataset.\n",
    "    # data = pd.read_csv('your_dataset.csv')\n",
    "\n",
    "Preprocess Data: Preprocess your data if necessary, including handling missing values, encoding categorical variables, and splitting the data into training and testing sets.\n",
    "\n",
    "Build the Logistic Regression Model: Create an instance of the logistic regression model and fit it to your training data.\n",
    "\n",
    "Evaluate the Model: Evaluate the performance of the model using appropriate evaluation metrics."
   ]
  },
  {
   "cell_type": "markdown",
   "id": "2eaf3aed",
   "metadata": {},
   "source": [
    "# Could you name five libraries that programmers use in Python for data analysis?"
   ]
  },
  {
   "cell_type": "markdown",
   "id": "cb487e2a",
   "metadata": {},
   "source": [
    "five popular libraries that programmers use in Python for data analysis:\n",
    "\n",
    "Pandas: Pandas is a powerful library for data manipulation and analysis. It provides data structures like DataFrame and Series, along with functions to manipulate and analyze tabular data efficiently.\n",
    "\n",
    "NumPy: NumPy is a fundamental package for numerical computing in Python. It provides support for large, multi-dimensional arrays and matrices, along with a collection of mathematical functions to operate on these arrays efficiently.\n",
    "\n",
    "Matplotlib: Matplotlib is a plotting library for creating static, interactive, and animated visualizations in Python. It provides a wide variety of plots, including line plots, scatter plots, bar plots, histograms, and more.\n",
    "\n",
    "Seaborn: Seaborn is built on top of Matplotlib and provides a high-level interface for drawing attractive and informative statistical graphics. It simplifies the process of creating complex visualizations and provides support for advanced statistical plotting.\n",
    "\n",
    "Scikit-learn: Scikit-learn is a machine learning library that provides simple and efficient tools for data mining and data analysis. It includes a wide range of machine learning algorithms for classification, regression, clustering, dimensionality reduction, and more, along with tools for model selection and evaluation."
   ]
  },
  {
   "cell_type": "markdown",
   "id": "0abd196f",
   "metadata": {},
   "source": [
    "# What is the advantage of using Seaborn for plotting in Python?"
   ]
  },
  {
   "cell_type": "markdown",
   "id": "385e061b",
   "metadata": {},
   "source": [
    "Seaborn offers several advantages for plotting in Python:\n",
    "\n",
    "High-Level Interface: Seaborn provides a high-level interface for creating attractive and informative statistical graphics. It simplifies the process of creating complex visualizations by abstracting away low-level details, making it easier to generate sophisticated plots with minimal code.\n",
    "\n",
    "Attractive Aesthetics: Seaborn comes with built-in themes and color palettes that enhance the visual appeal of plots. These aesthetics are designed to be visually pleasing and are suitable for both exploratory data analysis and presentation-quality graphics.\n",
    "\n",
    "Statistical Plotting: Seaborn specializes in statistical plotting and provides support for a wide range of statistical plots, including scatter plots, box plots, violin plots, bar plots, and more. It includes functions for visualizing relationships between variables, distributions of data, and patterns in datasets.\n",
    "\n",
    "Integration with Pandas: Seaborn seamlessly integrates with Pandas, a popular library for data manipulation and analysis in Python. It can directly accept Pandas DataFrame objects as input, allowing users to leverage the power of Pandas for data preprocessing and analysis before visualization.\n",
    "\n",
    "Flexibility and Customization: While Seaborn provides convenient default settings for creating attractive plots, it also offers flexibility for customization. Users can easily customize various aspects of the plot, such as colors, styles, labels, and annotations, to suit their specific needs and preferences."
   ]
  },
  {
   "cell_type": "markdown",
   "id": "3340b796",
   "metadata": {},
   "source": [
    "# What built-in data types are used in Python?"
   ]
  },
  {
   "cell_type": "markdown",
   "id": "d4a04bf2",
   "metadata": {},
   "source": [
    "Python uses several built-in data types, including:\n",
    "\n",
    "Number (int, float and complex)\n",
    "\n",
    "String (str)\n",
    "\n",
    "Tuple (tuple)\n",
    "\n",
    "Range (range)\n",
    "\n",
    "List (list)\n",
    "\n",
    "Set (set)\n",
    "\n",
    "Dictionary (dict)\n",
    "\n",
    "In Python, data types are used to classify or categorize data, and every value has a data type."
   ]
  },
  {
   "cell_type": "markdown",
   "id": "bd6888b3",
   "metadata": {},
   "source": [
    "# How are data analysis libraries used in Python? What are some of the most common libraries?"
   ]
  },
  {
   "cell_type": "markdown",
   "id": "dff57625",
   "metadata": {},
   "source": [
    "A key reason Python is such a popular data science programming language is because there is an extensive collection of data analysis libraries available. These libraries include functions, tools and methods for managing and analyzing data. There are Python libraries for performing a wide range of data science functions, including for the processing of image and textual data, data mining and data visualization. The most widely used Python data analysis libraries include:\n",
    "\n",
    "Pandas\n",
    "\n",
    "NumPy\n",
    "\n",
    "SciPy\n",
    "\n",
    "TensorFlow\n",
    "\n",
    "SciKit\n",
    "\n",
    "Seaborn\n",
    "\n",
    "Matplotlib"
   ]
  },
  {
   "cell_type": "markdown",
   "id": "fb1bb084",
   "metadata": {},
   "source": [
    "# What is the difference between lists and tuples in Python?"
   ]
  },
  {
   "cell_type": "markdown",
   "id": "3afdcc80",
   "metadata": {},
   "source": [
    "Lists and tuples are classes in Python that store one or more objects or values. Key differences include:\n",
    "\n",
    "Syntax – Lists are enclosed in square brackets and tuples are enclosed in parentheses.\n",
    "\n",
    "Mutable vs. Immutable – Lists are mutable, which means they can be modified after being created. Tuples are immutable, which means they cannot be modified.\n",
    "\n",
    "Operations – Lists have more functionalities available than tuples, including insert and pop operations, as well as sorting.\n",
    "\n",
    "Size – Because tuples are immutable, they require less memory and are subsequently faster."
   ]
  },
  {
   "cell_type": "markdown",
   "id": "ac93e651",
   "metadata": {},
   "source": [
    "# What library would you prefer for plotting Seaborn or Matplotlib?"
   ]
  },
  {
   "cell_type": "markdown",
   "id": "0cb69f7c",
   "metadata": {},
   "source": [
    "Seaborn and Matplotlib are two of the most popular visualization libraries in Python. One thing to note is that Seaborn is built on top of Matplotlib. However, Seaborn tends to offer more customization, thanks to its built-in tools. Therefore, Seaborn can make the work faster, and you could switch to Matplotlib for fine-tuning."
   ]
  },
  {
   "cell_type": "code",
   "execution_count": 5,
   "id": "27e62ab0",
   "metadata": {},
   "outputs": [
    {
     "data": {
      "image/png": "[encoded data removed]",
      "text/plain": [
       "<Figure size 640x480 with 1 Axes>"
      ]
     },
     "metadata": {},
     "output_type": "display_data"
    }
   ],
   "source": [
    "import seaborn as sns\n",
    "import matplotlib.pyplot as plt\n",
    "import pandas as pd\n",
    "\n",
    "# Sample data\n",
    "data = {\n",
    "    'Math': [75, 80, 65, 90, 70],\n",
    "    'Physics': [85, 90, 70, 95, 75]\n",
    "}\n",
    "\n",
    "# Convert data to DataFrame\n",
    "df = pd.DataFrame(data)\n",
    "\n",
    "# Create scatter plot using Seaborn\n",
    "sns.scatterplot(x='Math', y='Physics', data=df, color='blue', marker='o', s=100)\n",
    "plt.title('Scatter Plot of Math vs Physics Scores (Seaborn)')\n",
    "plt.xlabel('Math Score')\n",
    "plt.ylabel('Physics Score')\n",
    "plt.grid(True)\n",
    "plt.show()"
   ]
  },
  {
   "cell_type": "code",
   "execution_count": 6,
   "id": "8a22e178",
   "metadata": {},
   "outputs": [
    {
     "data": {
      "image/png": "[encoded data removed]",
      "text/plain": [
       "<Figure size 640x480 with 1 Axes>"
      ]
     },
     "metadata": {},
     "output_type": "display_data"
    }
   ],
   "source": [
    "import matplotlib.pyplot as plt\n",
    "\n",
    "# Plot using Matplotlib\n",
    "plt.scatter(df['Math'], df['Physics'], color='blue', marker='o', s=100)\n",
    "plt.title('Scatter Plot of Math vs Physics Scores (Matplotlib)')\n",
    "plt.xlabel('Math Score')\n",
    "plt.ylabel('Physics Score')\n",
    "plt.grid(True)\n",
    "plt.show()"
   ]
  },
  {
   "cell_type": "markdown",
   "id": "5e612bca",
   "metadata": {},
   "source": [
    "#  Is Python an object-oriented programming language?"
   ]
  },
  {
   "cell_type": "markdown",
   "id": "93f74da1",
   "metadata": {},
   "source": [
    "Python is indeed an object-oriented programming (OOP) language, but it also integrates features from other programming paradigms, including procedural and functional programming. While Python supports many OOP principles such as classes, objects, inheritance, and polymorphism, it does have some limitations that prevent it from being considered a purely OOP language.\n",
    "\n",
    "One of the fundamental features of OOP is strong encapsulation, which means hiding the internal state of an object and only exposing selected operations. In languages that fully support strong encapsulation, such as Java or C++, access to object properties is tightly controlled through access modifiers like private, protected, and public.\n",
    "\n",
    "However, in Python, there is no strict enforcement of encapsulation. While it does provide mechanisms for controlling access to object attributes using underscores (e.g., single underscore for protected attributes and double underscore for private attributes), these are conventions rather than strict rules enforced by the language itself. Python allows accessing and modifying object attributes directly from outside the class definition, which deviates from the principle of strong encapsulation."
   ]
  },
  {
   "cell_type": "markdown",
   "id": "adfd02ac",
   "metadata": {},
   "source": [
    "# What is the difference between a series and a dataframe in Pandas?"
   ]
  },
  {
   "cell_type": "markdown",
   "id": "3b5f72c4",
   "metadata": {},
   "source": [
    "Series only support a single list with index, whereas a dataframe supports one or more series. In other words:\n",
    "\n",
    "Series is a one-dimensional array that supports any datatype (including integers, strings, floats, etc.). In a series, the axis labels are the index.\n",
    "\n",
    "A dataframe is a two-dimensional data structure with columns that can support different data types. It is similar to a SQL table or a dictionary of series objects."
   ]
  },
  {
   "cell_type": "markdown",
   "id": "22a19b0d",
   "metadata": {},
   "source": [
    "# How would you find duplicate values in a dataset for a variable in Python?"
   ]
  },
  {
   "cell_type": "code",
   "execution_count": 7,
   "id": "b89e77af",
   "metadata": {},
   "outputs": [
    {
     "name": "stdout",
     "output_type": "stream",
     "text": [
      "   Name  Age\n",
      "2  John   25\n",
      "4  Jane   30\n"
     ]
    }
   ],
   "source": [
    "import pandas as pd\n",
    "\n",
    "# Create a DataFrame\n",
    "data = {'Name': ['John', 'Jane', 'John', 'Alex', 'Jane'],\n",
    "        'Age': [25, 30, 25, 35, 30]}\n",
    "df = pd.DataFrame(data)\n",
    "\n",
    "# Check for duplicate values in the 'Name' column\n",
    "duplicates = df.duplicated(subset='Name')\n",
    "\n",
    "# Print the duplicate rows\n",
    "print(df[duplicates])"
   ]
  },
  {
   "cell_type": "code",
   "execution_count": 9,
   "id": "54f39039",
   "metadata": {},
   "outputs": [
    {
     "data": {
      "text/plain": [
       "0     True\n",
       "1     True\n",
       "2    False\n",
       "3    False\n",
       "4    False\n",
       "dtype: bool"
      ]
     },
     "execution_count": 9,
     "metadata": {},
     "output_type": "execute_result"
    }
   ],
   "source": [
    "df.duplicated(subset=None,keep='last')"
   ]
  },
  {
   "cell_type": "markdown",
   "id": "fadde452",
   "metadata": {},
   "source": [
    "#  What is a lambda function in Python?"
   ]
  },
  {
   "cell_type": "markdown",
   "id": "cb6c1bfc",
   "metadata": {},
   "source": [
    "Sometimes called an “anonymous function,” the lambda function is just like a normal function but is not defined with the keyword. They are defined with the keyword. Lambda functions are restricted to a single line expression, and can take in multiple parameters, just like normal functions.\n",
    "\n",
    "Here is an example of both normal and lambda functions for the argument (x) and the expression (x+x)"
   ]
  },
  {
   "cell_type": "code",
   "execution_count": 12,
   "id": "237bf4f7",
   "metadata": {},
   "outputs": [],
   "source": [
    "def function_name(x):\n",
    "    return x+x"
   ]
  },
  {
   "cell_type": "code",
   "execution_count": 13,
   "id": "7ddc7b01",
   "metadata": {},
   "outputs": [
    {
     "data": {
      "text/plain": [
       "<function __main__.<lambda>(x)>"
      ]
     },
     "execution_count": 13,
     "metadata": {},
     "output_type": "execute_result"
    }
   ],
   "source": [
    "lambda x: x+x"
   ]
  },
  {
   "cell_type": "markdown",
   "id": "71811fb8",
   "metadata": {},
   "source": [
    "# Is memory de-allocated when you exit Python?"
   ]
  },
  {
   "cell_type": "markdown",
   "id": "133eabec",
   "metadata": {},
   "source": [
    "When you exit Python, the memory that Python was using is usually given back to the computer so other programs can use it. Python automatically manages memory, so when you're done with a variable or data, Python takes care of cleaning it up for you. However, if your program doesn't release all the memory it used, some might still be held by the system even after Python exits.\n",
    "\n",
    "No. Modules with circular references to other objects are not always freed. It is also impossible to free some of the memory reserved by the C library"
   ]
  },
  {
   "cell_type": "markdown",
   "id": "9fa1a4fc",
   "metadata": {},
   "source": [
    "# What is a compound datatype?"
   ]
  },
  {
   "cell_type": "markdown",
   "id": "865e2c1b",
   "metadata": {},
   "source": [
    "Compound data structures are single variables that represent multiple values. Some of the most common in Python are:\n",
    "\n",
    "Lists - A collection of values where the order is important.\n",
    "\n",
    "Tuples - A sequence of values where the order is important.\n",
    "\n",
    "Sets - A collection of values where membership in the set is important."
   ]
  },
  {
   "cell_type": "markdown",
   "id": "e390c3fb",
   "metadata": {},
   "source": [
    "# What is list comprehension in Python? Provide an example."
   ]
  },
  {
   "cell_type": "markdown",
   "id": "3383a1e0",
   "metadata": {},
   "source": [
    "List comprehension is used to define and create a list based on an existing list. For example, if we wanted to separate all the letters in the word “retain,” and make each letter a list item, we could use list comprehension:"
   ]
  },
  {
   "cell_type": "code",
   "execution_count": 15,
   "id": "701f7da7",
   "metadata": {},
   "outputs": [
    {
     "name": "stdout",
     "output_type": "stream",
     "text": [
      "['r', 'e', 't', 'a', 'i', 'n']\n"
     ]
    }
   ],
   "source": [
    "r_letters = [ letter for letter in 'retain' ]\n",
    "print( r_letters)"
   ]
  },
  {
   "cell_type": "markdown",
   "id": "2386e3dc",
   "metadata": {},
   "source": [
    "# What is tuple unpacking? Why is it important?"
   ]
  },
  {
   "cell_type": "markdown",
   "id": "b0c1ee87",
   "metadata": {},
   "source": [
    "Tuple unpacking is a technique in Python where you can assign the elements of a tuple to separate variables in a single line of code. It allows you to quickly and conveniently extract individual elements from a tuple without having to access them one by one.\n",
    "\n",
    "Tuple unpacking is important because it makes your code more readable and concise, especially when dealing with functions that return tuples or when iterating over sequences like lists of tuples."
   ]
  },
  {
   "cell_type": "code",
   "execution_count": 16,
   "id": "ce75321d",
   "metadata": {},
   "outputs": [
    {
     "name": "stdout",
     "output_type": "stream",
     "text": [
      "Name: John\n",
      "Age: 30\n",
      "City: New York\n"
     ]
    }
   ],
   "source": [
    "# Define a tuple\n",
    "person = (\"John\", 30, \"New York\")\n",
    "\n",
    "# Unpack the tuple into separate variables\n",
    "name, age, city = person\n",
    "\n",
    "# Now you can use the variables individually\n",
    "print(\"Name:\", name)\n",
    "print(\"Age:\", age)\n",
    "print(\"City:\", city)\n"
   ]
  },
  {
   "cell_type": "markdown",
   "id": "5a43107d",
   "metadata": {},
   "source": [
    "# What’s the difference between / and // in Python?"
   ]
  },
  {
   "cell_type": "markdown",
   "id": "ddbb2a33",
   "metadata": {},
   "source": [
    "Both / and // are division operators. However, / does float division, dividing the first operand by the second. / returns the value in decimal form. // does floor division, dividing the first operand by the second, but returns the value in natural number form."
   ]
  },
  {
   "cell_type": "markdown",
   "id": "d31b8deb",
   "metadata": {},
   "source": [
    "# How do you convert integers to strings?"
   ]
  },
  {
   "cell_type": "markdown",
   "id": "d101fa90",
   "metadata": {},
   "source": [
    "The most common way to convert an integer to a string in Python is with the built-in str() function. This function converts any data type into a string; however, there are other ways you can do this. You can turn to the f-string function, by using “%s” keywords or with the .format function."
   ]
  },
  {
   "cell_type": "code",
   "execution_count": 17,
   "id": "b4bb9789",
   "metadata": {},
   "outputs": [
    {
     "name": "stdout",
     "output_type": "stream",
     "text": [
      "Using str() function: 42\n",
      "Using f-string: 42\n",
      "Using '%' operator: 42\n",
      "Using .format() method: 42\n"
     ]
    }
   ],
   "source": [
    "# Define an integer\n",
    "number = 42\n",
    "\n",
    "# Using the str() function\n",
    "string1 = str(number)\n",
    "\n",
    "# Using f-string\n",
    "string2 = f\"{number}\"\n",
    "\n",
    "# Using \"%\" operator\n",
    "string3 = \"%s\" % number\n",
    "\n",
    "# Using the .format() method\n",
    "string4 = \"{}\".format(number)\n",
    "\n",
    "# Print the results\n",
    "print(\"Using str() function:\", string1)\n",
    "print(\"Using f-string:\", string2)\n",
    "print(\"Using '%' operator:\", string3)\n",
    "print(\"Using .format() method:\", string4)"
   ]
  },
  {
   "cell_type": "markdown",
   "id": "990f87df",
   "metadata": {},
   "source": [
    "# What are arrays in Python?"
   ]
  },
  {
   "cell_type": "markdown",
   "id": "63f3c747",
   "metadata": {},
   "source": [
    "Arrays store multiple values in one single variable. For example, you could create an array “faang” which included Facebook, Apple, Amazon, Netflix and Google."
   ]
  },
  {
   "cell_type": "code",
   "execution_count": 18,
   "id": "a3e65baa",
   "metadata": {},
   "outputs": [
    {
     "name": "stdout",
     "output_type": "stream",
     "text": [
      "['facebook', 'apple', 'amazon', 'netflix', 'google']\n"
     ]
    }
   ],
   "source": [
    "faang = [\"facebook\", \"apple\", \"amazon\", \"netflix\", \"google\"]\n",
    "print(faang)"
   ]
  },
  {
   "cell_type": "markdown",
   "id": "7aa51bbc",
   "metadata": {},
   "source": [
    "# What’s the difference between mutable and immutable objects?"
   ]
  },
  {
   "cell_type": "markdown",
   "id": "c9315d27",
   "metadata": {},
   "source": [
    "In Python, mutable or immutable refers to whether or not the object’s value can change. Mutable objects can change those values, while immutable objects cannot. Mutable data types include lists, sets, dictionaries and byte arrays. Immutable data types include numeric data types (boolean, float, etc.), strings, frozensets and tuples."
   ]
  },
  {
   "cell_type": "markdown",
   "id": "45911a57",
   "metadata": {},
   "source": [
    "# What are some of the limitations of Python?"
   ]
  },
  {
   "cell_type": "markdown",
   "id": "23ec0c42",
   "metadata": {},
   "source": [
    "Python is limited in a few key ways, including:\n",
    "\n",
    "Speed - Studies have shown that Python is slower than languages like Java and C++. However, there are options to make Python faster, like a custom runtime.\n",
    "\n",
    "V2 vs V3 - Python 2 and Python 3 are incompatible.\n",
    "\n",
    "Mobile development - Python is great for desktop and server applications, but weaker for mobile development.\n",
    "\n",
    "Memory consumption - Python is not great for memory intensive applications."
   ]
  },
  {
   "cell_type": "markdown",
   "id": "28daa504",
   "metadata": {},
   "source": [
    "# Explain the zip() and enumerate() functions."
   ]
  },
  {
   "cell_type": "markdown",
   "id": "4b67406d",
   "metadata": {},
   "source": [
    "The enumerate() function returns the indexes of all items in lists, dictionaries, sets and other iterables. The zip() function combines multiple iterables."
   ]
  },
  {
   "cell_type": "code",
   "execution_count": 23,
   "id": "c45191fa",
   "metadata": {},
   "outputs": [
    {
     "name": "stdout",
     "output_type": "stream",
     "text": [
      "0 apple\n",
      "1 banana\n",
      "2 orange\n"
     ]
    }
   ],
   "source": [
    "# enumerate(): This function adds a counter to an iterable and returns it as an enumerate object. \n",
    "# The enumerate object yields pairs containing a count (from start, which defaults to 0) and \n",
    "# a value obtained from iterating over the iterable.\n",
    "    \n",
    "items = ['apple', 'banana', 'orange']\n",
    "for index, item in enumerate(items):\n",
    "    print(index, item)"
   ]
  },
  {
   "cell_type": "code",
   "execution_count": 21,
   "id": "ed06d40e",
   "metadata": {},
   "outputs": [
    {
     "name": "stdout",
     "output_type": "stream",
     "text": [
      "Alice 25\n",
      "Bob 30\n",
      "Charlie 35\n"
     ]
    }
   ],
   "source": [
    "# zip(): This function takes iterables (such as lists, tuples, etc.) and aggregates them pairwise. \n",
    "#It returns an iterator of tuples where the i-th tuple contains the i-th element from each of the input iterables.\n",
    "\n",
    "names = ['Alice', 'Bob', 'Charlie']\n",
    "ages = [25, 30, 35]\n",
    "for name, age in zip(names, ages):\n",
    "    print(name, age)\n"
   ]
  },
  {
   "cell_type": "markdown",
   "id": "58a612d8",
   "metadata": {},
   "source": [
    "# Define PYTHONPATH."
   ]
  },
  {
   "cell_type": "markdown",
   "id": "e95fa55a",
   "metadata": {},
   "source": [
    "PYTHONPATH is an environment variable that tells the Python interpreter where to locate the module files imported into a program. It's similar to the PATH environment variable, but specifically for Python modules.\n",
    "\n",
    "When Python imports a module, it searches for that module in a list of directories defined by PYTHONPATH. If the module is found in one of these directories, it's imported; otherwise, Python raises an ImportError.\n",
    "\n",
    "PYTHONPATH can include both the standard library directory and additional directories containing user-defined modules or packages. This flexibility allows developers to organize their code in a way that suits their project's needs and make their modules accessible to the Python interpreter."
   ]
  },
  {
   "cell_type": "markdown",
   "id": "b4729842",
   "metadata": {},
   "source": [
    "#  Write a function that can take a string and return a list of bigrams."
   ]
  },
  {
   "cell_type": "code",
   "execution_count": 31,
   "id": "915763ee",
   "metadata": {},
   "outputs": [
    {
     "name": "stdout",
     "output_type": "stream",
     "text": [
      "[('have', 'free'), ('free', 'hours'), ('hours', 'and'), ('and', 'love'), ('love', 'children?')]\n"
     ]
    }
   ],
   "source": [
    "def get_bigrams(sentence):\n",
    "    words = sentence.lower().split()\n",
    "    bigrams = [(words[i], words[i+1]) for i in range(len(words)-1)]\n",
    "    return bigrams\n",
    "\n",
    "sentence = \"Have free hours and love children?\"\n",
    "output = get_bigrams(sentence)\n",
    "print(output)"
   ]
  },
  {
   "cell_type": "markdown",
   "id": "f31c6eb0",
   "metadata": {},
   "source": [
    "# Given two strings A and B, return whether or not A can be shifted some number of times to get B."
   ]
  },
  {
   "cell_type": "code",
   "execution_count": 34,
   "id": "f192de3e",
   "metadata": {},
   "outputs": [
    {
     "name": "stdout",
     "output_type": "stream",
     "text": [
      "True\n",
      "False\n"
     ]
    }
   ],
   "source": [
    "def can_shift(A, B):\n",
    "    if len(A) != len(B):\n",
    "        return False\n",
    "    return B in A + A\n",
    "\n",
    "# Example usage\n",
    "A = 'abcde' # A + A = abcdeabcde\n",
    "B = 'cdeab'\n",
    "print(can_shift(A, B))  # Output: True\n",
    "\n",
    "A = 'abc'   # A + A = abcabc\n",
    "B = 'acb'\n",
    "print(can_shift(A, B))  # Output: False"
   ]
  },
  {
   "cell_type": "markdown",
   "id": "d0b6c939",
   "metadata": {},
   "source": [
    "# Given two strings, string1 and string2, determine if there exists a one to one character mapping between each character of string1 to string2."
   ]
  },
  {
   "cell_type": "code",
   "execution_count": 35,
   "id": "cff2a34e",
   "metadata": {},
   "outputs": [
    {
     "name": "stdout",
     "output_type": "stream",
     "text": [
      "True\n",
      "False\n"
     ]
    }
   ],
   "source": [
    "def has_one_to_one_mapping(string1, string2):\n",
    "    if len(string1) != len(string2):\n",
    "        return False\n",
    "\n",
    "    mapping = {}\n",
    "    mapped_chars = set()\n",
    "\n",
    "    for char1, char2 in zip(string1, string2):\n",
    "        if char1 in mapping:\n",
    "            if mapping[char1] != char2:\n",
    "                return False\n",
    "        else:\n",
    "            if char2 in mapped_chars:\n",
    "                return False\n",
    "            mapping[char1] = char2\n",
    "            mapped_chars.add(char2)\n",
    "\n",
    "    return True\n",
    "\n",
    "# Example usage\n",
    "string1 = \"abc\"\n",
    "string2 = \"def\"\n",
    "print(has_one_to_one_mapping(string1, string2))  # Output: True\n",
    "\n",
    "string1 = \"abc\"\n",
    "string2 = \"dee\"\n",
    "print(has_one_to_one_mapping(string1, string2))  # Output: False"
   ]
  },
  {
   "cell_type": "markdown",
   "id": "5fdd28d6",
   "metadata": {},
   "source": [
    "#  Given a string, return the first recurring character in it, or “None” if there is no recurring character."
   ]
  },
  {
   "cell_type": "code",
   "execution_count": 36,
   "id": "886607b0",
   "metadata": {},
   "outputs": [
    {
     "name": "stdout",
     "output_type": "stream",
     "text": [
      "i\n"
     ]
    }
   ],
   "source": [
    "def find_first_recurring_char(string):\n",
    "    char_set = set()\n",
    "    for char in string:\n",
    "        if char in char_set:\n",
    "            return char\n",
    "        else:\n",
    "            char_set.add(char)\n",
    "    return \"None\"\n",
    "\n",
    "string = \"interviewquery\"\n",
    "result = find_first_recurring_char(string)\n",
    "print(result) "
   ]
  },
  {
   "cell_type": "markdown",
   "id": "e722749a",
   "metadata": {},
   "source": [
    "# Write a function to generate N samples from a normal distribution and plot them on the histogram."
   ]
  },
  {
   "cell_type": "code",
   "execution_count": 42,
   "id": "60e64f65",
   "metadata": {},
   "outputs": [
    {
     "data": {
      "image/png": "[encoded data removed]",
      "text/plain": [
       "<Figure size 640x480 with 1 Axes>"
      ]
     },
     "metadata": {},
     "output_type": "display_data"
    }
   ],
   "source": [
    "import numpy as np\n",
    "import matplotlib.pyplot as plt\n",
    "\n",
    "def generate_and_plot_samples(N):\n",
    "    \n",
    "    samples = np.random.normal(0, 1, N)\n",
    "\n",
    "    # Plot the histogram\n",
    "    plt.hist(samples, bins=20, density = True, alpha=0.5)\n",
    "    plt.xlabel('Value')\n",
    "    plt.ylabel('Frequency')\n",
    "    plt.title('Histogram of Normal Distribution')\n",
    "    plt.show()\n",
    "    \n",
    "generate_and_plot_samples(100)"
   ]
  },
  {
   "cell_type": "code",
   "execution_count": 43,
   "id": "f28d67c1",
   "metadata": {},
   "outputs": [
    {
     "data": {
      "image/png": "[encoded data removed]",
      "text/plain": [
       "<Figure size 640x480 with 2 Axes>"
      ]
     },
     "metadata": {},
     "output_type": "display_data"
    }
   ],
   "source": [
    "import numpy as np\n",
    "import matplotlib.pyplot as plt\n",
    "\n",
    "# Generate 1000 samples from a normal distribution\n",
    "samples = np.random.normal(0, 1, 1000)\n",
    "\n",
    "# Plot the histogram without density normalization\n",
    "plt.subplot(1, 2, 1)\n",
    "plt.hist(samples, bins=20)\n",
    "plt.xlabel('Value')\n",
    "plt.ylabel('Count')\n",
    "plt.title('Histogram without Density Normalization')\n",
    "\n",
    "# Plot the histogram with density normalization\n",
    "plt.subplot(1, 2, 2)\n",
    "plt.hist(samples, bins=20, density=True)\n",
    "plt.xlabel('Value')\n",
    "plt.ylabel('Probability Density')\n",
    "plt.title('Histogram with Density Normalization')\n",
    "\n",
    "# Adjust the layout and display the plot\n",
    "plt.tight_layout()\n",
    "plt.show()"
   ]
  },
  {
   "cell_type": "markdown",
   "id": "5caacf8d",
   "metadata": {},
   "source": [
    "# Write a function that takes in a list of dictionaries with both a key and list of integers, and returns a dictionary with the standard deviation of each list."
   ]
  },
  {
   "cell_type": "code",
   "execution_count": 44,
   "id": "b3c9e642",
   "metadata": {},
   "outputs": [
    {
     "name": "stdout",
     "output_type": "stream",
     "text": [
      "{'list1': 1.118033988749895, 'list2': 14.185710239533304}\n"
     ]
    }
   ],
   "source": [
    "import numpy as np\n",
    "\n",
    "def calculate_standard_deviation(data):\n",
    "    result = {}\n",
    "    for entry in data:\n",
    "        key = entry['key']\n",
    "        values = entry['values']\n",
    "        std_dev = np.std(values)\n",
    "        result[key] = std_dev\n",
    "    return result\n",
    "\n",
    "input = [\n",
    "    {\n",
    "        'key': 'list1',\n",
    "        'values': [4,5,2,3,4,5,2,3],\n",
    "    },\n",
    "    {\n",
    "        'key': 'list2',\n",
    "        'values': [1,1,34,12,40,3,9,7],\n",
    "    }\n",
    "]\n",
    "\n",
    "output = calculate_standard_deviation(input)\n",
    "print(output)  # {'list1': 1.12, 'list2': 14.19}"
   ]
  },
  {
   "cell_type": "markdown",
   "id": "45b191aa",
   "metadata": {},
   "source": [
    "# Given a list of stock prices in ascending order by datetime, write a function that outputs the max profit by buying and selling at a specific interval."
   ]
  },
  {
   "cell_type": "code",
   "execution_count": 48,
   "id": "fbc92b71",
   "metadata": {},
   "outputs": [
    {
     "name": "stdout",
     "output_type": "stream",
     "text": [
      "27\n"
     ]
    }
   ],
   "source": [
    "def max_profit(stock_prices, dts):\n",
    "    min_price = float('inf')\n",
    "    max_profit = 0\n",
    "\n",
    "    for price in stock_prices:\n",
    "        if price < min_price:\n",
    "            min_price = price\n",
    "        potential_profit = price - min_price\n",
    "        if potential_profit > max_profit:\n",
    "            max_profit = potential_profit\n",
    "\n",
    "    return max_profit\n",
    "\n",
    "stock_prices = [10, 5, 20, 32, 25, 12]\n",
    "dts = [\n",
    "    '2019-01-01',\n",
    "    '2019-01-02',\n",
    "    '2019-01-03',\n",
    "    '2019-01-04',\n",
    "    '2019-01-05',\n",
    "    '2019-01-06',\n",
    "]\n",
    "\n",
    "print(max_profit(stock_prices, dts))  # Output: 27"
   ]
  },
  {
   "cell_type": "markdown",
   "id": "a523f6cd",
   "metadata": {},
   "source": [
    "# Amy and Brad take turns rolling a fair six-sided die. Whoever rolls a “6” first, wins the game. Amy starts by rolling first."
   ]
  },
  {
   "cell_type": "markdown",
   "id": "06de6c0d",
   "metadata": {},
   "source": [
    "In the game where Amy and Brad take turns rolling a fair six-sided die, the first person to roll a \"6\" wins. Amy starts by rolling first. Let's calculate the probability of Amy winning on her first roll, as well as on the 3rd and 5th rolls.\n",
    "\n",
    "Probability of Amy winning on her first roll:\n",
    "The probability of Amy winning on her first roll is 1/6, since there is only one outcome out of six possible outcomes where she rolls a \"6\".\n",
    "\n",
    "Probability of Amy winning on the 3rd roll:\n",
    "To calculate the probability of Amy winning on the 3rd roll, we need to consider the outcomes of the previous rolls. Amy can win on the 3rd roll if she does not roll a \"6\" on her first two rolls, and then rolls a \"6\" on her third roll. The probability of not rolling a \"6\" on a single roll is 5/6. Therefore, the probability of Amy winning on the 3rd roll is (5/6) * (5/6) * (1/6) = 25/216.\n",
    "\n",
    "Probability of Amy winning on the 5th roll:\n",
    "Similarly, to calculate the probability of Amy winning on the 5th roll, we need to consider the outcomes of the previous rolls. Amy can win on the 5th roll if she does not roll a \"6\" on her first four rolls, and then rolls a \"6\" on her fifth roll. The probability of not rolling a \"6\" on a single roll is 5/6. Therefore, the probability of Amy winning on the 5th roll is (5/6) * (5/6) * (5/6) * (5/6) * (1/6) = 625/7776."
   ]
  },
  {
   "cell_type": "markdown",
   "id": "072191f9",
   "metadata": {},
   "source": [
    "# Write a function to simulate the overlap of two computing jobs and output an estimated cost.\n",
    "More context. Every night between 7 p.m. and midnight, two computing jobs from two different sources are randomly started, with each job lasting an hour. When the jobs run simultaneously at any point in their computations, they cause a failure in some of the company’s other nightly jobs, resulting in downtime for the company that costs $1,000.\n",
    "\n",
    "The CEO needs a single number representing the annual (365 days) cost of this problem.\n",
    "\n",
    "Hint. We can model this scenario by implementing two random number generators across a spectrum of 0 to 300 minutes, modeling the time in minutes between 7 p.m. and midnight. 5* 60 = 300"
   ]
  },
  {
   "cell_type": "code",
   "execution_count": 50,
   "id": "57de1ace",
   "metadata": {},
   "outputs": [
    {
     "name": "stdout",
     "output_type": "stream",
     "text": [
      "Estimated annual cost: 48180000\n"
     ]
    }
   ],
   "source": [
    "import random\n",
    "\n",
    "def simulate_annual_cost(num_days=365):\n",
    "    total_downtime_cost = 0\n",
    "\n",
    "    for _ in range(num_days):\n",
    "        # Generate random start times for both jobs between 0 and 300 minutes (5 hours)\n",
    "        start_time_job1 = random.randint(0, 300)\n",
    "        start_time_job2 = random.randint(0, 300)\n",
    "\n",
    "        # Check if the jobs overlap\n",
    "        if abs(start_time_job1 - start_time_job2) < 60:\n",
    "            # If there is an overlap, add the downtime cost ($1,000) to the total\n",
    "            total_downtime_cost += 1000\n",
    "\n",
    "    # Calculate the annual cost by multiplying the total downtime cost by the number of days\n",
    "    annual_cost = total_downtime_cost * num_days\n",
    "\n",
    "    return annual_cost\n",
    "\n",
    "# Example usage:\n",
    "annual_cost = simulate_annual_cost()\n",
    "print(\"Estimated annual cost:\", annual_cost)\n"
   ]
  },
  {
   "cell_type": "markdown",
   "id": "9e649edc",
   "metadata": {},
   "source": [
    "# Given a dataset of test scores, write Pandas code to return cumulative bucketed scores of <50, <75, <90, <100."
   ]
  },
  {
   "cell_type": "code",
   "execution_count": 56,
   "id": "419104c7",
   "metadata": {},
   "outputs": [
    {
     "name": "stdout",
     "output_type": "stream",
     "text": [
      "Cumulative bucketed scores:\n",
      "score_bucket\n",
      "<75     3\n",
      "<90     3\n",
      "<50     2\n",
      "<100    2\n",
      "Name: count, dtype: int64\n"
     ]
    }
   ],
   "source": [
    "import pandas as pd\n",
    "\n",
    "data = {\n",
    "    'student_id': [1, 2, 3, 4, 5, 6, 7, 8, 9, 10],\n",
    "    'test_score': [45, 60, 80, 95, 85, 70, 30, 88, 92, 50]\n",
    "}\n",
    "\n",
    "df = pd.DataFrame(data)\n",
    "bins = [0, 50, 75, 90, 100]\n",
    "labels = ['<50', '<75', '<90', '<100']\n",
    "\n",
    "df['score_bucket'] = pd.cut(df['test_score'], bins=bins, labels=labels, right=False)\n",
    "\n",
    "bucket_counts = df['score_bucket'].value_counts()\n",
    "\n",
    "print(\"Cumulative bucketed scores:\")\n",
    "print(bucket_counts)\n"
   ]
  },
  {
   "cell_type": "markdown",
   "id": "a8c84ccf",
   "metadata": {},
   "source": [
    "# Given two dataframes (one with addresses and the other with various cities and states), write a function to create a single dataframe with complete addresses."
   ]
  },
  {
   "cell_type": "code",
   "execution_count": 58,
   "id": "32156793",
   "metadata": {},
   "outputs": [
    {
     "name": "stdout",
     "output_type": "stream",
     "text": [
      "              Complete_Address\n",
      "0    123 Main St, New York, NY\n",
      "1  456 Elm St, Los Angeles, CA\n",
      "2      789 Oak St, Chicago, IL\n"
     ]
    }
   ],
   "source": [
    "import pandas as pd\n",
    "\n",
    "addresses_df = pd.DataFrame({\n",
    "    'Address': ['123 Main St', '456 Elm St', '789 Oak St'],\n",
    "    'City': ['New York', 'Los Angeles', 'Chicago']\n",
    "})\n",
    "\n",
    "city_state_df = pd.DataFrame({\n",
    "    'City': ['New York', 'Los Angeles', 'Chicago'],\n",
    "    'State': ['NY', 'CA', 'IL']\n",
    "})\n",
    "\n",
    "\n",
    "def merge_addresses_and_city_state(addresses_df, city_state_df):\n",
    "    merged_df = pd.merge(addresses_df, city_state_df, on='City', how='left')\n",
    "    \n",
    "    merged_df['Complete_Address'] = merged_df['Address'] + ', ' + merged_df['City'] + ', ' + merged_df['State']\n",
    "    \n",
    "    merged_df = merged_df.drop(columns=['Address', 'City', 'State'])\n",
    "    \n",
    "    return merged_df\n",
    "\n",
    "\n",
    "complete_addresses_df = merge_addresses_and_city_state(addresses_df, city_state_df)\n",
    "print(complete_addresses_df)\n"
   ]
  },
  {
   "cell_type": "markdown",
   "id": "b10bc272",
   "metadata": {},
   "source": [
    "# Given a dataframe of students’ favorite colors and test scores, write a function to select only those rows (students) where their favorite color is green or red and their test grade is above 90."
   ]
  },
  {
   "cell_type": "code",
   "execution_count": 59,
   "id": "1f7f53c8",
   "metadata": {},
   "outputs": [
    {
     "name": "stdout",
     "output_type": "stream",
     "text": [
      "  Student Favorite Color  Test Score\n",
      "1     Bob          Green          92\n",
      "3   David          Green          95\n",
      "4     Eve            Red          91\n"
     ]
    }
   ],
   "source": [
    "import pandas as pd\n",
    "\n",
    "data = {\n",
    "    'Student': ['Alice', 'Bob', 'Charlie', 'David', 'Eve'],\n",
    "    'Favorite Color': ['Blue', 'Green', 'Red', 'Green', 'Red'],\n",
    "    'Test Score': [85, 92, 88, 95, 91]\n",
    "}\n",
    "df = pd.DataFrame(data)\n",
    "\n",
    "# Function to select rows where favorite color is green or red and test score is above 90\n",
    "def select_students(df):\n",
    "    selected_df = df[(df['Favorite Color'].isin(['Green', 'Red'])) & (df['Test Score'] > 90)]\n",
    "    return selected_df\n",
    "\n",
    "selected_students_df = select_students(df)\n",
    "print(selected_students_df)\n"
   ]
  },
  {
   "cell_type": "markdown",
   "id": "fca17d09",
   "metadata": {},
   "source": [
    "# Given a dataframe with rainfall data (day of the week and rainfall inches), write a function to find the median amount of rainfall for the days on which it rained."
   ]
  },
  {
   "cell_type": "code",
   "execution_count": 61,
   "id": "0747d93e",
   "metadata": {},
   "outputs": [
    {
     "name": "stdout",
     "output_type": "stream",
     "text": [
      "Median rainfall on rainy days: 0.4 inches\n"
     ]
    }
   ],
   "source": [
    "import pandas as pd\n",
    "\n",
    "data = {\n",
    "    'Day': ['Monday', 'Tuesday', 'Wednesday', 'Thursday', 'Friday', 'Saturday', 'Sunday'],\n",
    "    'Rainfall (inches)': [0.3, 0.0, 0.5, 0.8, 0.0, 0.0, 0.2]\n",
    "}\n",
    "df = pd.DataFrame(data)\n",
    "\n",
    "# Function to find the median rainfall for the days on which it rained\n",
    "def median_rainfall(df):\n",
    "    rainy_days = df[df['Rainfall (inches)'] > 0]\n",
    "    median_rainfall = rainy_days['Rainfall (inches)'].median()\n",
    "    return median_rainfall\n",
    "\n",
    "\n",
    "median_rainfall_value = median_rainfall(df)\n",
    "print(\"Median rainfall on rainy days:\", median_rainfall_value, \"inches\")\n"
   ]
  },
  {
   "cell_type": "markdown",
   "id": "36b977f5",
   "metadata": {},
   "source": [
    "# You are given a dataframe with prices of cheeses. However, the dataframe is missing values in the price column. Write a function to impute the median price in place of missing values."
   ]
  },
  {
   "cell_type": "code",
   "execution_count": 62,
   "id": "64873863",
   "metadata": {},
   "outputs": [
    {
     "name": "stdout",
     "output_type": "stream",
     "text": [
      "      Cheese  Price\n",
      "0    Cheddar    3.5\n",
      "1      Gouda    3.5\n",
      "2       Brie    4.2\n",
      "3       Feta    2.8\n",
      "4  Camembert    3.5\n"
     ]
    }
   ],
   "source": [
    "import pandas as pd\n",
    "\n",
    "data = {\n",
    "    'Cheese': ['Cheddar', 'Gouda', 'Brie', 'Feta', 'Camembert'],\n",
    "    'Price': [3.5, None, 4.2, 2.8, None]\n",
    "}\n",
    "df = pd.DataFrame(data)\n",
    "\n",
    "def impute_missing_prices(df):\n",
    "    median_price = df['Price'].median()\n",
    "    df['Price'].fillna(median_price, inplace=True)\n",
    "\n",
    "impute_missing_prices(df)\n",
    "\n",
    "print(df)\n"
   ]
  },
  {
   "cell_type": "markdown",
   "id": "bbb9560d",
   "metadata": {},
   "source": [
    "# Given a list of timestamps in sequential order, return a list of lists grouped by week (seven days) using the first timestamp as the starting point."
   ]
  },
  {
   "cell_type": "code",
   "execution_count": 64,
   "id": "dfe39ab8",
   "metadata": {},
   "outputs": [
    {
     "name": "stdout",
     "output_type": "stream",
     "text": [
      "[[datetime.datetime(2024, 1, 1, 0, 0), datetime.datetime(2024, 1, 2, 0, 0), datetime.datetime(2024, 1, 5, 0, 0), datetime.datetime(2024, 1, 7, 0, 0)], [datetime.datetime(2024, 1, 8, 0, 0), datetime.datetime(2024, 1, 14, 0, 0)]]\n"
     ]
    }
   ],
   "source": [
    "from datetime import datetime, timedelta\n",
    "\n",
    "def group_by_week(timestamps):\n",
    "    # Convert timestamps to datetime objects\n",
    "    dates = [datetime.strptime(ts, \"%Y-%m-%d\") for ts in timestamps]\n",
    "\n",
    "    start_date = dates[0]\n",
    "    current_week = []\n",
    "    grouped_weeks = []\n",
    "\n",
    "    for date in dates:\n",
    "        if (date - start_date).days < 7:\n",
    "            current_week.append(date)\n",
    "        else:\n",
    "            grouped_weeks.append(current_week)\n",
    "            current_week = [date]\n",
    "            start_date = date\n",
    "\n",
    "    if current_week:\n",
    "        grouped_weeks.append(current_week)\n",
    "    \n",
    "    return grouped_weeks\n",
    "\n",
    "timestamps = [\"2024-01-01\", \"2024-01-02\", \"2024-01-05\", \"2024-01-07\", \"2024-01-08\", \"2024-01-14\"]\n",
    "grouped_weeks = group_by_week(timestamps)\n",
    "print(grouped_weeks)\n"
   ]
  },
  {
   "cell_type": "markdown",
   "id": "5bb98e7f",
   "metadata": {},
   "source": [
    "# Given two dictionaries (friends_added and friends_removed), write a function to list the pairs of friends with corresponding beginning and ending timestamps."
   ]
  },
  {
   "cell_type": "code",
   "execution_count": 65,
   "id": "a24fcaa8",
   "metadata": {},
   "outputs": [
    {
     "name": "stdout",
     "output_type": "stream",
     "text": [
      "[('Alice', '2024-01-01', '2024-01-06'), ('Bob', '2024-01-02', '2024-01-05')]\n"
     ]
    }
   ],
   "source": [
    "def list_friend_pairs(friends_added, friends_removed):\n",
    "    friend_pairs = []\n",
    "\n",
    "    for friend in friends_added:\n",
    "        if friend in friends_removed:\n",
    "            timestamp_added = friends_added[friend]\n",
    "            timestamp_removed = friends_removed[friend]\n",
    "            friend_pairs.append((friend, timestamp_added, timestamp_removed))\n",
    "\n",
    "    return friend_pairs\n",
    "\n",
    "friends_added = {\"Alice\": \"2024-01-01\", \"Bob\": \"2024-01-02\", \"Charlie\": \"2024-01-03\"}\n",
    "friends_removed = {\"Bob\": \"2024-01-05\", \"David\": \"2024-01-04\", \"Alice\": \"2024-01-06\"}\n",
    "\n",
    "friend_pairs = list_friend_pairs(friends_added, friends_removed)\n",
    "print(friend_pairs)\n"
   ]
  },
  {
   "cell_type": "markdown",
   "id": "5f305ca6",
   "metadata": {},
   "source": [
    "# What is NumPy used for? What are its benefits?"
   ]
  },
  {
   "cell_type": "markdown",
   "id": "0be566a5",
   "metadata": {},
   "source": [
    "NumPy is an open-source library that is used to analyze data, and includes support for Python’s multi-dimensional arrays and matrices. NumPy is used for a variety of mathematical and statistical operations."
   ]
  },
  {
   "cell_type": "markdown",
   "id": "9c883f11",
   "metadata": {},
   "source": [
    "# Compute the inverse of a matrix in NumPy."
   ]
  },
  {
   "cell_type": "code",
   "execution_count": 66,
   "id": "efe37506",
   "metadata": {},
   "outputs": [
    {
     "name": "stdout",
     "output_type": "stream",
     "text": [
      "Original Matrix:\n",
      "[[1 2]\n",
      " [3 4]]\n",
      "\n",
      "Inverse Matrix:\n",
      "[[-2.   1. ]\n",
      " [ 1.5 -0.5]]\n"
     ]
    }
   ],
   "source": [
    "import numpy as np\n",
    "\n",
    "matrix = np.array([[1, 2],\n",
    "                   [3, 4]])\n",
    "\n",
    "# Compute the inverse\n",
    "inverse_matrix = np.linalg.inv(matrix)\n",
    "\n",
    "print(\"Original Matrix:\")\n",
    "print(matrix)\n",
    "\n",
    "print(\"\\nInverse Matrix:\")\n",
    "print(inverse_matrix)\n"
   ]
  },
  {
   "cell_type": "markdown",
   "id": "db42cdd5",
   "metadata": {},
   "source": [
    "# Write a function to return a 5-by-5 matrix that contains the portion of employees employed in each department compared to the total number of employees at each company.\n",
    "More context. Let’s say we have a five-by-five matrix num_employees where each row is a company and each column represents a department. Each cell of the matrix displays the number of employees working in that particular department at each company.\n",
    "\n",
    "To reconstruct the new array, loop through every cell in a department and divide by the total number of employees of the whole company, which is the sum of the whole row."
   ]
  },
  {
   "cell_type": "code",
   "execution_count": 69,
   "id": "3cf3c523",
   "metadata": {},
   "outputs": [
    {
     "name": "stdout",
     "output_type": "stream",
     "text": [
      "Department Portion Matrix:\n",
      "[[0.06666667 0.13333333 0.2        0.26666667 0.33333333]\n",
      " [0.08571429 0.14285714 0.2        0.25714286 0.31428571]\n",
      " [0.1        0.15       0.2        0.25       0.3       ]]\n"
     ]
    }
   ],
   "source": [
    "import numpy as np\n",
    "\n",
    "def compute_department_portion(num_employees):\n",
    "    # Get the total number of employees in each company\n",
    "    total_employees_per_company = np.sum(num_employees, axis=1)\n",
    "    \n",
    "    # Initialize an empty matrix to store the portion of employees in each department\n",
    "    department_portion_matrix = np.zeros_like(num_employees, dtype=float)\n",
    "    \n",
    "    # Loop through each department and company\n",
    "    for company_idx in range(num_employees.shape[0]):\n",
    "        for department_idx in range(num_employees.shape[1]):\n",
    "            # Calculate the portion of employees in the current department\n",
    "            portion = num_employees[company_idx, department_idx] / total_employees_per_company[company_idx]\n",
    "            # Store the portion in the corresponding cell of the matrix\n",
    "            department_portion_matrix[company_idx, department_idx] = portion\n",
    "            \n",
    "    return department_portion_matrix\n",
    "\n",
    "# Example usage\n",
    "num_employees = np.array([[10, 20, 30, 40, 50],\n",
    "                          [15, 25, 35, 45, 55],\n",
    "                          [20, 30, 40, 50, 60]])\n",
    "\n",
    "portion_matrix = compute_department_portion(num_employees)\n",
    "print(\"Department Portion Matrix:\")\n",
    "print(portion_matrix)"
   ]
  },
  {
   "cell_type": "markdown",
   "id": "8e813614",
   "metadata": {},
   "source": [
    "# Given an array filled with random values, write a function rotate_matrix to rotate the array by 90 degrees in the clockwise direction."
   ]
  },
  {
   "cell_type": "code",
   "execution_count": 68,
   "id": "8164779e",
   "metadata": {},
   "outputs": [
    {
     "name": "stdout",
     "output_type": "stream",
     "text": [
      "Original Matrix:\n",
      "[[1 2 3]\n",
      " [4 5 6]\n",
      " [7 8 9]]\n",
      "\n",
      "Rotated Matrix:\n",
      "[[7 4 1]\n",
      " [8 5 2]\n",
      " [9 6 3]]\n"
     ]
    }
   ],
   "source": [
    "import numpy as np\n",
    "\n",
    "def rotate_matrix(matrix):\n",
    "    # Convert the input list to a NumPy array\n",
    "    matrix = np.array(matrix)\n",
    "    # Transpose the matrix\n",
    "    transposed_matrix = np.transpose(matrix)\n",
    "    # Reverse each row of the transposed matrix\n",
    "    rotated_matrix = np.flip(transposed_matrix, axis=1)\n",
    "    return rotated_matrix.tolist()\n",
    "\n",
    "# Example usage\n",
    "original_matrix = [[1, 2, 3],\n",
    "                   [4, 5, 6],\n",
    "                   [7, 8, 9]]\n",
    "\n",
    "rotated_matrix = rotate_matrix(original_matrix)\n",
    "print(\"Original Matrix:\")\n",
    "print(np.array(original_matrix))\n",
    "print(\"\\nRotated Matrix:\")\n",
    "print(np.array(rotated_matrix))"
   ]
  },
  {
   "cell_type": "markdown",
   "id": "7dc0692d",
   "metadata": {},
   "source": [
    "# Write a function shortest_transformation to find the length of the shortest transformation sequence from begin_word to end_word through the elements of word_list."
   ]
  },
  {
   "cell_type": "code",
   "execution_count": 70,
   "id": "aaec822e",
   "metadata": {},
   "outputs": [
    {
     "name": "stdout",
     "output_type": "stream",
     "text": [
      "5\n"
     ]
    }
   ],
   "source": [
    "from collections import deque\n",
    "\n",
    "def is_adjacent(word1, word2):\n",
    "    # Check if two words differ by only one character\n",
    "    diff_count = sum(c1 != c2 for c1, c2 in zip(word1, word2))\n",
    "    return diff_count == 1\n",
    "\n",
    "def shortest_transformation(begin_word, end_word, word_list):\n",
    "    if end_word not in word_list:\n",
    "        return 0\n",
    "    \n",
    "    queue = deque([(begin_word, 1)])  # Start with begin_word and its depth\n",
    "    visited = set([begin_word])        # Set to keep track of visited words\n",
    "\n",
    "    while queue:\n",
    "        current_word, depth = queue.popleft()\n",
    "        if current_word == end_word:\n",
    "            return depth\n",
    "        \n",
    "        for word in word_list:\n",
    "            if is_adjacent(current_word, word) and word not in visited:\n",
    "                queue.append((word, depth + 1))\n",
    "                visited.add(word)\n",
    "    \n",
    "    return 0  # If no transformation sequence found\n",
    "\n",
    "# Example usage\n",
    "begin_word = \"same\"\n",
    "end_word = \"cost\"\n",
    "word_list = [\"same\", \"came\", \"case\", \"cast\", \"lost\", \"last\", \"cost\"]\n",
    "print(shortest_transformation(begin_word, end_word, word_list))  # Output: 5"
   ]
  },
  {
   "cell_type": "markdown",
   "id": "d3600984",
   "metadata": {},
   "source": [
    "# Given a dictionary with keys of letters and values of a list of letters, write a function closest_key to find the key with the input value closest to the beginning of the list."
   ]
  },
  {
   "cell_type": "code",
   "execution_count": 71,
   "id": "0e674051",
   "metadata": {},
   "outputs": [
    {
     "name": "stdout",
     "output_type": "stream",
     "text": [
      "m\n"
     ]
    }
   ],
   "source": [
    "def closest_key(dictionary, value):\n",
    "    min_distance = float('inf')  # Initialize minimum distance to positive infinity\n",
    "    closest_key = None            # Initialize closest key to None\n",
    "\n",
    "    for key, lst in dictionary.items():\n",
    "        if value in lst:\n",
    "            distance = lst.index(value)  # Compute index of value in the list\n",
    "            if distance < min_distance:   # Update closest key if distance is smaller\n",
    "                min_distance = distance\n",
    "                closest_key = key\n",
    "    \n",
    "    return closest_key\n",
    "\n",
    "# Example usage\n",
    "dictionary = {\n",
    "    'a': ['b', 'c', 'e'],\n",
    "    'm': ['c', 'e'],\n",
    "}\n",
    "input_value = 'c'\n",
    "print(closest_key(dictionary, input_value))  # Output: 'm'"
   ]
  },
  {
   "cell_type": "markdown",
   "id": "dfa94873",
   "metadata": {},
   "source": [
    "# Given two strings, string1 and string2, write a function max_substring to return the maximal substring shared by both strings."
   ]
  },
  {
   "cell_type": "code",
   "execution_count": 72,
   "id": "a9a83fe2",
   "metadata": {},
   "outputs": [
    {
     "name": "stdout",
     "output_type": "stream",
     "text": [
      "is\n"
     ]
    }
   ],
   "source": [
    "def max_substring(string1, string2):\n",
    "    m = len(string1)\n",
    "    n = len(string2)\n",
    "    \n",
    "    # Initialize a 2D array to store the lengths of longest common suffixes\n",
    "    lcs = [[0] * (n + 1) for _ in range(m + 1)]\n",
    "    \n",
    "    # Variables to store the length of the longest common substring and its ending index\n",
    "    max_length = 0\n",
    "    end_index = 0\n",
    "    \n",
    "    # Fill the lcs array\n",
    "    for i in range(1, m + 1):\n",
    "        for j in range(1, n + 1):\n",
    "            if string1[i - 1] == string2[j - 1]:\n",
    "                lcs[i][j] = lcs[i - 1][j - 1] + 1\n",
    "                if lcs[i][j] > max_length:\n",
    "                    max_length = lcs[i][j]\n",
    "                    end_index = i\n",
    "            else:\n",
    "                lcs[i][j] = 0\n",
    "    \n",
    "    # Extract the longest common substring\n",
    "    start_index = end_index - max_length\n",
    "    return string1[start_index:end_index]\n",
    "\n",
    "# Example usage\n",
    "string1 = 'mississippi'\n",
    "string2 = 'mossyistheapple'\n",
    "print(max_substring(string1, string2))  # Output: 'iss'"
   ]
  },
  {
   "cell_type": "markdown",
   "id": "4ea5cd20",
   "metadata": {},
   "source": [
    "# Develop a k-means clustering algorithm in Python from the ground up"
   ]
  },
  {
   "cell_type": "code",
   "execution_count": 73,
   "id": "a2f7c3f4",
   "metadata": {},
   "outputs": [
    {
     "name": "stdout",
     "output_type": "stream",
     "text": [
      "[0, 1, 1, 0, 0, 1]\n"
     ]
    }
   ],
   "source": [
    "import numpy as np\n",
    "\n",
    "def distance(point1, point2):\n",
    "    # Calculate the Euclidean distance between two points\n",
    "    return np.sqrt(np.sum((np.array(point1) - np.array(point2))**2))\n",
    "\n",
    "def k_means_clustering(data_points, k, initial_centroids, max_iterations=100):\n",
    "    # Initialize centroids\n",
    "    centroids = np.array(initial_centroids)\n",
    "    \n",
    "    # Number of data points\n",
    "    n = len(data_points)\n",
    "    \n",
    "    for _ in range(max_iterations):\n",
    "        # Assign each data point to the nearest centroid\n",
    "        clusters = []\n",
    "        for point in data_points:\n",
    "            distances = [distance(point, centroid) for centroid in centroids]\n",
    "            cluster_index = np.argmin(distances)\n",
    "            clusters.append(cluster_index)\n",
    "        \n",
    "        # Update centroids\n",
    "        new_centroids = []\n",
    "        for i in range(k):\n",
    "            cluster_points = [data_points[j] for j in range(n) if clusters[j] == i]\n",
    "            if len(cluster_points) > 0:\n",
    "                new_centroids.append(np.mean(cluster_points, axis=0))\n",
    "            else:\n",
    "                # If a cluster is empty, keep the centroid unchanged\n",
    "                new_centroids.append(centroids[i])\n",
    "        \n",
    "        # Check for convergence\n",
    "        if np.allclose(centroids, new_centroids):\n",
    "            break\n",
    "        \n",
    "        centroids = np.array(new_centroids)\n",
    "    \n",
    "    return clusters\n",
    "\n",
    "# Example usage\n",
    "data_points = [(0,0),(3,4),(4,4),(1,0),(0,1),(4,3)]\n",
    "k = 2\n",
    "initial_centroids = [(1,1),(4,5)]\n",
    "\n",
    "print(k_means_clustering(data_points, k, initial_centroids))  # Output: [0, 1, 1, 0, 0, 1]"
   ]
  },
  {
   "cell_type": "markdown",
   "id": "837cb0bf",
   "metadata": {},
   "source": [
    "# What are the key features of Python?"
   ]
  },
  {
   "cell_type": "markdown",
   "id": "c0cc5a01",
   "metadata": {},
   "source": [
    "Python is an interpreted language. That means that, unlike languages like C and its variants, Python does not need to be compiled before it is run. Other interpreted languages include PHP and Ruby.\n",
    "\n",
    "Python is dynamically typed, this means that you don’t need to state the types of variables when you declare them or anything like that. You can do things like x=111 and then x=\"I'm a string\" without error\n",
    "\n",
    "Python is well suited to object orientated programming in that it allows the definition of classes along with composition and inheritance. Python does not have access specifiers (like C++’s public, private).\n",
    "\n",
    "In Python, functions are first-class objects. This means that they can be assigned to variables, returned from other functions and passed into functions. Classes are also first class objects\n",
    "\n",
    "Writing Python code is quick but running it is often slower than compiled languages. Fortunately，Python allows the inclusion of C-based extensions so bottlenecks can be optimized away and often are. The numpy package is a good example of this, it’s really quite quick because a lot of the number-crunching it does isn’t actually done by Python\n",
    "\n",
    "Python finds use in many spheres – web applications, automation, scientific modeling, big data applications and many more. It’s also often used as “glue” code to get other languages and components to play nice. Learn more about Big Data and its applications from the Azure data engineer training course."
   ]
  },
  {
   "cell_type": "markdown",
   "id": "894cda72",
   "metadata": {},
   "source": [
    "# What type of language is python? Programming or scripting?"
   ]
  },
  {
   "cell_type": "markdown",
   "id": "7a4c53d0",
   "metadata": {},
   "source": [
    "Python is capable of scripting, but in general sense, it is considered as a general-purpose programming language."
   ]
  },
  {
   "cell_type": "markdown",
   "id": "b5b0cb5b",
   "metadata": {},
   "source": [
    "# Python an interpreted language. Explain"
   ]
  },
  {
   "cell_type": "markdown",
   "id": "2fc5715c",
   "metadata": {},
   "source": [
    "An interpreted language is a programming language where instructions are executed directly, without the need for prior compilation into machine-level code. Here's an explanation of the key points:\n",
    "\n",
    "\n",
    "Execution Process: In interpreted languages, the source code is read and executed line by line by an interpreter at runtime. The interpreter translates each line of code into machine-readable instructions on the fly and executes them immediately.\n",
    "    \n",
    "\n",
    "No Intermediate Compilation Step: Unlike compiled languages, which require the source code to be translated into machine code by a compiler before execution, interpreted languages skip the compilation step. This means that in interpreted languages, you don't need to generate an executable file before running the program.\n",
    "    \n",
    "\n",
    "Flexibility and Ease of Development: Interpreted languages offer flexibility and ease of development because developers can quickly write and test code without the overhead of compilation. This makes interpreted languages well-suited for tasks like scripting, rapid prototyping, and interactive development.\n",
    "    \n",
    "\n",
    "Platform Independence: Interpreted languages are often platform-independent because they rely on an interpreter to execute code rather than machine-specific binaries. This means that the same code can run on different platforms without modification, as long as an interpreter is available for each platform.\n",
    "    \n",
    "\n",
    "Examples: Common examples of interpreted languages include Python, JavaScript, Ruby, PHP, and Perl. These languages are widely used in web development, scripting, automation, and various other domains where rapid development and flexibility are important."
   ]
  },
  {
   "cell_type": "markdown",
   "id": "d004d3e5",
   "metadata": {},
   "source": [
    "# What is pep 8?"
   ]
  },
  {
   "cell_type": "markdown",
   "id": "8ea3795f",
   "metadata": {},
   "source": [
    "PEP stands for Python Enhancement Proposal. It is a set of rules that specify how to format Python code for maximum readability.\n",
    "\n",
    "PEP 8 is the Python Enhancement Proposal that provides guidelines for writing Python code in a consistent and readable style. It was authored by Guido van Rossum, Barry Warsaw, and Nick Coghlan and released in 2001. PEP 8 is titled \"Style Guide for Python Code\" and is aimed at improving the readability and maintainability of Python code by promoting a uniform coding style across projects.\n",
    "\n",
    "Key aspects of PEP 8 include:\n",
    "\n",
    "Indentation: It recommends using 4 spaces for indentation and avoiding tabs.\n",
    "\n",
    "Line Length: Lines of code should be limited to a maximum of 79 characters, although 72 characters is suggested for docstrings and comments.\n",
    "\n",
    "Whitespace: Use spaces around operators and after commas, but avoid extraneous whitespace.\n",
    "\n",
    "Naming Conventions: Follow naming conventions such as using lowercase for variable names, CapitalizedWords for class names, and UPPERCASE for constants.\n",
    "\n",
    "Comments: Write clear and concise comments to explain the purpose of code blocks, functions, and complex algorithms.\n",
    "\n",
    "Imports: Import modules at the top of the file, and organize imports in the following order: standard library imports, related third-party imports, and local application/library imports.\n",
    "\n",
    "Function and Method Definitions: Use descriptive names for functions and methods, and separate them with two blank lines.\n",
    "\n",
    "Whitespace in Expressions and Statements: Use whitespace to improve readability, but avoid excessive whitespace.\n",
    "\n",
    "Programming Recommendations: Follow best practices such as using built-in functions, list comprehensions, and generator expressions where appropriate."
   ]
  },
  {
   "cell_type": "markdown",
   "id": "6b638867",
   "metadata": {},
   "source": [
    "# What are Python namespaces?"
   ]
  },
  {
   "cell_type": "markdown",
   "id": "ace3c453",
   "metadata": {},
   "source": [
    "A namespace in python refers to the name which is assigned to each object in python. The objects are variables and functions. As each object is created, its name along with space(the address of the outer function in which the object is), gets created.\n",
    "\n",
    "In Python, a namespace is a mapping from names to objects. It's a system that ensures that all the names in a program are unique and can be used without any naming conflicts. Namespaces are crucial for organizing and managing variables, functions, modules, and other objects within a Python program.\n",
    "\n",
    "Python has several types of namespaces:\n",
    "\n",
    "Local Namespace: This namespace contains names that are defined within a function or method. It's created when the function or method is called and is deleted once the function or method completes execution.\n",
    "\n",
    "Global Namespace: This namespace contains names that are defined at the top level of a module or script. It's created when the module is imported or when the script is executed, and it exists until the program terminates.\n",
    "\n",
    "Enclosing Namespace: This namespace is used in nested functions or methods. It contains names defined in the enclosing function or method.\n",
    "\n",
    "Built-in Namespace: This namespace contains names of built-in functions, exceptions, and other objects provided by Python. It's always available and doesn't need to be imported.\n",
    "\n",
    "When you reference a name in Python, the interpreter first searches for it in the local namespace. If it's not found, it looks in the enclosing namespace, then the global namespace, and finally the built-in namespace."
   ]
  },
  {
   "cell_type": "markdown",
   "id": "cfef4168",
   "metadata": {},
   "source": [
    "# What are decorators in Python?\n",
    "\n",
    "Decorators are used to add some design patterns to a function without changing its structure. Decorators generally are defined before the function they are enhancing. To apply a decorator we first define the decorator function. Then we write the function it is applied to and simply add the decorator function above the function it has to be applied to. For this, we use the @ symbol before the decorator."
   ]
  },
  {
   "cell_type": "code",
   "execution_count": 1,
   "id": "dddce8c8",
   "metadata": {},
   "outputs": [
    {
     "name": "stdout",
     "output_type": "stream",
     "text": [
      "Executing function: greet\n",
      "Hello, Alice!\n"
     ]
    }
   ],
   "source": [
    "def log_function_execution(func):\n",
    "    def wrapper(*args, **kwargs):\n",
    "        print(f\"Executing function: {func.__name__}\")\n",
    "        result = func(*args, **kwargs)\n",
    "        return result\n",
    "    return wrapper\n",
    "\n",
    "@log_function_execution\n",
    "def greet(name):\n",
    "    return f\"Hello, {name}!\"\n",
    "\n",
    "print(greet(\"Alice\"))"
   ]
  },
  {
   "cell_type": "markdown",
   "id": "fcdd869b",
   "metadata": {},
   "source": [
    "# What are the common built-in data types in Python?\n",
    "\n",
    "The common built-in data types in python are-\n",
    "\n",
    "Numbers– They include integers, floating-point numbers, and complex numbers. eg. 1, 7.9,3+4i\n",
    "\n",
    "List– An ordered sequence of items is called a list. The elements of a list may belong to different data types. Eg. [5,’market’,2.4]\n",
    "\n",
    "Tuple– It is also an ordered sequence of elements. Unlike lists , tuples are immutable, which means they can’t be changed. Eg. (3,’tool’,1)\n",
    "\n",
    "String– A sequence of characters is called a string. They are declared within single or double-quotes. Eg. “Sana”, ‘She is going to the market’, etc.\n",
    "\n",
    "Set– Sets are a collection of unique items that are not in order. Eg. {7,6,8}\n",
    "\n",
    "Dictionary– A dictionary stores values in key and value pairs where each value can be accessed through its key. The order of items is not important. Eg. {1:’apple’,2:’mango}\n",
    "\n",
    "Boolean– There are 2 boolean values- True and False."
   ]
  },
  {
   "cell_type": "markdown",
   "id": "75568f8f",
   "metadata": {},
   "source": [
    "# What is the difference between .py and .pyc files?\n",
    "\n",
    "The .py files are the python source code files. While the .pyc files contain the bytecode of the python files. .pyc files are created when the code is imported from some other source. The interpreter converts the source .py files to .pyc files which helps by saving time. "
   ]
  },
  {
   "cell_type": "markdown",
   "id": "72cd62f4",
   "metadata": {},
   "source": [
    "# What is slicing in Python?\n",
    "\n",
    "Slicing is used to access parts of sequences like lists, tuples, and strings. The syntax of slicing is-[start:end:step]. The step can be omitted as well. When we write [start:end] this returns all the elements of the sequence from the start (inclusive) till the end-1 element. If the start or end element is negative i, it means the ith element from the end. The step indicates the jump or how many elements have to be skipped. Eg. if there is a list- [1,2,3,4,5,6,7,8]. Then [-1:2:2] will return elements starting from the last element till the third element by printing every second element.i.e. [8,6,4]."
   ]
  },
  {
   "cell_type": "markdown",
   "id": "af771edf",
   "metadata": {},
   "source": [
    "# What are Keywords in Python?\n",
    "\n",
    "Keywords in python are reserved words that have special meaning.They are generally used to define type of variables. Keywords cannot be used for variable or function names. There are following 33 keywords in python-\n",
    "\n",
    "And, Or, Not, If, Elif, Else, For, While, Break, As, Def, Lambda, Pass, Return, True, False, Try, With, Assert, Class, Continue, Del, Except, Finally, From, Global, Import, In, Is, None, Nonlocal, Raise, Yield"
   ]
  },
  {
   "cell_type": "markdown",
   "id": "bb807f74",
   "metadata": {},
   "source": [
    "# What are Literals in Python and explain about different Literals\n",
    "\n",
    "A literal in python source code represents a fixed value for primitive data types. There are 5 types of literals in python-\n",
    "\n",
    "String literals– A string literal is created by assigning some text enclosed in single or double quotes to a variable. To create multiline literals, assign the multiline text enclosed in triple quotes. Eg.name=”Tanya”\n",
    "\n",
    "A character literal– It is created by assigning a single character enclosed in double quotes. Eg. a=’t’\n",
    "\n",
    "Numeric literals include numeric values that can be either integer, floating point value, or a complex number. Eg. a=50\n",
    "\n",
    "Boolean literals– These can be 2 values- either True or False.\n",
    "\n",
    "Literal Collections– These are of 4 types-\n",
    "\n",
    "a) List collections-Eg. a=[1,2,3,’Amit’]\n",
    "\n",
    "b) Tuple literals- Eg. a=(5,6,7,8)\n",
    "\n",
    "c) Dictionary literals- Eg. dict={1: ’apple’, 2: ’mango, 3: ’banana`’}\n",
    "\n",
    "d) Set literals- Eg. {“Tanya”, “Rohit”, “Mohan”}\n",
    "\n",
    "6. Special literal- Python has 1 special literal None which is used to return a null variable."
   ]
  },
  {
   "cell_type": "markdown",
   "id": "ade3fc57",
   "metadata": {},
   "source": [
    "# How to combine dataframes in pandas?\n",
    "The dataframes in python can be combined in the following ways-\n",
    "\n",
    "Concatenating them by stacking the 2 dataframes vertically.\n",
    "\n",
    "Concatenating them by stacking the 2 dataframes horizontally.\n",
    "\n",
    "Combining them on a common column. This is referred to as joining.\n",
    "\n",
    "The concat() function is used to concatenate two dataframes. Its syntax is- pd.concat([dataframe1, dataframe2]).\n",
    "\n",
    "Dataframes are joined together on a common column called a key. When we combine all the rows in dataframe it is union and the join used is outer join. While, when we combine the common rows or intersection, the join used is the inner join. Its syntax is- pd.concat([dataframe1, dataframe2], axis=’axis’, join=’type_of_join)"
   ]
  },
  {
   "cell_type": "markdown",
   "id": "8ec83cf5",
   "metadata": {},
   "source": [
    "# How is memory managed in Python?\n",
    "\n",
    "Memory is managed in Python in the following ways:\n",
    "\n",
    "Memory management in python is managed by Python private heap space. All Python objects and data structures are located in a private heap. The programmer does not have access to this private heap. The python interpreter takes care of this instead.\n",
    "\n",
    "The allocation of heap space for Python objects is done by Python’s memory manager. The core API gives access to some tools for the programmer to code.\n",
    "\n",
    "Python also has an inbuilt garbage collector, which recycles all the unused memory and so that it can be made available to the heap space."
   ]
  },
  {
   "cell_type": "markdown",
   "id": "6fb7666f",
   "metadata": {},
   "source": [
    "# What is namespace in Python?\n",
    "\n",
    "A namespace is a naming system used to make sure that names are unique to avoid naming conflicts."
   ]
  },
  {
   "cell_type": "markdown",
   "id": "eb0c0fbb",
   "metadata": {},
   "source": [
    "# What is PYTHONPATH?\n",
    "\n",
    "It is an environment variable which is used when a module is imported. Whenever a module is imported, PYTHONPATH is also looked up to check for the presence of the imported modules in various directories. The interpreter uses it to determine which module to load."
   ]
  },
  {
   "cell_type": "markdown",
   "id": "1e242d99",
   "metadata": {},
   "source": [
    "# What are python modules? Name some commonly used built-in modules in Python?\n",
    "\n",
    "Python modules are files containing Python code. This code can either be functions classes or variables. A Python module is a .py file containing executable code.\n",
    "\n",
    "Some of the commonly used built-in modules are:\n",
    "\n",
    "os,\n",
    "sys,\n",
    "math,\n",
    "random,\n",
    "data time,\n",
    "JSON"
   ]
  },
  {
   "cell_type": "markdown",
   "id": "4b81dd04",
   "metadata": {},
   "source": [
    "# Is python case sensitive?\n",
    "\n",
    "Yes. Python is a case sensitive language."
   ]
  },
  {
   "cell_type": "markdown",
   "id": "201bb8cf",
   "metadata": {},
   "source": [
    "# What is type conversion in Python?\n",
    "\n",
    "Type conversion refers to the conversion of one data type into another.\n",
    "\n",
    "int() – converts any data type into integer type\n",
    "\n",
    "float() – converts any data type into float type\n",
    "\n",
    "ord() – converts characters into integer\n",
    "\n",
    "hex() – converts integers to hexadecimal\n",
    "\n",
    "oct() – converts integer to octal\n",
    "\n",
    "tuple() – This function is used to convert to a tuple.\n",
    "\n",
    "set() – This function returns the type after converting to set.\n",
    "\n",
    "list() – This function is used to convert any data type to a list type.\n",
    "\n",
    "dict() – This function is used to convert a tuple of order (key, value) into a dictionary.\n",
    "\n",
    "str() – Used to convert integer into a string.\n",
    "\n",
    "complex(real,imag) – This function converts real numbers to complex(real,imag) number."
   ]
  },
  {
   "cell_type": "markdown",
   "id": "0188bb43",
   "metadata": {},
   "source": [
    "# Is indentation required in python?\n",
    "\n",
    "Indentation is necessary for Python. It specifies a block of code. All code within loops, classes, functions, etc is specified within an indented block. It is usually done using four space characters. If your code is not indented necessarily, it will not execute accurately and will throw errors as well."
   ]
  },
  {
   "cell_type": "markdown",
   "id": "cb40eefe",
   "metadata": {},
   "source": [
    "# What is the difference between Python Arrays and lists?\n",
    "Arrays and lists, in Python, have the same way of storing data. But, arrays can hold only a single data type elements whereas lists can hold any data type elements.\n",
    "\n",
    "Python Lists: Lists can contain elements of different data types. Each element can be of any data type, including integers, floats, strings, or even other lists.\n",
    "NumPy Arrays: NumPy arrays are homogeneous, meaning all elements must have the same data type. This makes them more efficient for numerical computations, as operations can be vectorized."
   ]
  },
  {
   "cell_type": "code",
   "execution_count": 8,
   "id": "3856341b",
   "metadata": {},
   "outputs": [
    {
     "name": "stdout",
     "output_type": "stream",
     "text": [
      "Python List: [1, 2, 3, 4, 5]\n",
      "Mixed List: [1, 2.5, 'hello', [4, 5]]\n",
      "NumPy Array: [1 2 3 4 5]\n",
      "NumPy Float Array: [1.  2.5 3.7 4.2 5.9]\n",
      "First element of Python List: 1\n",
      "First element of NumPy Array: 1\n",
      "Python List after appending: [1, 2, 3, 4, 5, 6]\n",
      "NumPy Array after appending: [1 2 3 4 5 6]\n",
      "Python List multiplied by 2: [2, 4, 6, 8, 10, 12]\n",
      "NumPy Array multiplied by 2: [ 2  4  6  8 10 12]\n"
     ]
    }
   ],
   "source": [
    "import numpy as np\n",
    "\n",
    "# Python Lists\n",
    "python_list = [1, 2, 3, 4, 5]  # List of integers\n",
    "mixed_list = [1, 2.5, 'hello', [4, 5]]  # List with mixed data types\n",
    "\n",
    "# NumPy Arrays\n",
    "numpy_array = np.array([1, 2, 3, 4, 5])  # NumPy array of integers\n",
    "numpy_float_array = np.array([1.0, 2.5, 3.7, 4.2, 5.9])  # NumPy array of floats\n",
    "\n",
    "# Print Python Lists\n",
    "print(\"Python List:\", python_list)\n",
    "print(\"Mixed List:\", mixed_list)\n",
    "\n",
    "# Print NumPy Arrays\n",
    "print(\"NumPy Array:\", numpy_array)\n",
    "print(\"NumPy Float Array:\", numpy_float_array)\n",
    "\n",
    "# Accessing elements\n",
    "print(\"First element of Python List:\", python_list[0])\n",
    "print(\"First element of NumPy Array:\", numpy_array[0])\n",
    "\n",
    "# Adding elements\n",
    "python_list.append(6)\n",
    "numpy_array = np.append(numpy_array, 6)\n",
    "\n",
    "print(\"Python List after appending:\", python_list)\n",
    "print(\"NumPy Array after appending:\", numpy_array)\n",
    "\n",
    "# Multiplying elements by 2\n",
    "python_list_times_two = [x * 2 for x in python_list]\n",
    "numpy_array_times_two = numpy_array * 2\n",
    "\n",
    "print(\"Python List multiplied by 2:\", python_list_times_two)\n",
    "print(\"NumPy Array multiplied by 2:\", numpy_array_times_two)"
   ]
  },
  {
   "cell_type": "markdown",
   "id": "e6a67e2d",
   "metadata": {},
   "source": [
    "# What is __init__?\n",
    "\n",
    "__init__ is a method or constructor in Python. This method is automatically called to allocate memory when a new object/ instance of a class is created. All classes have the __init__ method."
   ]
  },
  {
   "cell_type": "markdown",
   "id": "af236a88",
   "metadata": {},
   "source": [
    "# What is self in Python?\n",
    "\n",
    "Self is an instance or an object of a class. In Python, this is explicitly included as the first parameter. However, this is not the case in Java where it’s optional.  It helps to differentiate between the methods and attributes of a class with local variables.\n",
    "\n",
    "The self variable in the init method refers to the newly created object while in other methods, it refers to the object whose method was called."
   ]
  },
  {
   "cell_type": "markdown",
   "id": "80c7aee3",
   "metadata": {},
   "source": [
    "# How does break, continue and pass work?\n",
    "\n",
    "Break:\tAllows loop termination when some condition is met and the control is transferred to the next statement.\n",
    "\n",
    "Continue:\tAllows skipping some part of a loop when some specific condition is met and the control is transferred to the beginning of the loop\n",
    "\n",
    "Pass:\tUsed when you need some block of code syntactically, but you want to skip its execution. This is basically a null operation. Nothing happens when this is executed."
   ]
  },
  {
   "cell_type": "markdown",
   "id": "c3c1c621",
   "metadata": {},
   "source": [
    "# What does [::-1} do?\n",
    "\n",
    "[::-1] is used to reverse the order of an array or a sequence."
   ]
  },
  {
   "cell_type": "markdown",
   "id": "5060d256",
   "metadata": {},
   "source": [
    "# How do you write comments in python?\n",
    "\n",
    "Comments in Python start with a # character. However, alternatively at times, commenting is done using docstrings(strings enclosed within triple quotes)."
   ]
  },
  {
   "cell_type": "markdown",
   "id": "90d590bd",
   "metadata": {},
   "source": [
    "# What is pickling and unpickling?\n",
    "\n",
    "Pickle module accepts any Python object and converts it into a string representation and dumps it into a file by using dump function, this process is called pickling. While the process of retrieving original Python objects from the stored string representation is called unpickling.\n",
    "\n",
    "Pickling: Pickling is the process of converting a Python object into a byte stream, which can be saved to a file or sent over a network. This byte stream contains all the information necessary to reconstruct the object in its original form. Pickling is done using the pickle module in Python.\n",
    "\n",
    "Unpickling: Unpickling is the process of converting a byte stream (previously pickled using the pickle module) back into a Python object. This allows the object to be reconstructed and used within a Python program."
   ]
  },
  {
   "cell_type": "code",
   "execution_count": 10,
   "id": "35a46f87",
   "metadata": {},
   "outputs": [
    {
     "name": "stdout",
     "output_type": "stream",
     "text": [
      "{'name': 'John', 'age': 30, 'city': 'New York'}\n"
     ]
    }
   ],
   "source": [
    "import pickle\n",
    "\n",
    "# Pickling: Serialize a Python object\n",
    "data = {'name': 'John', 'age': 30, 'city': 'New York'}\n",
    "with open('data.pkl', 'wb') as f:\n",
    "    pickle.dump(data, f)\n",
    "\n",
    "# Unpickling: Deserialize the pickled object\n",
    "with open('data.pkl', 'rb') as f:\n",
    "    loaded_data = pickle.load(f)\n",
    "\n",
    "print(loaded_data)  # Output: {'name': 'John', 'age': 30, 'city': 'New York'}"
   ]
  },
  {
   "cell_type": "markdown",
   "id": "edc6992b",
   "metadata": {},
   "source": [
    "# What are the generators in python?\n",
    "\n",
    "Generators in Python are functions that can be used to create iterators, which can generate a sequence of values lazily, one at a time, rather than storing all the values in memory at once. This lazy evaluation makes generators memory-efficient and allows them to handle large data sets efficiently.\n",
    "\n",
    "Generators are defined using the yield keyword instead of return. When a generator function is called, it returns a generator object, which can then be iterated over using a for loop or by calling the next() function on it."
   ]
  },
  {
   "cell_type": "markdown",
   "id": "fee9f623",
   "metadata": {},
   "source": [
    "# How will you capitalize the first letter of string?\n",
    "\n",
    "In Python, the capitalize() method capitalizes the first letter of a string. If the string already consists of a capital letter at the beginning, then, it returns the original string."
   ]
  },
  {
   "cell_type": "markdown",
   "id": "84112248",
   "metadata": {},
   "source": [
    "# How will you convert a string to all lowercase?\n",
    "\n",
    "To convert a string to lowercase, lower() function can be used."
   ]
  },
  {
   "cell_type": "markdown",
   "id": "da2157ab",
   "metadata": {},
   "source": [
    "# How to comment multiple lines in python?\n",
    "\n",
    "Multi-line comments appear in more than one line. All the lines to be commented are to be prefixed by a #. You can also a very good shortcut method to comment multiple lines. All you need to do is hold the ctrl key and left click in every place wherever you want to include a # character and type a # just once. This will comment all the lines where you introduced your cursor."
   ]
  },
  {
   "cell_type": "markdown",
   "id": "e7e2955f",
   "metadata": {},
   "source": [
    "# What is the purpose of ‘is’, ‘not’ and ‘in’ operators?\n",
    "\n",
    "Operators are special functions. They take one or more values and produce a corresponding result.\n",
    "\n",
    "is: returns true when 2 operands are true  (Example: “a” is ‘a’)\n",
    "\n",
    "not: returns the inverse of the boolean value\n",
    "\n",
    "in: checks if some element is present in some sequence"
   ]
  },
  {
   "cell_type": "markdown",
   "id": "29a0209b",
   "metadata": {},
   "source": [
    "# What is the usage of help() and dir() function in Python?\n",
    "\n",
    "help(): The help() function is used to get information about Python objects like modules, functions, classes, methods, keywords, etc. It displays documentation strings (docstrings) associated with objects, providing details about their purpose, usage, parameters, and more. When called without arguments, help() starts an interactive help utility. You can pass any object or module name as an argument to help() to get information about that object.\n",
    "\n",
    "dir(): The dir() function returns a list of valid attributes and methods of an object. When called without arguments, dir() returns a list of names in the current local scope. If you pass an object as an argument, dir() returns a list of attributes and methods associated with that object. It's useful for introspection and discovering what operations can be performed on an object."
   ]
  },
  {
   "cell_type": "code",
   "execution_count": 11,
   "id": "2d0d8ed4",
   "metadata": {},
   "outputs": [
    {
     "name": "stdout",
     "output_type": "stream",
     "text": [
      "Help on built-in function print in module builtins:\n",
      "\n",
      "print(*args, sep=' ', end='\\n', file=None, flush=False)\n",
      "    Prints the values to a stream, or to sys.stdout by default.\n",
      "    \n",
      "    sep\n",
      "      string inserted between values, default a space.\n",
      "    end\n",
      "      string appended after the last value, default a newline.\n",
      "    file\n",
      "      a file-like object (stream); defaults to the current sys.stdout.\n",
      "    flush\n",
      "      whether to forcibly flush the stream.\n",
      "\n",
      "Help on class list in module builtins:\n",
      "\n",
      "class list(object)\n",
      " |  list(iterable=(), /)\n",
      " |  \n",
      " |  Built-in mutable sequence.\n",
      " |  \n",
      " |  If no argument is given, the constructor creates a new empty list.\n",
      " |  The argument must be an iterable if specified.\n",
      " |  \n",
      " |  Methods defined here:\n",
      " |  \n",
      " |  __add__(self, value, /)\n",
      " |      Return self+value.\n",
      " |  \n",
      " |  __contains__(self, key, /)\n",
      " |      Return key in self.\n",
      " |  \n",
      " |  __delitem__(self, key, /)\n",
      " |      Delete self[key].\n",
      " |  \n",
      " |  __eq__(self, value, /)\n",
      " |      Return self==value.\n",
      " |  \n",
      " |  __ge__(self, value, /)\n",
      " |      Return self>=value.\n",
      " |  \n",
      " |  __getattribute__(self, name, /)\n",
      " |      Return getattr(self, name).\n",
      " |  \n",
      " |  __getitem__(...)\n",
      " |      x.__getitem__(y) <==> x[y]\n",
      " |  \n",
      " |  __gt__(self, value, /)\n",
      " |      Return self>value.\n",
      " |  \n",
      " |  __iadd__(self, value, /)\n",
      " |      Implement self+=value.\n",
      " |  \n",
      " |  __imul__(self, value, /)\n",
      " |      Implement self*=value.\n",
      " |  \n",
      " |  __init__(self, /, *args, **kwargs)\n",
      " |      Initialize self.  See help(type(self)) for accurate signature.\n",
      " |  \n",
      " |  __iter__(self, /)\n",
      " |      Implement iter(self).\n",
      " |  \n",
      " |  __le__(self, value, /)\n",
      " |      Return self<=value.\n",
      " |  \n",
      " |  __len__(self, /)\n",
      " |      Return len(self).\n",
      " |  \n",
      " |  __lt__(self, value, /)\n",
      " |      Return self<value.\n",
      " |  \n",
      " |  __mul__(self, value, /)\n",
      " |      Return self*value.\n",
      " |  \n",
      " |  __ne__(self, value, /)\n",
      " |      Return self!=value.\n",
      " |  \n",
      " |  __repr__(self, /)\n",
      " |      Return repr(self).\n",
      " |  \n",
      " |  __reversed__(self, /)\n",
      " |      Return a reverse iterator over the list.\n",
      " |  \n",
      " |  __rmul__(self, value, /)\n",
      " |      Return value*self.\n",
      " |  \n",
      " |  __setitem__(self, key, value, /)\n",
      " |      Set self[key] to value.\n",
      " |  \n",
      " |  __sizeof__(self, /)\n",
      " |      Return the size of the list in memory, in bytes.\n",
      " |  \n",
      " |  append(self, object, /)\n",
      " |      Append object to the end of the list.\n",
      " |  \n",
      " |  clear(self, /)\n",
      " |      Remove all items from list.\n",
      " |  \n",
      " |  copy(self, /)\n",
      " |      Return a shallow copy of the list.\n",
      " |  \n",
      " |  count(self, value, /)\n",
      " |      Return number of occurrences of value.\n",
      " |  \n",
      " |  extend(self, iterable, /)\n",
      " |      Extend list by appending elements from the iterable.\n",
      " |  \n",
      " |  index(self, value, start=0, stop=9223372036854775807, /)\n",
      " |      Return first index of value.\n",
      " |      \n",
      " |      Raises ValueError if the value is not present.\n",
      " |  \n",
      " |  insert(self, index, object, /)\n",
      " |      Insert object before index.\n",
      " |  \n",
      " |  pop(self, index=-1, /)\n",
      " |      Remove and return item at index (default last).\n",
      " |      \n",
      " |      Raises IndexError if list is empty or index is out of range.\n",
      " |  \n",
      " |  remove(self, value, /)\n",
      " |      Remove first occurrence of value.\n",
      " |      \n",
      " |      Raises ValueError if the value is not present.\n",
      " |  \n",
      " |  reverse(self, /)\n",
      " |      Reverse *IN PLACE*.\n",
      " |  \n",
      " |  sort(self, /, *, key=None, reverse=False)\n",
      " |      Sort the list in ascending order and return None.\n",
      " |      \n",
      " |      The sort is in-place (i.e. the list itself is modified) and stable (i.e. the\n",
      " |      order of two equal elements is maintained).\n",
      " |      \n",
      " |      If a key function is given, apply it once to each list item and sort them,\n",
      " |      ascending or descending, according to their function values.\n",
      " |      \n",
      " |      The reverse flag can be set to sort in descending order.\n",
      " |  \n",
      " |  ----------------------------------------------------------------------\n",
      " |  Class methods defined here:\n",
      " |  \n",
      " |  __class_getitem__(...) from builtins.type\n",
      " |      See PEP 585\n",
      " |  \n",
      " |  ----------------------------------------------------------------------\n",
      " |  Static methods defined here:\n",
      " |  \n",
      " |  __new__(*args, **kwargs) from builtins.type\n",
      " |      Create and return a new object.  See help(type) for accurate signature.\n",
      " |  \n",
      " |  ----------------------------------------------------------------------\n",
      " |  Data and other attributes defined here:\n",
      " |  \n",
      " |  __hash__ = None\n",
      "\n"
     ]
    }
   ],
   "source": [
    "help(print)\n",
    "help(list)"
   ]
  },
  {
   "cell_type": "code",
   "execution_count": 12,
   "id": "01fbfec1",
   "metadata": {},
   "outputs": [
    {
     "data": {
      "text/plain": [
       "['__add__',\n",
       " '__class__',\n",
       " '__contains__',\n",
       " '__delattr__',\n",
       " '__dir__',\n",
       " '__doc__',\n",
       " '__eq__',\n",
       " '__format__',\n",
       " '__ge__',\n",
       " '__getattribute__',\n",
       " '__getitem__',\n",
       " '__getnewargs__',\n",
       " '__getstate__',\n",
       " '__gt__',\n",
       " '__hash__',\n",
       " '__init__',\n",
       " '__init_subclass__',\n",
       " '__iter__',\n",
       " '__le__',\n",
       " '__len__',\n",
       " '__lt__',\n",
       " '__mod__',\n",
       " '__mul__',\n",
       " '__ne__',\n",
       " '__new__',\n",
       " '__reduce__',\n",
       " '__reduce_ex__',\n",
       " '__repr__',\n",
       " '__rmod__',\n",
       " '__rmul__',\n",
       " '__setattr__',\n",
       " '__sizeof__',\n",
       " '__str__',\n",
       " '__subclasshook__',\n",
       " 'capitalize',\n",
       " 'casefold',\n",
       " 'center',\n",
       " 'count',\n",
       " 'encode',\n",
       " 'endswith',\n",
       " 'expandtabs',\n",
       " 'find',\n",
       " 'format',\n",
       " 'format_map',\n",
       " 'index',\n",
       " 'isalnum',\n",
       " 'isalpha',\n",
       " 'isascii',\n",
       " 'isdecimal',\n",
       " 'isdigit',\n",
       " 'isidentifier',\n",
       " 'islower',\n",
       " 'isnumeric',\n",
       " 'isprintable',\n",
       " 'isspace',\n",
       " 'istitle',\n",
       " 'isupper',\n",
       " 'join',\n",
       " 'ljust',\n",
       " 'lower',\n",
       " 'lstrip',\n",
       " 'maketrans',\n",
       " 'partition',\n",
       " 'removeprefix',\n",
       " 'removesuffix',\n",
       " 'replace',\n",
       " 'rfind',\n",
       " 'rindex',\n",
       " 'rjust',\n",
       " 'rpartition',\n",
       " 'rsplit',\n",
       " 'rstrip',\n",
       " 'split',\n",
       " 'splitlines',\n",
       " 'startswith',\n",
       " 'strip',\n",
       " 'swapcase',\n",
       " 'title',\n",
       " 'translate',\n",
       " 'upper',\n",
       " 'zfill']"
      ]
     },
     "execution_count": 12,
     "metadata": {},
     "output_type": "execute_result"
    }
   ],
   "source": [
    "dir(list)\n",
    "dir(str)"
   ]
  },
  {
   "cell_type": "markdown",
   "id": "85d10f18",
   "metadata": {},
   "source": [
    "# Whenever Python exits, why isn’t all the memory de-allocated?\n",
    "\n",
    "Whenever Python exits, especially those Python modules which are having circular references to other objects or the objects that are referenced from the global namespaces are not always de-allocated or freed.\n",
    "\n",
    "It is impossible to de-allocate those portions of memory that are reserved by the C library.\n",
    "\n",
    "On exit, because of having its own efficient clean up mechanism, Python would try to de-allocate/destroy every other object."
   ]
  },
  {
   "cell_type": "markdown",
   "id": "44f69f7a",
   "metadata": {},
   "source": [
    "# How can the ternary operators be used in python?\n",
    "\n",
    "The Ternary operator is the operator that is used to show the conditional statements. This consists of the true or false values with a statement that has to be evaluated for it."
   ]
  },
  {
   "cell_type": "code",
   "execution_count": 14,
   "id": "de98cc59",
   "metadata": {},
   "outputs": [
    {
     "name": "stdout",
     "output_type": "stream",
     "text": [
      "20\n",
      "Even\n"
     ]
    }
   ],
   "source": [
    "# x if condition else y\n",
    "x = 10\n",
    "y = 20\n",
    "larger_number = x if x > y else y\n",
    "print(larger_number)  # Output: 20\n",
    "\n",
    "is_even = True\n",
    "print(\"Even\" if is_even else \"Odd\")"
   ]
  },
  {
   "cell_type": "markdown",
   "id": "10919e74",
   "metadata": {},
   "source": [
    "# What does this mean: *args, **kwargs? And why would we use it?\n",
    "\n",
    "We use *args when we aren’t sure how many arguments are going to be passed to a function, or if we want to pass a stored list or tuple of arguments to a function. **kwargs is used when we don’t know how many keyword arguments will be passed to a function, or it can be used to pass the values of a dictionary as keyword arguments."
   ]
  },
  {
   "cell_type": "markdown",
   "id": "d0850435",
   "metadata": {},
   "source": [
    "# Explain split(), sub(), subn() methods of “re” module in Python.\n",
    "\n",
    "To modify the strings, Python’s “re” module is providing 3 methods. They are:\n",
    "\n",
    "split() – uses a regex pattern to “split” a given string into a list.\n",
    "\n",
    "sub() – finds all substrings where the regex pattern matches and then replace them with a different string\n",
    "\n",
    "subn() – it is similar to sub() and also returns the new string along with the no. of replacements."
   ]
  },
  {
   "cell_type": "code",
   "execution_count": 15,
   "id": "bd211700",
   "metadata": {},
   "outputs": [
    {
     "name": "stdout",
     "output_type": "stream",
     "text": [
      "['The', 'quick', 'brown', 'fox', 'jumps', 'over', 'the', 'lazy', 'dog']\n"
     ]
    }
   ],
   "source": [
    "import re\n",
    "text = \"The quick brown fox jumps over the lazy dog\"\n",
    "words = re.split(r'\\s+', text)  # Split by whitespace characters\n",
    "print(words)\n",
    "# Output: ['The', 'quick', 'brown', 'fox', 'jumps', 'over', 'the', 'lazy', 'dog']"
   ]
  },
  {
   "cell_type": "code",
   "execution_count": 22,
   "id": "e9742145",
   "metadata": {},
   "outputs": [
    {
     "name": "stdout",
     "output_type": "stream",
     "text": [
      "The quick brown fox jumps **** the **** dog\n"
     ]
    }
   ],
   "source": [
    "import re\n",
    "text = \"The quick brown fox jumps over the lazy dog\"\n",
    "new_text = re.sub(r'\\b\\w{4}\\b', '****', text)  # Replace 4-letter words with ****\n",
    "print(new_text)\n",
    "# Output: 'The quick brown **** jumps over the **** dog'"
   ]
  },
  {
   "cell_type": "code",
   "execution_count": 23,
   "id": "a67d7a9e",
   "metadata": {},
   "outputs": [
    {
     "name": "stdout",
     "output_type": "stream",
     "text": [
      "The quick brown fox jumps **** the **** dog\n",
      "2\n"
     ]
    }
   ],
   "source": [
    "import re\n",
    "text = \"The quick brown fox jumps over the lazy dog\"\n",
    "new_text, num_replacements = re.subn(r'\\b\\w{4}\\b', '****', text)\n",
    "print(new_text)\n",
    "print(num_replacements)\n",
    "# Output:\n",
    "# 'The quick brown **** jumps over the **** dog'\n",
    "# 2"
   ]
  },
  {
   "cell_type": "markdown",
   "id": "a99325eb",
   "metadata": {},
   "source": [
    "# What are negative indexes and why are they used?\n",
    "\n",
    "The sequences in Python are indexed and it consists of the positive as well as negative numbers. The numbers that are positive uses ‘0’ that is uses as first index and ‘1’ as the second index and the process goes on like that.\n",
    "\n",
    "The index for the negative number starts from ‘-1’ that represents the last index in the sequence and ‘-2’ as the penultimate index and the sequence carries forward like the positive number.\n",
    "\n",
    "The negative index is used to remove any new-line spaces from the string and allow the string to except the last character that is given as S[:-1]. The negative index is also used to show the index to represent the string in correct order."
   ]
  },
  {
   "cell_type": "code",
   "execution_count": 25,
   "id": "b8269946",
   "metadata": {},
   "outputs": [
    {
     "name": "stdout",
     "output_type": "stream",
     "text": [
      "!\n",
      "d\n",
      "Hello, World\n"
     ]
    }
   ],
   "source": [
    "string = \"Hello, World!\"\n",
    "last_character = string[-1]  # Accessing the last character\n",
    "penultimate_character = string[-2]  # Accessing the second-to-last character\n",
    "without_last_character = string[:-1]  # Removing the last character\n",
    "print(last_character)\n",
    "print(penultimate_character)\n",
    "print(without_last_character)"
   ]
  },
  {
   "cell_type": "markdown",
   "id": "ec049351",
   "metadata": {},
   "source": [
    "# What are Python packages?\n",
    "\n",
    "Python packages are namespaces containing multiple modules."
   ]
  },
  {
   "cell_type": "markdown",
   "id": "be2338ba",
   "metadata": {},
   "source": [
    "# How can files be deleted in Python?\n",
    "\n",
    "To delete a file in Python, you need to import the OS Module. After that, you need to use the os.remove() function."
   ]
  },
  {
   "cell_type": "markdown",
   "id": "b92d85dc",
   "metadata": {},
   "source": [
    "# What advantages do NumPy arrays offer over (nested) Python lists?\n",
    "\n",
    "Python’s lists are efficient general-purpose containers. They support (fairly) efficient insertion, deletion, appending, and concatenation, and Python’s list comprehensions make them easy to construct and manipulate.\n",
    "\n",
    "They have certain limitations: they don’t support “vectorized” operations like elementwise addition and multiplication, and the fact that they can contain objects of differing types mean that Python must store type information for every element, and must execute type dispatching code when operating on each element.\n",
    "\n",
    "NumPy is not just more efficient; it is also more convenient. You get a lot of vector and matrix operations for free, which sometimes allow one to avoid unnecessary work. And they are also efficiently implemented.\n",
    "\n",
    "NumPy array is faster and You get a lot built in with NumPy, FFTs, convolutions, fast searching, basic statistics, linear algebra, histograms, etc. "
   ]
  },
  {
   "cell_type": "markdown",
   "id": "9e6a039c",
   "metadata": {},
   "source": [
    "# How to add values to a python array?\n",
    "\n",
    "Elements can be added to an array using the append(), extend() and the insert (i,x) functions."
   ]
  },
  {
   "cell_type": "code",
   "execution_count": 28,
   "id": "fbae0fd7",
   "metadata": {},
   "outputs": [
    {
     "name": "stdout",
     "output_type": "stream",
     "text": [
      "[1, 2, 3, 4]\n"
     ]
    }
   ],
   "source": [
    "# adds a single element to the end of the array.\n",
    "my_array = [1, 2, 3]\n",
    "my_array.append(4) \n",
    "print(my_array)  # Output: [1, 2, 3, 4]"
   ]
  },
  {
   "cell_type": "code",
   "execution_count": 29,
   "id": "c808aff3",
   "metadata": {},
   "outputs": [
    {
     "name": "stdout",
     "output_type": "stream",
     "text": [
      "[1, 2, 3, 4, 5, 6]\n"
     ]
    }
   ],
   "source": [
    "# adds multiple elements (from an iterable) to the end of the array.\n",
    "my_array = [1, 2, 3]\n",
    "my_array.extend([4, 5, 6])\n",
    "print(my_array)  # Output: [1, 2, 3, 4, 5, 6]"
   ]
  },
  {
   "cell_type": "code",
   "execution_count": 30,
   "id": "6ee27448",
   "metadata": {},
   "outputs": [
    {
     "name": "stdout",
     "output_type": "stream",
     "text": [
      "[1, 4, 2, 3]\n"
     ]
    }
   ],
   "source": [
    "#  inserts an element at a specified position in the array.\n",
    "my_array = [1, 2, 3]\n",
    "my_array.insert(1, 4)  # Insert 4 at index 1\n",
    "print(my_array)  # Output: [1, 4, 2, 3]"
   ]
  },
  {
   "cell_type": "markdown",
   "id": "7c99550c",
   "metadata": {},
   "source": [
    "# How to remove values to a python array?\n",
    "\n",
    "Array elements can be removed using pop() or remove() method. The difference between these two functions is that the former returns the deleted value whereas the latter does not."
   ]
  },
  {
   "cell_type": "code",
   "execution_count": 33,
   "id": "ffd5ab01",
   "metadata": {},
   "outputs": [
    {
     "name": "stdout",
     "output_type": "stream",
     "text": [
      "3\n",
      "[1, 2, 4, 5]\n"
     ]
    }
   ],
   "source": [
    "my_array = [1, 2, 3, 4, 5]\n",
    "removed_value = my_array.pop(2)  # Remove element at index 2 (value 3)\n",
    "print(removed_value)  # Output: 3\n",
    "print(my_array)  # Output: [1, 2, 4, 5]"
   ]
  },
  {
   "cell_type": "code",
   "execution_count": 34,
   "id": "da748634",
   "metadata": {},
   "outputs": [
    {
     "name": "stdout",
     "output_type": "stream",
     "text": [
      "[1, 2, 4, 5]\n"
     ]
    }
   ],
   "source": [
    "my_array = [1, 2, 3, 4, 5]\n",
    "my_array.remove(3)  # Remove the first occurrence of value 3\n",
    "print(my_array)  # Output: [1, 2, 4, 5]"
   ]
  },
  {
   "cell_type": "markdown",
   "id": "6dde976f",
   "metadata": {},
   "source": [
    "# Does Python have OOps concepts?\n",
    "\n",
    "Python is an object-oriented programming language. This means that any program can be solved in python by creating an object model. However, Python can be treated as a procedural as well as structural language."
   ]
  },
  {
   "cell_type": "markdown",
   "id": "8d55ebb4",
   "metadata": {},
   "source": [
    "# What is the difference between deep and shallow copy?\n",
    "\n",
    "Shallow copy is used when a new instance type gets created and it keeps the values that are copied in the new instance. Shallow copy is used to copy the reference pointers just like it copies the values. These references point to the original objects and the changes made in any member of the class will also affect the original copy of it. Shallow copy allows faster execution of the program and it depends on the size of the data that is used.\n",
    "\n",
    "Deep copy is used to store the values that are already copied. Deep copy doesn’t copy the reference pointers to the objects. It makes the reference to an object and the new object that is pointed by some other object gets stored. The changes made in the original copy won’t affect any other copy that uses the object. Deep copy makes execution of the program slower due to making certain copies for each object that is been called."
   ]
  },
  {
   "cell_type": "code",
   "execution_count": 35,
   "id": "83234f3d",
   "metadata": {},
   "outputs": [
    {
     "name": "stdout",
     "output_type": "stream",
     "text": [
      "Original List: [[100, 2, 3], [4, 5, 6], [7, 8, 9]]\n",
      "Shallow Copy: [[100, 2, 3], [4, 5, 6], [7, 8, 9]]\n",
      "Deep Copy: [[1, 2, 3], [4, 5, 6], [7, 8, 9]]\n"
     ]
    }
   ],
   "source": [
    "import copy\n",
    "\n",
    "# Original list containing nested lists\n",
    "original_list = [[1, 2, 3], [4, 5, 6], [7, 8, 9]]\n",
    "\n",
    "# Shallow copy\n",
    "shallow_copy = copy.copy(original_list)\n",
    "\n",
    "# Deep copy\n",
    "deep_copy = copy.deepcopy(original_list)\n",
    "\n",
    "# Modify the original list\n",
    "original_list[0][0] = 100\n",
    "\n",
    "# Print the copies\n",
    "print(\"Original List:\", original_list)\n",
    "print(\"Shallow Copy:\", shallow_copy)\n",
    "print(\"Deep Copy:\", deep_copy)"
   ]
  },
  {
   "cell_type": "markdown",
   "id": "cd08be6a",
   "metadata": {},
   "source": [
    "# How is Multithreading achieved in Python?\n",
    "\n",
    "Python has a multi-threading package but if you want to multi-thread to speed your code up, then it’s usually not a good idea to use it.\n",
    "\n",
    "Python has a construct called the Global Interpreter Lock (GIL). The GIL makes sure that only one of your ‘threads’ can execute at any one time. A thread acquires the GIL, does a little work, then passes the GIL onto the next thread.\n",
    "\n",
    "This happens very quickly so to the human eye it may seem like your threads are executing in parallel, but they are really just taking turns using the same CPU core.\n",
    "\n",
    "All this GIL passing adds overhead to execution. This means that if you want to make your code run faster then using the threading package often isn’t a good idea."
   ]
  },
  {
   "cell_type": "markdown",
   "id": "79f391dc",
   "metadata": {},
   "source": [
    "# To open a file c:scores.txt for writing, we use\n",
    "\n",
    "a) outfile = open(“c:scores.txt”, “r”)\n",
    "\n",
    "b) outfile = open(“c:scores.txt”, “w”)\n",
    "\n",
    "c) outfile = open(file = “c:scores.txt”, “r”)\n",
    "\n",
    "d) outfile = open(file = “c:scores.txt”, “o”)\n",
    "\n",
    "Answer: b) The location contains double slashes ( ) and w is used to indicate that file is being written to."
   ]
  },
  {
   "cell_type": "markdown",
   "id": "93463930",
   "metadata": {},
   "source": [
    "# Which of the following is an invalid statement?\n",
    "\n",
    "a) abc = 1,000,000\n",
    "\n",
    "b) a b c = 1000 2000 3000\n",
    "\n",
    "c) a,b,c = 1000, 2000, 3000\n",
    "\n",
    "d) a_b_c = 1,000,000\n",
    "\n",
    "Answer: b) a b c = 1000 2000 3000"
   ]
  },
  {
   "cell_type": "markdown",
   "id": "087e3a96",
   "metadata": {},
   "source": [
    "# Why are local variable names beginning with an underscore discouraged?\n",
    "\n",
    "a) they are used to indicate a private variables of a class\n",
    "\n",
    "b) they confuse the interpreter\n",
    "\n",
    "c) they are used to indicate global variables\n",
    "\n",
    "d) they slow down execution\n",
    "\n",
    "Answer: a) they are used to indicate a private variable of a class\n",
    "\n",
    "As Python has no concept of private variables, leading underscores are used to indicate variables that must not be accessed from outside the class."
   ]
  },
  {
   "cell_type": "markdown",
   "id": "93abdafc",
   "metadata": {},
   "source": [
    "# What is the maximum possible length of an identifier?\n",
    "\n",
    "a) 31 characters\n",
    "\n",
    "b) 63 characters\n",
    "\n",
    "c) 79 characters\n",
    "\n",
    "d) None of the above\n",
    "\n",
    "Answer: d) None of the above\n",
    "\n",
    "Identifiers can be of any length."
   ]
  },
  {
   "cell_type": "markdown",
   "id": "0bab6e67",
   "metadata": {},
   "source": [
    "# Which one of these is floor division?\n",
    "\n",
    "a) /\n",
    "\n",
    "b) //\n",
    "\n",
    "c) %\n",
    "\n",
    "d) None of the mentioned\n",
    "\n",
    "Answer: b) //\n",
    "\n",
    "When both of the operands are integer then python chops out the fraction part and gives you the round off value, to get the accurate answer use floor division. For ex, 5/2 = 2.5 but both of the operands are integer so answer of this expression in python is 2. To get the 2.5 as the answer, use floor division using //. So, 5//2 = 2.5"
   ]
  },
  {
   "cell_type": "markdown",
   "id": "17b94cf6",
   "metadata": {},
   "source": [
    "# Which of the following statements create a dictionary? (Multiple Correct Answers Possible)\n",
    "\n",
    "a) d = {}\n",
    "\n",
    "b) d = {“john”:40, “peter”:45}\n",
    "\n",
    "c) d = {40:”john”, 45:”peter”}\n",
    "\n",
    "d) d = (40:”john”, 45:”50”)\n",
    "\n",
    "Answer: b, c & d. "
   ]
  },
  {
   "cell_type": "markdown",
   "id": "36988c6a",
   "metadata": {},
   "source": [
    "# How do you make 3D plots/visualizations using NumPy/SciPy?\n",
    "\n",
    "Like 2D plotting, 3D graphics is beyond the scope of NumPy and SciPy, but just as in the 2D case, packages exist that integrate with NumPy. Matplotlib provides basic 3D plotting in the mplot3d subpackage, whereas Mayavi provides a wide range of high-quality 3D visualization features, utilizing the powerful VTK engine."
   ]
  },
  {
   "cell_type": "markdown",
   "id": "8220e178",
   "metadata": {},
   "source": [
    "# NumPy and SciPy are both popular libraries in Python used for numerical and scientific computing, but they serve slightly different purposes:\n",
    "\n",
    "NumPy (Numerical Python):\n",
    "\n",
    "NumPy is primarily focused on providing support for efficient array operations in Python.\n",
    "It offers a powerful N-dimensional array object (numpy.ndarray) that allows for efficient storage and manipulation of homogeneous data.\n",
    "NumPy provides a wide range of mathematical functions for array manipulation, including basic arithmetic operations, linear algebra, statistical functions, Fourier analysis, and more.\n",
    "It is the foundation for many other libraries in the scientific Python ecosystem, such as SciPy, pandas, and scikit-learn.\n",
    "\n",
    "\n",
    "SciPy (Scientific Python):\n",
    "\n",
    "SciPy builds upon NumPy and provides additional functionality for scientific computing tasks.\n",
    "It includes modules for optimization, integration, interpolation, signal processing, linear algebra, image processing, and more.\n",
    "SciPy provides high-level functions and classes that are built on top of NumPy arrays to perform complex scientific computations efficiently.\n",
    "While NumPy focuses on array manipulation and basic mathematical operations, SciPy extends its capabilities to cover a broader range of scientific and engineering tasks."
   ]
  },
  {
   "cell_type": "markdown",
   "id": "2ca4af7e",
   "metadata": {},
   "source": [
    "#  How do you calculate percentiles with Python/ NumPy?"
   ]
  },
  {
   "cell_type": "code",
   "execution_count": 38,
   "id": "79ae3f29",
   "metadata": {},
   "outputs": [
    {
     "name": "stdout",
     "output_type": "stream",
     "text": [
      "25th percentile (Q1): 3.25\n",
      "Median (50th percentile): 5.5\n",
      "75th percentile (Q3): 7.75\n"
     ]
    }
   ],
   "source": [
    "import numpy as np\n",
    "\n",
    "data = np.array([1, 2, 3, 4, 5, 6, 7, 8, 9, 10])\n",
    "\n",
    "# Calculate the 25th percentile (first quartile)\n",
    "q1 = np.percentile(data, 25)\n",
    "print(\"25th percentile (Q1):\", q1)\n",
    "\n",
    "# Calculate the median (50th percentile)\n",
    "median = np.percentile(data, 50)\n",
    "print(\"Median (50th percentile):\", median)\n",
    "\n",
    "# Calculate the 75th percentile (third quartile)\n",
    "q3 = np.percentile(data, 75)\n",
    "print(\"75th percentile (Q3):\", q3)"
   ]
  },
  {
   "cell_type": "markdown",
   "id": "de19693c",
   "metadata": {},
   "source": [
    "# How to get indices of N maximum values in a NumPy array?"
   ]
  },
  {
   "cell_type": "code",
   "execution_count": 39,
   "id": "5884bbe8",
   "metadata": {},
   "outputs": [
    {
     "name": "stdout",
     "output_type": "stream",
     "text": [
      "Indices of the 3 maximum values: [3 4 1]\n"
     ]
    }
   ],
   "source": [
    "import numpy as np\n",
    "\n",
    "# Example array\n",
    "arr = np.array([1, 3, 2, 5, 4])\n",
    "\n",
    "# Get the indices that would sort the array in descending order\n",
    "sorted_indices = np.argsort(arr)[::-1]\n",
    "\n",
    "# Number of maximum values you want to get\n",
    "N = 3\n",
    "\n",
    "# Get the indices of the N maximum values\n",
    "max_indices = sorted_indices[:N]\n",
    "\n",
    "print(\"Indices of the\", N, \"maximum values:\", max_indices)"
   ]
  },
  {
   "cell_type": "markdown",
   "id": "3c87262d",
   "metadata": {},
   "source": [
    "#  Is python numpy better than lists?\n",
    "\n",
    "We use python numpy array instead of a list because of the below three reasons:\n",
    "\n",
    "Less Memory, \n",
    "Fast, \n",
    "Convenient"
   ]
  },
  {
   "cell_type": "markdown",
   "id": "fc46f81c",
   "metadata": {},
   "source": [
    "# What is map function in Python?\n",
    "\n",
    "map function executes the function given as the first argument on all the elements of the iterable given as the second argument. If the function given takes in more than 1 arguments, then many iterables are given. "
   ]
  },
  {
   "cell_type": "code",
   "execution_count": 42,
   "id": "1810c3da",
   "metadata": {},
   "outputs": [
    {
     "name": "stdout",
     "output_type": "stream",
     "text": [
      "[1, 4, 9, 16, 25]\n"
     ]
    }
   ],
   "source": [
    "# Define a function\n",
    "def square(x):\n",
    "    return x ** 2\n",
    "\n",
    "# Create a list of numbers\n",
    "numbers = [1, 2, 3, 4, 5]\n",
    "\n",
    "# Use map() to apply the square function to each item in the list\n",
    "squared_numbers = map(square, numbers)\n",
    "\n",
    "# Convert the result to a list\n",
    "squared_numbers_list = list(squared_numbers)\n",
    "\n",
    "print(squared_numbers_list)"
   ]
  },
  {
   "cell_type": "markdown",
   "id": "a0f664f5",
   "metadata": {},
   "source": [
    "# You are required to scrap data from IMDb top 250 movies page. It should only have fields movie name, year, and rating."
   ]
  },
  {
   "cell_type": "code",
   "execution_count": 46,
   "id": "a8853ef1",
   "metadata": {},
   "outputs": [],
   "source": [
    "import requests\n",
    "from bs4 import BeautifulSoup\n",
    "\n",
    "def scrape_imdb_top250():\n",
    "    url = \"https://www.imdb.com/chart/top\"\n",
    "    response = requests.get(url)\n",
    "    soup = BeautifulSoup(response.text, 'html.parser')\n",
    "\n",
    "    movie_data = []\n",
    "\n",
    "    for row in soup.select('tbody.lister-list tr'):\n",
    "        title_column = row.select_one('.titleColumn')\n",
    "        movie_name = title_column.a.text\n",
    "        year = title_column.span.text.strip('()')\n",
    "        rating = row.select_one('.imdbRating strong').text\n",
    "\n",
    "        movie_data.append({\n",
    "            'movie_name': movie_name,\n",
    "            'year': year,\n",
    "            'rating': rating\n",
    "        })\n",
    "\n",
    "    return movie_data\n",
    "\n",
    "# Call the function and print the scraped data\n",
    "top250_movies = scrape_imdb_top250()\n",
    "for movie in top250_movies:\n",
    "    print(movie)"
   ]
  },
  {
   "cell_type": "markdown",
   "id": "c3a5c2c7",
   "metadata": {},
   "source": [
    "# How can you Get the Google cache age of any URL or web page?\n",
    "\n",
    "Ans: Use the following URL format:\n",
    "\n",
    "http://webcache.googleusercontent.com/search?q=cache:URLGOESHERE\n",
    "\n",
    "Be sure to replace “URLGOESHERE” with the proper web address of the page or site whose cache you want to retrieve and see the time for. For example, to check the Google Webcache age of edureka.co you’d use the following URL:\n",
    "\n",
    "http://webcache.googleusercontent.com/search?q=cache:edureka.co"
   ]
  },
  {
   "cell_type": "markdown",
   "id": "a6121164",
   "metadata": {},
   "source": [
    "# Write a program in Python to produce Star triangle."
   ]
  },
  {
   "cell_type": "code",
   "execution_count": 52,
   "id": "1fdb63c2",
   "metadata": {},
   "outputs": [
    {
     "name": "stdout",
     "output_type": "stream",
     "text": [
      "        *\n",
      "       ***\n",
      "      *****\n",
      "     *******\n",
      "    *********\n",
      "   ***********\n",
      "  *************\n",
      " ***************\n",
      "*****************\n"
     ]
    }
   ],
   "source": [
    "def pyfunc(r):\n",
    "    for x in range(r):\n",
    "        print(' '*(r-x-1)+'*'*(2*x+1))    \n",
    "pyfunc(9)"
   ]
  },
  {
   "cell_type": "markdown",
   "id": "d5aa5508",
   "metadata": {},
   "source": [
    "# What are Python libraries? Name a few of them.\n",
    "\n",
    "Python libraries are a collection of Python packages. Some of the majorly used python libraries are – Numpy, Pandas, Matplotlib, Scikit-learn and many more."
   ]
  },
  {
   "cell_type": "markdown",
   "id": "fcb86dcc",
   "metadata": {},
   "source": [
    "# Explain Inheritance in Python with an example.\n",
    "\n",
    "Inheritance allows One class to gain all the members(say attributes and methods) of another class. Inheritance provides code reusability, makes it easier to create and maintain an application. The class from which we are inheriting is called super-class and the class that is inherited is called a derived / child class.\n",
    "\n",
    "They are different types of inheritance supported by Python:\n",
    "\n",
    "Single Inheritance – where a derived class acquires the members of a single super class.\n",
    "\n",
    "Multi-level inheritance – a derived class d1 in inherited from base class base1, and d2 are inherited from base2.\n",
    "\n",
    "Hierarchical inheritance – from one base class you can inherit any number of child classes\n",
    "\n",
    "Multiple inheritance – a derived class is inherited from more than one base class."
   ]
  },
  {
   "cell_type": "markdown",
   "id": "28184e95",
   "metadata": {},
   "source": [
    "# Does python support multiple inheritance?\n",
    "\n",
    "Multiple inheritance means that a class can be derived from more than one parent classes. Python does support multiple inheritance, unlike Java."
   ]
  },
  {
   "cell_type": "markdown",
   "id": "26b9aa29",
   "metadata": {},
   "source": [
    "# What is Polymorphism in Python?\n",
    "\n",
    "Polymorphism means the ability to take multiple forms. So, for instance, if the parent class has a method named ABC then the child class also can have a method with the same name ABC having its own parameters and variables. Python allows polymorphism."
   ]
  },
  {
   "cell_type": "markdown",
   "id": "e2554b82",
   "metadata": {},
   "source": [
    "# Define encapsulation in Python?\n",
    "\n",
    "Ans: Encapsulation means binding the code and the data together. A Python class in an example of encapsulation."
   ]
  },
  {
   "cell_type": "code",
   "execution_count": 53,
   "id": "e62dc587",
   "metadata": {},
   "outputs": [
    {
     "name": "stdout",
     "output_type": "stream",
     "text": [
      "Toyota\n",
      "Make: Toyota, Model: Corolla\n"
     ]
    }
   ],
   "source": [
    "class Car:\n",
    "    def __init__(self, make, model):\n",
    "        self.__make = make  # Private data member\n",
    "        self.__model = model  # Private data member\n",
    "\n",
    "    def get_make(self):\n",
    "        return self.__make\n",
    "\n",
    "    def set_model(self, model):\n",
    "        self.__model = model\n",
    "\n",
    "    def display_info(self):\n",
    "        print(f\"Make: {self.__make}, Model: {self.__model}\")\n",
    "\n",
    "\n",
    "car1 = Car(\"Toyota\", \"Camry\")\n",
    "print(car1.get_make())  # Accessing private data member using getter method\n",
    "car1.set_model(\"Corolla\")  # Modifying private data member using setter method\n",
    "car1.display_info()  # Accessing private data members indirectly through a public method"
   ]
  },
  {
   "cell_type": "code",
   "execution_count": null,
   "id": "f598932d",
   "metadata": {},
   "outputs": [],
   "source": []
  }
 ],
 "metadata": {
  "kernelspec": {
   "display_name": "Python 3 (ipykernel)",
   "language": "python",
   "name": "python3"
  },
  "language_info": {
   "codemirror_mode": {
    "name": "ipython",
    "version": 3
   },
   "file_extension": ".py",
   "mimetype": "text/x-python",
   "name": "python",
   "nbconvert_exporter": "python",
   "pygments_lexer": "ipython3",
   "version": "3.11.5"
  }
 },
 "nbformat": 4,
 "nbformat_minor": 5
}
